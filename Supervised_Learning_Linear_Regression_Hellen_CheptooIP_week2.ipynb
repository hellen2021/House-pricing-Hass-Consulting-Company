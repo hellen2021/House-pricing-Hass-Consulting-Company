{
  "nbformat": 4,
  "nbformat_minor": 0,
  "metadata": {
    "colab": {
      "name": "Supervised_Learning_Linear_Regression_Hellen_CheptooIP_week2.ipynb",
      "provenance": [],
      "authorship_tag": "ABX9TyPqJxZyrGJy1hKGSa3oT3Wo",
      "include_colab_link": true
    },
    "kernelspec": {
      "name": "python3",
      "display_name": "Python 3"
    },
    "language_info": {
      "name": "python"
    }
  },
  "cells": [
    {
      "cell_type": "markdown",
      "metadata": {
        "id": "view-in-github",
        "colab_type": "text"
      },
      "source": [
        "<a href=\"https://colab.research.google.com/github/hellen2021/House-pricing-Hass-Consulting-Company/blob/main/Supervised_Learning_Linear_Regression_Hellen_CheptooIP_week2.ipynb\" target=\"_parent\"><img src=\"https://colab.research.google.com/assets/colab-badge.svg\" alt=\"Open In Colab\"/></a>"
      ]
    },
    {
      "cell_type": "markdown",
      "source": [
        "### Import the necessary libraries"
      ],
      "metadata": {
        "id": "Cr_VSFot2Wt2"
      }
    },
    {
      "cell_type": "markdown",
      "source": [
        "### Load data"
      ],
      "metadata": {
        "id": "QW8l1tE52bzP"
      }
    },
    {
      "cell_type": "code",
      "execution_count": null,
      "metadata": {
        "id": "e9CVEmKp2QzI"
      },
      "outputs": [],
      "source": [
        ""
      ]
    }
  ]
}
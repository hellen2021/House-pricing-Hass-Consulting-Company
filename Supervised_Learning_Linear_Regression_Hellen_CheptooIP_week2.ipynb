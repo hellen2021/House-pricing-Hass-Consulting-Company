{
  "nbformat": 4,
  "nbformat_minor": 0,
  "metadata": {
    "colab": {
      "name": "Supervised_Learning_Linear_Regression_Hellen_CheptooIP_week2.ipynb",
      "provenance": [],
      "authorship_tag": "ABX9TyMxONkWuqU8wIda79N7y6yM",
      "include_colab_link": true
    },
    "kernelspec": {
      "name": "python3",
      "display_name": "Python 3"
    },
    "language_info": {
      "name": "python"
    }
  },
  "cells": [
    {
      "cell_type": "markdown",
      "metadata": {
        "id": "view-in-github",
        "colab_type": "text"
      },
      "source": [
        "<a href=\"https://colab.research.google.com/github/hellen2021/House-pricing-Hass-Consulting-Company/blob/main/Supervised_Learning_Linear_Regression_Hellen_CheptooIP_week2.ipynb\" target=\"_parent\"><img src=\"https://colab.research.google.com/assets/colab-badge.svg\" alt=\"Open In Colab\"/></a>"
      ]
    },
    {
      "cell_type": "markdown",
      "source": [
        "# 1. Defining the Question\n",
        "## a) Specifying the Question\n",
        "To study the factors that affect housing prices and creating a model that would allow the company to accurately predict the sale prices.\n",
        "\n",
        "## b) Defining the Metric for Success\n",
        "Create a model that would allow the company to accurately predict the sale of prices upon being provided with the predictor variables.\n",
        "\n",
        "## c) Understanding the context\n",
        "This project is being done on behalf of Hass Consulting Company, a real estate leader with over 25 years of experience. We have been tasked with studying the factors that affect housing; and creating a model that would allow the company to accurately prediact the sale prices.\n",
        "\n",
        "## d) Recording the Experimental Design\n",
        "In this study, I'll be conducting Explorative Data Analysis, i.e Univariate, Bivariate and Multivariate Analysis to get the relationships and differences between different variables.\n",
        "\n",
        "For regression analysis, I'll implement the following regression techniques and compare their performances.\n",
        "\n",
        "1. Multiple Linear Regression\n",
        "2. Quantile Regression\n",
        "3. Ridge Regression\n",
        "4. Lasso Regression\n",
        "5. Elastic Net Regression"
      ],
      "metadata": {
        "id": "tcLTdXXXWUhJ"
      }
    },
    {
      "cell_type": "markdown",
      "source": [
        "### Import the necessary libraries"
      ],
      "metadata": {
        "id": "Cr_VSFot2Wt2"
      }
    },
    {
      "cell_type": "code",
      "source": [
        "#Importing Libraries \n",
        "#\n",
        "\n",
        "import numpy as np\n",
        "import pandas as pd\n",
        "import seaborn as sb\n",
        "import matplotlib.pyplot as plt\n",
        "import seaborn as sns\n",
        "\n",
        "from sklearn.model_selection import train_test_split\n",
        "from sklearn.linear_model import LinearRegression\n",
        "from sklearn import metrics\n",
        "import scipy as sp\n",
        "\n",
        "import statsmodels.api as sm\n",
        "import statsmodels.formula.api as smf\n",
        "from sklearn.model_selection import GridSearchCV\n",
        "from sklearn.linear_model import Ridge, ElasticNet\n",
        "from sklearn.metrics import mean_squared_error\n",
        "\n",
        "from sklearn.linear_model import Lasso\n",
        "from sklearn.datasets import load_boston\n",
        "from sklearn.preprocessing import StandardScaler\n",
        "from sklearn import linear_model\n",
        "from sklearn.preprocessing import StandardScaler, LabelEncoder\n",
        "\n",
        "import warnings\n",
        "warnings.filterwarnings(\"ignore\")"
      ],
      "metadata": {
        "id": "GSge1lp8WiaY"
      },
      "execution_count": 133,
      "outputs": []
    },
    {
      "cell_type": "markdown",
      "source": [
        "### Load data"
      ],
      "metadata": {
        "id": "QW8l1tE52bzP"
      }
    },
    {
      "cell_type": "code",
      "execution_count": 134,
      "metadata": {
        "id": "e9CVEmKp2QzI"
      },
      "outputs": [],
      "source": [
        "dataset_url = 'http://bit.ly/IndependentProjectWeek7Dataset'\n",
        "housing = pd.read_csv(dataset_url)"
      ]
    },
    {
      "cell_type": "markdown",
      "source": [
        "### Preview and explore the dataset"
      ],
      "metadata": {
        "id": "dv8B2kqeWA4w"
      }
    },
    {
      "cell_type": "code",
      "source": [
        "housing.head()"
      ],
      "metadata": {
        "id": "NrTl-kdXWFHR",
        "outputId": "90234cdd-65c6-44b2-d0b7-5db9c0c63af9",
        "colab": {
          "base_uri": "https://localhost:8080/",
          "height": 270
        }
      },
      "execution_count": 135,
      "outputs": [
        {
          "output_type": "execute_result",
          "data": {
            "text/plain": [
              "           id     price  bedrooms  bathrooms  sqft_living  sqft_lot  floors  \\\n",
              "0  7129300520  221900.0         3       1.00         1180      5650     1.0   \n",
              "1  6414100192  538000.0         3       2.25         2570      7242     2.0   \n",
              "2  5631500400  180000.0         2       1.00          770     10000     1.0   \n",
              "3  2487200875  604000.0         4       3.00         1960      5000     1.0   \n",
              "4  1954400510  510000.0         3       2.00         1680      8080     1.0   \n",
              "\n",
              "   waterfront  view  condition  grade  sqft_above  sqft_basement  yr_built  \\\n",
              "0           0     0          3      7        1180              0      1955   \n",
              "1           0     0          3      7        2170            400      1951   \n",
              "2           0     0          3      6         770              0      1933   \n",
              "3           0     0          5      7        1050            910      1965   \n",
              "4           0     0          3      8        1680              0      1987   \n",
              "\n",
              "   yr_renovated  zipcode      lat     long  sqft_living15  sqft_lot15  \n",
              "0             0    98178  47.5112 -122.257           1340        5650  \n",
              "1          1991    98125  47.7210 -122.319           1690        7639  \n",
              "2             0    98028  47.7379 -122.233           2720        8062  \n",
              "3             0    98136  47.5208 -122.393           1360        5000  \n",
              "4             0    98074  47.6168 -122.045           1800        7503  "
            ],
            "text/html": [
              "\n",
              "  <div id=\"df-571961b9-2133-4220-a8f9-22aa9b4f7d34\">\n",
              "    <div class=\"colab-df-container\">\n",
              "      <div>\n",
              "<style scoped>\n",
              "    .dataframe tbody tr th:only-of-type {\n",
              "        vertical-align: middle;\n",
              "    }\n",
              "\n",
              "    .dataframe tbody tr th {\n",
              "        vertical-align: top;\n",
              "    }\n",
              "\n",
              "    .dataframe thead th {\n",
              "        text-align: right;\n",
              "    }\n",
              "</style>\n",
              "<table border=\"1\" class=\"dataframe\">\n",
              "  <thead>\n",
              "    <tr style=\"text-align: right;\">\n",
              "      <th></th>\n",
              "      <th>id</th>\n",
              "      <th>price</th>\n",
              "      <th>bedrooms</th>\n",
              "      <th>bathrooms</th>\n",
              "      <th>sqft_living</th>\n",
              "      <th>sqft_lot</th>\n",
              "      <th>floors</th>\n",
              "      <th>waterfront</th>\n",
              "      <th>view</th>\n",
              "      <th>condition</th>\n",
              "      <th>grade</th>\n",
              "      <th>sqft_above</th>\n",
              "      <th>sqft_basement</th>\n",
              "      <th>yr_built</th>\n",
              "      <th>yr_renovated</th>\n",
              "      <th>zipcode</th>\n",
              "      <th>lat</th>\n",
              "      <th>long</th>\n",
              "      <th>sqft_living15</th>\n",
              "      <th>sqft_lot15</th>\n",
              "    </tr>\n",
              "  </thead>\n",
              "  <tbody>\n",
              "    <tr>\n",
              "      <th>0</th>\n",
              "      <td>7129300520</td>\n",
              "      <td>221900.0</td>\n",
              "      <td>3</td>\n",
              "      <td>1.00</td>\n",
              "      <td>1180</td>\n",
              "      <td>5650</td>\n",
              "      <td>1.0</td>\n",
              "      <td>0</td>\n",
              "      <td>0</td>\n",
              "      <td>3</td>\n",
              "      <td>7</td>\n",
              "      <td>1180</td>\n",
              "      <td>0</td>\n",
              "      <td>1955</td>\n",
              "      <td>0</td>\n",
              "      <td>98178</td>\n",
              "      <td>47.5112</td>\n",
              "      <td>-122.257</td>\n",
              "      <td>1340</td>\n",
              "      <td>5650</td>\n",
              "    </tr>\n",
              "    <tr>\n",
              "      <th>1</th>\n",
              "      <td>6414100192</td>\n",
              "      <td>538000.0</td>\n",
              "      <td>3</td>\n",
              "      <td>2.25</td>\n",
              "      <td>2570</td>\n",
              "      <td>7242</td>\n",
              "      <td>2.0</td>\n",
              "      <td>0</td>\n",
              "      <td>0</td>\n",
              "      <td>3</td>\n",
              "      <td>7</td>\n",
              "      <td>2170</td>\n",
              "      <td>400</td>\n",
              "      <td>1951</td>\n",
              "      <td>1991</td>\n",
              "      <td>98125</td>\n",
              "      <td>47.7210</td>\n",
              "      <td>-122.319</td>\n",
              "      <td>1690</td>\n",
              "      <td>7639</td>\n",
              "    </tr>\n",
              "    <tr>\n",
              "      <th>2</th>\n",
              "      <td>5631500400</td>\n",
              "      <td>180000.0</td>\n",
              "      <td>2</td>\n",
              "      <td>1.00</td>\n",
              "      <td>770</td>\n",
              "      <td>10000</td>\n",
              "      <td>1.0</td>\n",
              "      <td>0</td>\n",
              "      <td>0</td>\n",
              "      <td>3</td>\n",
              "      <td>6</td>\n",
              "      <td>770</td>\n",
              "      <td>0</td>\n",
              "      <td>1933</td>\n",
              "      <td>0</td>\n",
              "      <td>98028</td>\n",
              "      <td>47.7379</td>\n",
              "      <td>-122.233</td>\n",
              "      <td>2720</td>\n",
              "      <td>8062</td>\n",
              "    </tr>\n",
              "    <tr>\n",
              "      <th>3</th>\n",
              "      <td>2487200875</td>\n",
              "      <td>604000.0</td>\n",
              "      <td>4</td>\n",
              "      <td>3.00</td>\n",
              "      <td>1960</td>\n",
              "      <td>5000</td>\n",
              "      <td>1.0</td>\n",
              "      <td>0</td>\n",
              "      <td>0</td>\n",
              "      <td>5</td>\n",
              "      <td>7</td>\n",
              "      <td>1050</td>\n",
              "      <td>910</td>\n",
              "      <td>1965</td>\n",
              "      <td>0</td>\n",
              "      <td>98136</td>\n",
              "      <td>47.5208</td>\n",
              "      <td>-122.393</td>\n",
              "      <td>1360</td>\n",
              "      <td>5000</td>\n",
              "    </tr>\n",
              "    <tr>\n",
              "      <th>4</th>\n",
              "      <td>1954400510</td>\n",
              "      <td>510000.0</td>\n",
              "      <td>3</td>\n",
              "      <td>2.00</td>\n",
              "      <td>1680</td>\n",
              "      <td>8080</td>\n",
              "      <td>1.0</td>\n",
              "      <td>0</td>\n",
              "      <td>0</td>\n",
              "      <td>3</td>\n",
              "      <td>8</td>\n",
              "      <td>1680</td>\n",
              "      <td>0</td>\n",
              "      <td>1987</td>\n",
              "      <td>0</td>\n",
              "      <td>98074</td>\n",
              "      <td>47.6168</td>\n",
              "      <td>-122.045</td>\n",
              "      <td>1800</td>\n",
              "      <td>7503</td>\n",
              "    </tr>\n",
              "  </tbody>\n",
              "</table>\n",
              "</div>\n",
              "      <button class=\"colab-df-convert\" onclick=\"convertToInteractive('df-571961b9-2133-4220-a8f9-22aa9b4f7d34')\"\n",
              "              title=\"Convert this dataframe to an interactive table.\"\n",
              "              style=\"display:none;\">\n",
              "        \n",
              "  <svg xmlns=\"http://www.w3.org/2000/svg\" height=\"24px\"viewBox=\"0 0 24 24\"\n",
              "       width=\"24px\">\n",
              "    <path d=\"M0 0h24v24H0V0z\" fill=\"none\"/>\n",
              "    <path d=\"M18.56 5.44l.94 2.06.94-2.06 2.06-.94-2.06-.94-.94-2.06-.94 2.06-2.06.94zm-11 1L8.5 8.5l.94-2.06 2.06-.94-2.06-.94L8.5 2.5l-.94 2.06-2.06.94zm10 10l.94 2.06.94-2.06 2.06-.94-2.06-.94-.94-2.06-.94 2.06-2.06.94z\"/><path d=\"M17.41 7.96l-1.37-1.37c-.4-.4-.92-.59-1.43-.59-.52 0-1.04.2-1.43.59L10.3 9.45l-7.72 7.72c-.78.78-.78 2.05 0 2.83L4 21.41c.39.39.9.59 1.41.59.51 0 1.02-.2 1.41-.59l7.78-7.78 2.81-2.81c.8-.78.8-2.07 0-2.86zM5.41 20L4 18.59l7.72-7.72 1.47 1.35L5.41 20z\"/>\n",
              "  </svg>\n",
              "      </button>\n",
              "      \n",
              "  <style>\n",
              "    .colab-df-container {\n",
              "      display:flex;\n",
              "      flex-wrap:wrap;\n",
              "      gap: 12px;\n",
              "    }\n",
              "\n",
              "    .colab-df-convert {\n",
              "      background-color: #E8F0FE;\n",
              "      border: none;\n",
              "      border-radius: 50%;\n",
              "      cursor: pointer;\n",
              "      display: none;\n",
              "      fill: #1967D2;\n",
              "      height: 32px;\n",
              "      padding: 0 0 0 0;\n",
              "      width: 32px;\n",
              "    }\n",
              "\n",
              "    .colab-df-convert:hover {\n",
              "      background-color: #E2EBFA;\n",
              "      box-shadow: 0px 1px 2px rgba(60, 64, 67, 0.3), 0px 1px 3px 1px rgba(60, 64, 67, 0.15);\n",
              "      fill: #174EA6;\n",
              "    }\n",
              "\n",
              "    [theme=dark] .colab-df-convert {\n",
              "      background-color: #3B4455;\n",
              "      fill: #D2E3FC;\n",
              "    }\n",
              "\n",
              "    [theme=dark] .colab-df-convert:hover {\n",
              "      background-color: #434B5C;\n",
              "      box-shadow: 0px 1px 3px 1px rgba(0, 0, 0, 0.15);\n",
              "      filter: drop-shadow(0px 1px 2px rgba(0, 0, 0, 0.3));\n",
              "      fill: #FFFFFF;\n",
              "    }\n",
              "  </style>\n",
              "\n",
              "      <script>\n",
              "        const buttonEl =\n",
              "          document.querySelector('#df-571961b9-2133-4220-a8f9-22aa9b4f7d34 button.colab-df-convert');\n",
              "        buttonEl.style.display =\n",
              "          google.colab.kernel.accessAllowed ? 'block' : 'none';\n",
              "\n",
              "        async function convertToInteractive(key) {\n",
              "          const element = document.querySelector('#df-571961b9-2133-4220-a8f9-22aa9b4f7d34');\n",
              "          const dataTable =\n",
              "            await google.colab.kernel.invokeFunction('convertToInteractive',\n",
              "                                                     [key], {});\n",
              "          if (!dataTable) return;\n",
              "\n",
              "          const docLinkHtml = 'Like what you see? Visit the ' +\n",
              "            '<a target=\"_blank\" href=https://colab.research.google.com/notebooks/data_table.ipynb>data table notebook</a>'\n",
              "            + ' to learn more about interactive tables.';\n",
              "          element.innerHTML = '';\n",
              "          dataTable['output_type'] = 'display_data';\n",
              "          await google.colab.output.renderOutput(dataTable, element);\n",
              "          const docLink = document.createElement('div');\n",
              "          docLink.innerHTML = docLinkHtml;\n",
              "          element.appendChild(docLink);\n",
              "        }\n",
              "      </script>\n",
              "    </div>\n",
              "  </div>\n",
              "  "
            ]
          },
          "metadata": {},
          "execution_count": 135
        }
      ]
    },
    {
      "cell_type": "code",
      "source": [
        "# Previewing the bottom of our dataset\n",
        "# \n",
        "housing.tail()"
      ],
      "metadata": {
        "id": "zBUgl_UTWp7h",
        "outputId": "f29e52b5-555f-4afc-d595-b4e67c630e31",
        "colab": {
          "base_uri": "https://localhost:8080/",
          "height": 270
        }
      },
      "execution_count": 136,
      "outputs": [
        {
          "output_type": "execute_result",
          "data": {
            "text/plain": [
              "               id     price  bedrooms  bathrooms  sqft_living  sqft_lot  \\\n",
              "21608   263000018  360000.0         3       2.50         1530      1131   \n",
              "21609  6600060120  400000.0         4       2.50         2310      5813   \n",
              "21610  1523300141  402101.0         2       0.75         1020      1350   \n",
              "21611   291310100  400000.0         3       2.50         1600      2388   \n",
              "21612  1523300157  325000.0         2       0.75         1020      1076   \n",
              "\n",
              "       floors  waterfront  view  condition  grade  sqft_above  sqft_basement  \\\n",
              "21608     3.0           0     0          3      8        1530              0   \n",
              "21609     2.0           0     0          3      8        2310              0   \n",
              "21610     2.0           0     0          3      7        1020              0   \n",
              "21611     2.0           0     0          3      8        1600              0   \n",
              "21612     2.0           0     0          3      7        1020              0   \n",
              "\n",
              "       yr_built  yr_renovated  zipcode      lat     long  sqft_living15  \\\n",
              "21608      2009             0    98103  47.6993 -122.346           1530   \n",
              "21609      2014             0    98146  47.5107 -122.362           1830   \n",
              "21610      2009             0    98144  47.5944 -122.299           1020   \n",
              "21611      2004             0    98027  47.5345 -122.069           1410   \n",
              "21612      2008             0    98144  47.5941 -122.299           1020   \n",
              "\n",
              "       sqft_lot15  \n",
              "21608        1509  \n",
              "21609        7200  \n",
              "21610        2007  \n",
              "21611        1287  \n",
              "21612        1357  "
            ],
            "text/html": [
              "\n",
              "  <div id=\"df-2b80c166-035f-41ee-aecb-2479a2fa6374\">\n",
              "    <div class=\"colab-df-container\">\n",
              "      <div>\n",
              "<style scoped>\n",
              "    .dataframe tbody tr th:only-of-type {\n",
              "        vertical-align: middle;\n",
              "    }\n",
              "\n",
              "    .dataframe tbody tr th {\n",
              "        vertical-align: top;\n",
              "    }\n",
              "\n",
              "    .dataframe thead th {\n",
              "        text-align: right;\n",
              "    }\n",
              "</style>\n",
              "<table border=\"1\" class=\"dataframe\">\n",
              "  <thead>\n",
              "    <tr style=\"text-align: right;\">\n",
              "      <th></th>\n",
              "      <th>id</th>\n",
              "      <th>price</th>\n",
              "      <th>bedrooms</th>\n",
              "      <th>bathrooms</th>\n",
              "      <th>sqft_living</th>\n",
              "      <th>sqft_lot</th>\n",
              "      <th>floors</th>\n",
              "      <th>waterfront</th>\n",
              "      <th>view</th>\n",
              "      <th>condition</th>\n",
              "      <th>grade</th>\n",
              "      <th>sqft_above</th>\n",
              "      <th>sqft_basement</th>\n",
              "      <th>yr_built</th>\n",
              "      <th>yr_renovated</th>\n",
              "      <th>zipcode</th>\n",
              "      <th>lat</th>\n",
              "      <th>long</th>\n",
              "      <th>sqft_living15</th>\n",
              "      <th>sqft_lot15</th>\n",
              "    </tr>\n",
              "  </thead>\n",
              "  <tbody>\n",
              "    <tr>\n",
              "      <th>21608</th>\n",
              "      <td>263000018</td>\n",
              "      <td>360000.0</td>\n",
              "      <td>3</td>\n",
              "      <td>2.50</td>\n",
              "      <td>1530</td>\n",
              "      <td>1131</td>\n",
              "      <td>3.0</td>\n",
              "      <td>0</td>\n",
              "      <td>0</td>\n",
              "      <td>3</td>\n",
              "      <td>8</td>\n",
              "      <td>1530</td>\n",
              "      <td>0</td>\n",
              "      <td>2009</td>\n",
              "      <td>0</td>\n",
              "      <td>98103</td>\n",
              "      <td>47.6993</td>\n",
              "      <td>-122.346</td>\n",
              "      <td>1530</td>\n",
              "      <td>1509</td>\n",
              "    </tr>\n",
              "    <tr>\n",
              "      <th>21609</th>\n",
              "      <td>6600060120</td>\n",
              "      <td>400000.0</td>\n",
              "      <td>4</td>\n",
              "      <td>2.50</td>\n",
              "      <td>2310</td>\n",
              "      <td>5813</td>\n",
              "      <td>2.0</td>\n",
              "      <td>0</td>\n",
              "      <td>0</td>\n",
              "      <td>3</td>\n",
              "      <td>8</td>\n",
              "      <td>2310</td>\n",
              "      <td>0</td>\n",
              "      <td>2014</td>\n",
              "      <td>0</td>\n",
              "      <td>98146</td>\n",
              "      <td>47.5107</td>\n",
              "      <td>-122.362</td>\n",
              "      <td>1830</td>\n",
              "      <td>7200</td>\n",
              "    </tr>\n",
              "    <tr>\n",
              "      <th>21610</th>\n",
              "      <td>1523300141</td>\n",
              "      <td>402101.0</td>\n",
              "      <td>2</td>\n",
              "      <td>0.75</td>\n",
              "      <td>1020</td>\n",
              "      <td>1350</td>\n",
              "      <td>2.0</td>\n",
              "      <td>0</td>\n",
              "      <td>0</td>\n",
              "      <td>3</td>\n",
              "      <td>7</td>\n",
              "      <td>1020</td>\n",
              "      <td>0</td>\n",
              "      <td>2009</td>\n",
              "      <td>0</td>\n",
              "      <td>98144</td>\n",
              "      <td>47.5944</td>\n",
              "      <td>-122.299</td>\n",
              "      <td>1020</td>\n",
              "      <td>2007</td>\n",
              "    </tr>\n",
              "    <tr>\n",
              "      <th>21611</th>\n",
              "      <td>291310100</td>\n",
              "      <td>400000.0</td>\n",
              "      <td>3</td>\n",
              "      <td>2.50</td>\n",
              "      <td>1600</td>\n",
              "      <td>2388</td>\n",
              "      <td>2.0</td>\n",
              "      <td>0</td>\n",
              "      <td>0</td>\n",
              "      <td>3</td>\n",
              "      <td>8</td>\n",
              "      <td>1600</td>\n",
              "      <td>0</td>\n",
              "      <td>2004</td>\n",
              "      <td>0</td>\n",
              "      <td>98027</td>\n",
              "      <td>47.5345</td>\n",
              "      <td>-122.069</td>\n",
              "      <td>1410</td>\n",
              "      <td>1287</td>\n",
              "    </tr>\n",
              "    <tr>\n",
              "      <th>21612</th>\n",
              "      <td>1523300157</td>\n",
              "      <td>325000.0</td>\n",
              "      <td>2</td>\n",
              "      <td>0.75</td>\n",
              "      <td>1020</td>\n",
              "      <td>1076</td>\n",
              "      <td>2.0</td>\n",
              "      <td>0</td>\n",
              "      <td>0</td>\n",
              "      <td>3</td>\n",
              "      <td>7</td>\n",
              "      <td>1020</td>\n",
              "      <td>0</td>\n",
              "      <td>2008</td>\n",
              "      <td>0</td>\n",
              "      <td>98144</td>\n",
              "      <td>47.5941</td>\n",
              "      <td>-122.299</td>\n",
              "      <td>1020</td>\n",
              "      <td>1357</td>\n",
              "    </tr>\n",
              "  </tbody>\n",
              "</table>\n",
              "</div>\n",
              "      <button class=\"colab-df-convert\" onclick=\"convertToInteractive('df-2b80c166-035f-41ee-aecb-2479a2fa6374')\"\n",
              "              title=\"Convert this dataframe to an interactive table.\"\n",
              "              style=\"display:none;\">\n",
              "        \n",
              "  <svg xmlns=\"http://www.w3.org/2000/svg\" height=\"24px\"viewBox=\"0 0 24 24\"\n",
              "       width=\"24px\">\n",
              "    <path d=\"M0 0h24v24H0V0z\" fill=\"none\"/>\n",
              "    <path d=\"M18.56 5.44l.94 2.06.94-2.06 2.06-.94-2.06-.94-.94-2.06-.94 2.06-2.06.94zm-11 1L8.5 8.5l.94-2.06 2.06-.94-2.06-.94L8.5 2.5l-.94 2.06-2.06.94zm10 10l.94 2.06.94-2.06 2.06-.94-2.06-.94-.94-2.06-.94 2.06-2.06.94z\"/><path d=\"M17.41 7.96l-1.37-1.37c-.4-.4-.92-.59-1.43-.59-.52 0-1.04.2-1.43.59L10.3 9.45l-7.72 7.72c-.78.78-.78 2.05 0 2.83L4 21.41c.39.39.9.59 1.41.59.51 0 1.02-.2 1.41-.59l7.78-7.78 2.81-2.81c.8-.78.8-2.07 0-2.86zM5.41 20L4 18.59l7.72-7.72 1.47 1.35L5.41 20z\"/>\n",
              "  </svg>\n",
              "      </button>\n",
              "      \n",
              "  <style>\n",
              "    .colab-df-container {\n",
              "      display:flex;\n",
              "      flex-wrap:wrap;\n",
              "      gap: 12px;\n",
              "    }\n",
              "\n",
              "    .colab-df-convert {\n",
              "      background-color: #E8F0FE;\n",
              "      border: none;\n",
              "      border-radius: 50%;\n",
              "      cursor: pointer;\n",
              "      display: none;\n",
              "      fill: #1967D2;\n",
              "      height: 32px;\n",
              "      padding: 0 0 0 0;\n",
              "      width: 32px;\n",
              "    }\n",
              "\n",
              "    .colab-df-convert:hover {\n",
              "      background-color: #E2EBFA;\n",
              "      box-shadow: 0px 1px 2px rgba(60, 64, 67, 0.3), 0px 1px 3px 1px rgba(60, 64, 67, 0.15);\n",
              "      fill: #174EA6;\n",
              "    }\n",
              "\n",
              "    [theme=dark] .colab-df-convert {\n",
              "      background-color: #3B4455;\n",
              "      fill: #D2E3FC;\n",
              "    }\n",
              "\n",
              "    [theme=dark] .colab-df-convert:hover {\n",
              "      background-color: #434B5C;\n",
              "      box-shadow: 0px 1px 3px 1px rgba(0, 0, 0, 0.15);\n",
              "      filter: drop-shadow(0px 1px 2px rgba(0, 0, 0, 0.3));\n",
              "      fill: #FFFFFF;\n",
              "    }\n",
              "  </style>\n",
              "\n",
              "      <script>\n",
              "        const buttonEl =\n",
              "          document.querySelector('#df-2b80c166-035f-41ee-aecb-2479a2fa6374 button.colab-df-convert');\n",
              "        buttonEl.style.display =\n",
              "          google.colab.kernel.accessAllowed ? 'block' : 'none';\n",
              "\n",
              "        async function convertToInteractive(key) {\n",
              "          const element = document.querySelector('#df-2b80c166-035f-41ee-aecb-2479a2fa6374');\n",
              "          const dataTable =\n",
              "            await google.colab.kernel.invokeFunction('convertToInteractive',\n",
              "                                                     [key], {});\n",
              "          if (!dataTable) return;\n",
              "\n",
              "          const docLinkHtml = 'Like what you see? Visit the ' +\n",
              "            '<a target=\"_blank\" href=https://colab.research.google.com/notebooks/data_table.ipynb>data table notebook</a>'\n",
              "            + ' to learn more about interactive tables.';\n",
              "          element.innerHTML = '';\n",
              "          dataTable['output_type'] = 'display_data';\n",
              "          await google.colab.output.renderOutput(dataTable, element);\n",
              "          const docLink = document.createElement('div');\n",
              "          docLink.innerHTML = docLinkHtml;\n",
              "          element.appendChild(docLink);\n",
              "        }\n",
              "      </script>\n",
              "    </div>\n",
              "  </div>\n",
              "  "
            ]
          },
          "metadata": {},
          "execution_count": 136
        }
      ]
    },
    {
      "cell_type": "code",
      "source": [
        "# Determining the no. of records in our dataset\n",
        "housing.shape"
      ],
      "metadata": {
        "id": "GPl24UXbWFET",
        "outputId": "d3f96db3-ba2b-4f74-e531-a7dd74102ad9",
        "colab": {
          "base_uri": "https://localhost:8080/"
        }
      },
      "execution_count": 137,
      "outputs": [
        {
          "output_type": "execute_result",
          "data": {
            "text/plain": [
              "(21613, 20)"
            ]
          },
          "metadata": {},
          "execution_count": 137
        }
      ]
    },
    {
      "cell_type": "code",
      "source": [
        "# Checking whether each column has an appropriate datatype\n",
        "#\n",
        "housing.dtypes\n",
        "\n",
        "#All columns have the right data types"
      ],
      "metadata": {
        "id": "inAwoH5dWFCY",
        "outputId": "07d6eda2-84f4-4a1a-b65c-6283cf8f04e2",
        "colab": {
          "base_uri": "https://localhost:8080/"
        }
      },
      "execution_count": 138,
      "outputs": [
        {
          "output_type": "execute_result",
          "data": {
            "text/plain": [
              "id                 int64\n",
              "price            float64\n",
              "bedrooms           int64\n",
              "bathrooms        float64\n",
              "sqft_living        int64\n",
              "sqft_lot           int64\n",
              "floors           float64\n",
              "waterfront         int64\n",
              "view               int64\n",
              "condition          int64\n",
              "grade              int64\n",
              "sqft_above         int64\n",
              "sqft_basement      int64\n",
              "yr_built           int64\n",
              "yr_renovated       int64\n",
              "zipcode            int64\n",
              "lat              float64\n",
              "long             float64\n",
              "sqft_living15      int64\n",
              "sqft_lot15         int64\n",
              "dtype: object"
            ]
          },
          "metadata": {},
          "execution_count": 138
        }
      ]
    },
    {
      "cell_type": "markdown",
      "source": [
        "## Data Cleaning"
      ],
      "metadata": {
        "id": "ggCXftj-WuwI"
      }
    },
    {
      "cell_type": "code",
      "source": [
        "# Identifying the Missing Data\n",
        "#\n",
        "\n",
        "housing.isnull().sum()\n",
        "\n",
        "# There are no missing values"
      ],
      "metadata": {
        "id": "KBlVJAvFWFAh",
        "outputId": "e85f19c6-6248-4368-852e-a1f37be05ec7",
        "colab": {
          "base_uri": "https://localhost:8080/"
        }
      },
      "execution_count": 139,
      "outputs": [
        {
          "output_type": "execute_result",
          "data": {
            "text/plain": [
              "id               0\n",
              "price            0\n",
              "bedrooms         0\n",
              "bathrooms        0\n",
              "sqft_living      0\n",
              "sqft_lot         0\n",
              "floors           0\n",
              "waterfront       0\n",
              "view             0\n",
              "condition        0\n",
              "grade            0\n",
              "sqft_above       0\n",
              "sqft_basement    0\n",
              "yr_built         0\n",
              "yr_renovated     0\n",
              "zipcode          0\n",
              "lat              0\n",
              "long             0\n",
              "sqft_living15    0\n",
              "sqft_lot15       0\n",
              "dtype: int64"
            ]
          },
          "metadata": {},
          "execution_count": 139
        }
      ]
    },
    {
      "cell_type": "code",
      "source": [
        "# Checking for duplicates\n",
        "#\n",
        "housing.duplicated().sum()"
      ],
      "metadata": {
        "id": "zYLefjBVWE-1",
        "outputId": "02e95531-85b5-40fa-d487-5e0a8a8f1f83",
        "colab": {
          "base_uri": "https://localhost:8080/"
        }
      },
      "execution_count": 140,
      "outputs": [
        {
          "output_type": "execute_result",
          "data": {
            "text/plain": [
              "3"
            ]
          },
          "metadata": {},
          "execution_count": 140
        }
      ]
    },
    {
      "cell_type": "code",
      "source": [
        "# Removing duplicates\n",
        "\n",
        "housing.drop_duplicates(inplace=True)"
      ],
      "metadata": {
        "id": "DpHeHhnwWE89"
      },
      "execution_count": 141,
      "outputs": []
    },
    {
      "cell_type": "code",
      "source": [
        "# Checking for columns where all values are zero\n",
        "zero_cols = [ col for col, is_zero in ((housing == 0).sum() == housing.shape[0]).items() if is_zero ]\n",
        "\n",
        "zero_cols"
      ],
      "metadata": {
        "id": "G_8ZKhP6WE6Z",
        "outputId": "23dd105a-f2dd-40e8-95b3-d23e8b9318a7",
        "colab": {
          "base_uri": "https://localhost:8080/"
        }
      },
      "execution_count": 142,
      "outputs": [
        {
          "output_type": "execute_result",
          "data": {
            "text/plain": [
              "[]"
            ]
          },
          "metadata": {},
          "execution_count": 142
        }
      ]
    },
    {
      "cell_type": "code",
      "source": [
        "\n",
        "# Dropping irrelevant columns\n",
        "housing.drop(columns=['id', 'lat', 'long', 'waterfront', 'view', 'yr_renovated'], axis=1, inplace=True)"
      ],
      "metadata": {
        "id": "6AtzqZokWE44"
      },
      "execution_count": 143,
      "outputs": []
    },
    {
      "cell_type": "code",
      "source": [
        "# Checking for Outliers\n",
        "#\n",
        "\n",
        "Q1 = housing.quantile(0.25)\n",
        "Q3 = housing.quantile(0.75)\n",
        "IQR = Q3 - Q1\n",
        "print(IQR)"
      ],
      "metadata": {
        "id": "GPC5OvwnWE2p",
        "outputId": "a30b785d-0bb6-49a8-b499-985e2ac0d52c",
        "colab": {
          "base_uri": "https://localhost:8080/"
        }
      },
      "execution_count": 144,
      "outputs": [
        {
          "output_type": "stream",
          "name": "stdout",
          "text": [
            "price            323387.50\n",
            "bedrooms              1.00\n",
            "bathrooms             0.75\n",
            "sqft_living        1124.50\n",
            "sqft_lot           5648.75\n",
            "floors                1.00\n",
            "condition             1.00\n",
            "grade                 1.00\n",
            "sqft_above         1020.00\n",
            "sqft_basement       560.00\n",
            "yr_built             46.00\n",
            "zipcode              85.00\n",
            "sqft_living15       870.00\n",
            "sqft_lot15         4983.00\n",
            "dtype: float64\n"
          ]
        }
      ]
    },
    {
      "cell_type": "code",
      "source": [
        "#Plotting the box plot for columns with outliers\n",
        "\n",
        "col_names = ['price','sqft_living','sqft_lot', 'sqft_lot15', 'sqft_living15', 'sqft_above', 'sqft_basement', 'sqft_lot15', 'sqft_living15']\n",
        "\n",
        "fig,ax = plt.subplots(len(col_names),figsize=(8,40))\n",
        "for i , col_val in enumerate(col_names):\n",
        "  sns.boxplot(y=housing[col_val],ax=ax[i])\n",
        "  ax[i].set_title('Box plot - {}'.format(col_val), fontsize =10)\n",
        "  ax[i].set_xlabel(col_val,fontsize=10)\n",
        "plt.show()"
      ],
      "metadata": {
        "id": "vgbdTNHEWE03",
        "outputId": "496766be-024a-444f-9625-f7ba0c28d390",
        "colab": {
          "base_uri": "https://localhost:8080/",
          "height": 1000
        }
      },
      "execution_count": 145,
      "outputs": [
        {
          "output_type": "display_data",
          "data": {
            "text/plain": [
              "<Figure size 576x2880 with 9 Axes>"
            ],
            "image/png": "[encoded data removed]"
          },
          "metadata": {
            "needs_background": "light"
          }
        }
      ]
    },
    {
      "cell_type": "code",
      "source": [
        "# Removing outliers\n",
        "housing = housing[~((housing < (Q1 - 1.5 * IQR)) |(housing > (Q3 + 1.5 * IQR))).any(axis=1)]\n",
        "housing.shape"
      ],
      "metadata": {
        "id": "NNm_FGK1WEyq",
        "outputId": "90c47642-62c1-4482-9a8b-d4562b158e46",
        "colab": {
          "base_uri": "https://localhost:8080/"
        }
      },
      "execution_count": 146,
      "outputs": [
        {
          "output_type": "execute_result",
          "data": {
            "text/plain": [
              "(16612, 14)"
            ]
          },
          "metadata": {},
          "execution_count": 146
        }
      ]
    },
    {
      "cell_type": "code",
      "source": [
        "# More data cleaning procedures\n",
        "#\n",
        "housing.info()"
      ],
      "metadata": {
        "id": "FNPyy3MiWEw2",
        "outputId": "bd60de58-b67d-4999-83a2-d1165e2a3e15",
        "colab": {
          "base_uri": "https://localhost:8080/"
        }
      },
      "execution_count": 147,
      "outputs": [
        {
          "output_type": "stream",
          "name": "stdout",
          "text": [
            "<class 'pandas.core.frame.DataFrame'>\n",
            "Int64Index: 16612 entries, 0 to 21612\n",
            "Data columns (total 14 columns):\n",
            " #   Column         Non-Null Count  Dtype  \n",
            "---  ------         --------------  -----  \n",
            " 0   price          16612 non-null  float64\n",
            " 1   bedrooms       16612 non-null  int64  \n",
            " 2   bathrooms      16612 non-null  float64\n",
            " 3   sqft_living    16612 non-null  int64  \n",
            " 4   sqft_lot       16612 non-null  int64  \n",
            " 5   floors         16612 non-null  float64\n",
            " 6   condition      16612 non-null  int64  \n",
            " 7   grade          16612 non-null  int64  \n",
            " 8   sqft_above     16612 non-null  int64  \n",
            " 9   sqft_basement  16612 non-null  int64  \n",
            " 10  yr_built       16612 non-null  int64  \n",
            " 11  zipcode        16612 non-null  int64  \n",
            " 12  sqft_living15  16612 non-null  int64  \n",
            " 13  sqft_lot15     16612 non-null  int64  \n",
            "dtypes: float64(3), int64(11)\n",
            "memory usage: 1.9 MB\n"
          ]
        }
      ]
    },
    {
      "cell_type": "markdown",
      "source": [
        "## Exploratory Data Analysis\n",
        "### Univariatte Analysis"
      ],
      "metadata": {
        "id": "wWBolYkYXCZb"
      }
    },
    {
      "cell_type": "code",
      "source": [
        "# Ploting the univariate summaries and recording our observations\n",
        "#\n",
        "housing.describe()"
      ],
      "metadata": {
        "id": "6YA3U_3iWEvE",
        "outputId": "c073ffcc-108e-465a-9246-cf7b73e2616f",
        "colab": {
          "base_uri": "https://localhost:8080/",
          "height": 364
        }
      },
      "execution_count": 148,
      "outputs": [
        {
          "output_type": "execute_result",
          "data": {
            "text/plain": [
              "              price      bedrooms     bathrooms   sqft_living      sqft_lot  \\\n",
              "count  1.661200e+04  16612.000000  16612.000000  16612.000000  16612.000000   \n",
              "mean   4.524053e+05      3.269083      1.984574   1838.827354   7054.684987   \n",
              "std    1.895564e+05      0.775242      0.649025    623.932141   3384.975688   \n",
              "min    8.200000e+04      2.000000      0.750000    560.000000    520.000000   \n",
              "25%    3.055000e+05      3.000000      1.500000   1360.000000   4750.000000   \n",
              "50%    4.190000e+05      3.000000      2.000000   1770.000000   7029.500000   \n",
              "75%    5.641125e+05      4.000000      2.500000   2240.000000   9000.000000   \n",
              "max    1.130000e+06      5.000000      3.500000   4200.000000  19141.000000   \n",
              "\n",
              "             floors     condition         grade    sqft_above  sqft_basement  \\\n",
              "count  16612.000000  16612.000000  16612.000000  16612.000000   16612.000000   \n",
              "mean       1.466079      3.417108      7.401637   1590.670178     248.157176   \n",
              "std        0.544185      0.644826      0.811774    599.165058     366.895185   \n",
              "min        1.000000      2.000000      6.000000    480.000000       0.000000   \n",
              "25%        1.000000      3.000000      7.000000   1150.000000       0.000000   \n",
              "50%        1.000000      3.000000      7.000000   1440.000000       0.000000   \n",
              "75%        2.000000      4.000000      8.000000   1920.000000     500.000000   \n",
              "max        3.500000      5.000000      9.000000   3740.000000    1400.000000   \n",
              "\n",
              "           yr_built       zipcode  sqft_living15    sqft_lot15  \n",
              "count  16612.000000  16612.000000   16612.000000  16612.000000  \n",
              "mean    1969.976764  98081.933843    1815.761558   6932.756381  \n",
              "std       29.705813     54.046737     514.988225   3015.852296  \n",
              "min     1900.000000  98001.000000     620.000000    651.000000  \n",
              "25%     1950.000000  98033.000000    1440.000000   4820.000000  \n",
              "50%     1971.000000  98074.000000    1720.000000   7169.000000  \n",
              "75%     1997.000000  98119.000000    2130.000000   8744.000000  \n",
              "max     2015.000000  98199.000000    3640.000000  17550.000000  "
            ],
            "text/html": [
              "\n",
              "  <div id=\"df-f304cba5-b5cd-403f-947d-2d4bb818ce6c\">\n",
              "    <div class=\"colab-df-container\">\n",
              "      <div>\n",
              "<style scoped>\n",
              "    .dataframe tbody tr th:only-of-type {\n",
              "        vertical-align: middle;\n",
              "    }\n",
              "\n",
              "    .dataframe tbody tr th {\n",
              "        vertical-align: top;\n",
              "    }\n",
              "\n",
              "    .dataframe thead th {\n",
              "        text-align: right;\n",
              "    }\n",
              "</style>\n",
              "<table border=\"1\" class=\"dataframe\">\n",
              "  <thead>\n",
              "    <tr style=\"text-align: right;\">\n",
              "      <th></th>\n",
              "      <th>price</th>\n",
              "      <th>bedrooms</th>\n",
              "      <th>bathrooms</th>\n",
              "      <th>sqft_living</th>\n",
              "      <th>sqft_lot</th>\n",
              "      <th>floors</th>\n",
              "      <th>condition</th>\n",
              "      <th>grade</th>\n",
              "      <th>sqft_above</th>\n",
              "      <th>sqft_basement</th>\n",
              "      <th>yr_built</th>\n",
              "      <th>zipcode</th>\n",
              "      <th>sqft_living15</th>\n",
              "      <th>sqft_lot15</th>\n",
              "    </tr>\n",
              "  </thead>\n",
              "  <tbody>\n",
              "    <tr>\n",
              "      <th>count</th>\n",
              "      <td>1.661200e+04</td>\n",
              "      <td>16612.000000</td>\n",
              "      <td>16612.000000</td>\n",
              "      <td>16612.000000</td>\n",
              "      <td>16612.000000</td>\n",
              "      <td>16612.000000</td>\n",
              "      <td>16612.000000</td>\n",
              "      <td>16612.000000</td>\n",
              "      <td>16612.000000</td>\n",
              "      <td>16612.000000</td>\n",
              "      <td>16612.000000</td>\n",
              "      <td>16612.000000</td>\n",
              "      <td>16612.000000</td>\n",
              "      <td>16612.000000</td>\n",
              "    </tr>\n",
              "    <tr>\n",
              "      <th>mean</th>\n",
              "      <td>4.524053e+05</td>\n",
              "      <td>3.269083</td>\n",
              "      <td>1.984574</td>\n",
              "      <td>1838.827354</td>\n",
              "      <td>7054.684987</td>\n",
              "      <td>1.466079</td>\n",
              "      <td>3.417108</td>\n",
              "      <td>7.401637</td>\n",
              "      <td>1590.670178</td>\n",
              "      <td>248.157176</td>\n",
              "      <td>1969.976764</td>\n",
              "      <td>98081.933843</td>\n",
              "      <td>1815.761558</td>\n",
              "      <td>6932.756381</td>\n",
              "    </tr>\n",
              "    <tr>\n",
              "      <th>std</th>\n",
              "      <td>1.895564e+05</td>\n",
              "      <td>0.775242</td>\n",
              "      <td>0.649025</td>\n",
              "      <td>623.932141</td>\n",
              "      <td>3384.975688</td>\n",
              "      <td>0.544185</td>\n",
              "      <td>0.644826</td>\n",
              "      <td>0.811774</td>\n",
              "      <td>599.165058</td>\n",
              "      <td>366.895185</td>\n",
              "      <td>29.705813</td>\n",
              "      <td>54.046737</td>\n",
              "      <td>514.988225</td>\n",
              "      <td>3015.852296</td>\n",
              "    </tr>\n",
              "    <tr>\n",
              "      <th>min</th>\n",
              "      <td>8.200000e+04</td>\n",
              "      <td>2.000000</td>\n",
              "      <td>0.750000</td>\n",
              "      <td>560.000000</td>\n",
              "      <td>520.000000</td>\n",
              "      <td>1.000000</td>\n",
              "      <td>2.000000</td>\n",
              "      <td>6.000000</td>\n",
              "      <td>480.000000</td>\n",
              "      <td>0.000000</td>\n",
              "      <td>1900.000000</td>\n",
              "      <td>98001.000000</td>\n",
              "      <td>620.000000</td>\n",
              "      <td>651.000000</td>\n",
              "    </tr>\n",
              "    <tr>\n",
              "      <th>25%</th>\n",
              "      <td>3.055000e+05</td>\n",
              "      <td>3.000000</td>\n",
              "      <td>1.500000</td>\n",
              "      <td>1360.000000</td>\n",
              "      <td>4750.000000</td>\n",
              "      <td>1.000000</td>\n",
              "      <td>3.000000</td>\n",
              "      <td>7.000000</td>\n",
              "      <td>1150.000000</td>\n",
              "      <td>0.000000</td>\n",
              "      <td>1950.000000</td>\n",
              "      <td>98033.000000</td>\n",
              "      <td>1440.000000</td>\n",
              "      <td>4820.000000</td>\n",
              "    </tr>\n",
              "    <tr>\n",
              "      <th>50%</th>\n",
              "      <td>4.190000e+05</td>\n",
              "      <td>3.000000</td>\n",
              "      <td>2.000000</td>\n",
              "      <td>1770.000000</td>\n",
              "      <td>7029.500000</td>\n",
              "      <td>1.000000</td>\n",
              "      <td>3.000000</td>\n",
              "      <td>7.000000</td>\n",
              "      <td>1440.000000</td>\n",
              "      <td>0.000000</td>\n",
              "      <td>1971.000000</td>\n",
              "      <td>98074.000000</td>\n",
              "      <td>1720.000000</td>\n",
              "      <td>7169.000000</td>\n",
              "    </tr>\n",
              "    <tr>\n",
              "      <th>75%</th>\n",
              "      <td>5.641125e+05</td>\n",
              "      <td>4.000000</td>\n",
              "      <td>2.500000</td>\n",
              "      <td>2240.000000</td>\n",
              "      <td>9000.000000</td>\n",
              "      <td>2.000000</td>\n",
              "      <td>4.000000</td>\n",
              "      <td>8.000000</td>\n",
              "      <td>1920.000000</td>\n",
              "      <td>500.000000</td>\n",
              "      <td>1997.000000</td>\n",
              "      <td>98119.000000</td>\n",
              "      <td>2130.000000</td>\n",
              "      <td>8744.000000</td>\n",
              "    </tr>\n",
              "    <tr>\n",
              "      <th>max</th>\n",
              "      <td>1.130000e+06</td>\n",
              "      <td>5.000000</td>\n",
              "      <td>3.500000</td>\n",
              "      <td>4200.000000</td>\n",
              "      <td>19141.000000</td>\n",
              "      <td>3.500000</td>\n",
              "      <td>5.000000</td>\n",
              "      <td>9.000000</td>\n",
              "      <td>3740.000000</td>\n",
              "      <td>1400.000000</td>\n",
              "      <td>2015.000000</td>\n",
              "      <td>98199.000000</td>\n",
              "      <td>3640.000000</td>\n",
              "      <td>17550.000000</td>\n",
              "    </tr>\n",
              "  </tbody>\n",
              "</table>\n",
              "</div>\n",
              "      <button class=\"colab-df-convert\" onclick=\"convertToInteractive('df-f304cba5-b5cd-403f-947d-2d4bb818ce6c')\"\n",
              "              title=\"Convert this dataframe to an interactive table.\"\n",
              "              style=\"display:none;\">\n",
              "        \n",
              "  <svg xmlns=\"http://www.w3.org/2000/svg\" height=\"24px\"viewBox=\"0 0 24 24\"\n",
              "       width=\"24px\">\n",
              "    <path d=\"M0 0h24v24H0V0z\" fill=\"none\"/>\n",
              "    <path d=\"M18.56 5.44l.94 2.06.94-2.06 2.06-.94-2.06-.94-.94-2.06-.94 2.06-2.06.94zm-11 1L8.5 8.5l.94-2.06 2.06-.94-2.06-.94L8.5 2.5l-.94 2.06-2.06.94zm10 10l.94 2.06.94-2.06 2.06-.94-2.06-.94-.94-2.06-.94 2.06-2.06.94z\"/><path d=\"M17.41 7.96l-1.37-1.37c-.4-.4-.92-.59-1.43-.59-.52 0-1.04.2-1.43.59L10.3 9.45l-7.72 7.72c-.78.78-.78 2.05 0 2.83L4 21.41c.39.39.9.59 1.41.59.51 0 1.02-.2 1.41-.59l7.78-7.78 2.81-2.81c.8-.78.8-2.07 0-2.86zM5.41 20L4 18.59l7.72-7.72 1.47 1.35L5.41 20z\"/>\n",
              "  </svg>\n",
              "      </button>\n",
              "      \n",
              "  <style>\n",
              "    .colab-df-container {\n",
              "      display:flex;\n",
              "      flex-wrap:wrap;\n",
              "      gap: 12px;\n",
              "    }\n",
              "\n",
              "    .colab-df-convert {\n",
              "      background-color: #E8F0FE;\n",
              "      border: none;\n",
              "      border-radius: 50%;\n",
              "      cursor: pointer;\n",
              "      display: none;\n",
              "      fill: #1967D2;\n",
              "      height: 32px;\n",
              "      padding: 0 0 0 0;\n",
              "      width: 32px;\n",
              "    }\n",
              "\n",
              "    .colab-df-convert:hover {\n",
              "      background-color: #E2EBFA;\n",
              "      box-shadow: 0px 1px 2px rgba(60, 64, 67, 0.3), 0px 1px 3px 1px rgba(60, 64, 67, 0.15);\n",
              "      fill: #174EA6;\n",
              "    }\n",
              "\n",
              "    [theme=dark] .colab-df-convert {\n",
              "      background-color: #3B4455;\n",
              "      fill: #D2E3FC;\n",
              "    }\n",
              "\n",
              "    [theme=dark] .colab-df-convert:hover {\n",
              "      background-color: #434B5C;\n",
              "      box-shadow: 0px 1px 3px 1px rgba(0, 0, 0, 0.15);\n",
              "      filter: drop-shadow(0px 1px 2px rgba(0, 0, 0, 0.3));\n",
              "      fill: #FFFFFF;\n",
              "    }\n",
              "  </style>\n",
              "\n",
              "      <script>\n",
              "        const buttonEl =\n",
              "          document.querySelector('#df-f304cba5-b5cd-403f-947d-2d4bb818ce6c button.colab-df-convert');\n",
              "        buttonEl.style.display =\n",
              "          google.colab.kernel.accessAllowed ? 'block' : 'none';\n",
              "\n",
              "        async function convertToInteractive(key) {\n",
              "          const element = document.querySelector('#df-f304cba5-b5cd-403f-947d-2d4bb818ce6c');\n",
              "          const dataTable =\n",
              "            await google.colab.kernel.invokeFunction('convertToInteractive',\n",
              "                                                     [key], {});\n",
              "          if (!dataTable) return;\n",
              "\n",
              "          const docLinkHtml = 'Like what you see? Visit the ' +\n",
              "            '<a target=\"_blank\" href=https://colab.research.google.com/notebooks/data_table.ipynb>data table notebook</a>'\n",
              "            + ' to learn more about interactive tables.';\n",
              "          element.innerHTML = '';\n",
              "          dataTable['output_type'] = 'display_data';\n",
              "          await google.colab.output.renderOutput(dataTable, element);\n",
              "          const docLink = document.createElement('div');\n",
              "          docLink.innerHTML = docLinkHtml;\n",
              "          element.appendChild(docLink);\n",
              "        }\n",
              "      </script>\n",
              "    </div>\n",
              "  </div>\n",
              "  "
            ]
          },
          "metadata": {},
          "execution_count": 148
        }
      ]
    },
    {
      "cell_type": "code",
      "source": [
        "# Ploting the univariate summaries and recording our observations\n",
        "#\n",
        "plt.figure(figsize = (10,5))\n",
        "housing['bedrooms'].value_counts().plot(kind = 'bar', color = 'maroon')"
      ],
      "metadata": {
        "id": "9SEAzkM4WEtX",
        "outputId": "e6e0a310-170b-4375-d090-c531e6987cc1",
        "colab": {
          "base_uri": "https://localhost:8080/",
          "height": 334
        }
      },
      "execution_count": 149,
      "outputs": [
        {
          "output_type": "execute_result",
          "data": {
            "text/plain": [
              "<matplotlib.axes._subplots.AxesSubplot at 0x7fdb84a6ef90>"
            ]
          },
          "metadata": {},
          "execution_count": 149
        },
        {
          "output_type": "display_data",
          "data": {
            "text/plain": [
              "<Figure size 720x360 with 1 Axes>"
            ],
            "image/png": "[encoded data removed]"
          },
          "metadata": {
            "needs_background": "light"
          }
        }
      ]
    },
    {
      "cell_type": "code",
      "source": [
        "plt.figure(figsize = (15,5))\n",
        "housing['bathrooms'].value_counts().plot(kind = 'bar', color = 'maroon')"
      ],
      "metadata": {
        "id": "CgkhmkNOWErl",
        "outputId": "7f568191-0703-46dc-d402-238da7fb13e6",
        "colab": {
          "base_uri": "https://localhost:8080/",
          "height": 350
        }
      },
      "execution_count": 150,
      "outputs": [
        {
          "output_type": "execute_result",
          "data": {
            "text/plain": [
              "<matplotlib.axes._subplots.AxesSubplot at 0x7fdb78f4df90>"
            ]
          },
          "metadata": {},
          "execution_count": 150
        },
        {
          "output_type": "display_data",
          "data": {
            "text/plain": [
              "<Figure size 1080x360 with 1 Axes>"
            ],
            "image/png": "[encoded data removed]"
          },
          "metadata": {
            "needs_background": "light"
          }
        }
      ]
    },
    {
      "cell_type": "code",
      "source": [
        "plt.figure(figsize = (10,5))\n",
        "housing['floors'].value_counts().plot(kind = 'bar', color = 'maroon')"
      ],
      "metadata": {
        "id": "rY4P0iUPWEoy",
        "outputId": "f84aee41-99be-4cdf-e2f6-c1ec475bbbc2",
        "colab": {
          "base_uri": "https://localhost:8080/",
          "height": 344
        }
      },
      "execution_count": 151,
      "outputs": [
        {
          "output_type": "execute_result",
          "data": {
            "text/plain": [
              "<matplotlib.axes._subplots.AxesSubplot at 0x7fdb78ef8710>"
            ]
          },
          "metadata": {},
          "execution_count": 151
        },
        {
          "output_type": "display_data",
          "data": {
            "text/plain": [
              "<Figure size 720x360 with 1 Axes>"
            ],
            "image/png": "[encoded data removed]"
          },
          "metadata": {
            "needs_background": "light"
          }
        }
      ]
    },
    {
      "cell_type": "code",
      "source": [
        "plt.figure(figsize = (10,5))\n",
        "housing['condition'].value_counts().plot(kind = 'bar', color = 'maroon')"
      ],
      "metadata": {
        "id": "63euvufpWEkt",
        "outputId": "47961842-bb4c-4561-983d-e90aca0ed928",
        "colab": {
          "base_uri": "https://localhost:8080/",
          "height": 334
        }
      },
      "execution_count": 152,
      "outputs": [
        {
          "output_type": "execute_result",
          "data": {
            "text/plain": [
              "<matplotlib.axes._subplots.AxesSubplot at 0x7fdb78e707d0>"
            ]
          },
          "metadata": {},
          "execution_count": 152
        },
        {
          "output_type": "display_data",
          "data": {
            "text/plain": [
              "<Figure size 720x360 with 1 Axes>"
            ],
            "image/png": "[encoded data removed]"
          },
          "metadata": {
            "needs_background": "light"
          }
        }
      ]
    },
    {
      "cell_type": "code",
      "source": [
        "\n",
        "plt.figure(figsize = (10,5))\n",
        "housing['grade'].value_counts().plot(kind = 'bar', color = 'maroon')"
      ],
      "metadata": {
        "id": "bkMmYjiSWEh8",
        "outputId": "57f2e67c-55a7-447e-c163-30d6a2610515",
        "colab": {
          "base_uri": "https://localhost:8080/",
          "height": 334
        }
      },
      "execution_count": 153,
      "outputs": [
        {
          "output_type": "execute_result",
          "data": {
            "text/plain": [
              "<matplotlib.axes._subplots.AxesSubplot at 0x7fdb78dd2490>"
            ]
          },
          "metadata": {},
          "execution_count": 153
        },
        {
          "output_type": "display_data",
          "data": {
            "text/plain": [
              "<Figure size 720x360 with 1 Axes>"
            ],
            "image/png": "[encoded data removed]"
          },
          "metadata": {
            "needs_background": "light"
          }
        }
      ]
    },
    {
      "cell_type": "markdown",
      "source": [
        "### Observations\n",
        "1. Most of the houses owned by the Hass Consultig company are three bedroomed.\n",
        "2. Most of the houses owned by the company have 2.5 bathrooms.\n",
        "3. Most of the houses have one floor.\n",
        "4. Most of their houses are grade 7."
      ],
      "metadata": {
        "id": "JblifrOGXiHS"
      }
    },
    {
      "cell_type": "code",
      "source": [
        "##Checking for data distribution\n",
        "housing.hist(bins=10, figsize=(10,10))\n",
        "plt.suptitle('Histograms to show distribution of Numerical variables')\n",
        "plt.show()"
      ],
      "metadata": {
        "id": "BIycoiIPWEe1",
        "outputId": "3386b431-c61f-42fa-90e5-f6b765590a91",
        "colab": {
          "base_uri": "https://localhost:8080/",
          "height": 663
        }
      },
      "execution_count": 154,
      "outputs": [
        {
          "output_type": "display_data",
          "data": {
            "text/plain": [
              "<Figure size 720x720 with 16 Axes>"
            ],
            "image/png": "[encoded data removed]"
          },
          "metadata": {
            "needs_background": "light"
          }
        }
      ]
    },
    {
      "cell_type": "markdown",
      "source": [
        "### Bivariatte Analysis"
      ],
      "metadata": {
        "id": "gxWpgdA6XrWY"
      }
    },
    {
      "cell_type": "code",
      "source": [
        "#Correlation matrix.\n",
        "\n",
        "matrix = housing.corr()\n",
        "matrix"
      ],
      "metadata": {
        "id": "Aan4j-ENWEcg",
        "outputId": "e45396d0-b785-4391-eb4a-78faa3cd9a49",
        "colab": {
          "base_uri": "https://localhost:8080/",
          "height": 552
        }
      },
      "execution_count": 155,
      "outputs": [
        {
          "output_type": "execute_result",
          "data": {
            "text/plain": [
              "                  price  bedrooms  bathrooms  sqft_living  sqft_lot    floors  \\\n",
              "price          1.000000  0.240482   0.351898     0.525741 -0.076376  0.219632   \n",
              "bedrooms       0.240482  1.000000   0.451397     0.608794  0.197087  0.131016   \n",
              "bathrooms      0.351898  0.451397   1.000000     0.673522 -0.071624  0.513234   \n",
              "sqft_living    0.525741  0.608794   0.673522     1.000000  0.170916  0.313246   \n",
              "sqft_lot      -0.076376  0.197087  -0.071624     0.170916  1.000000 -0.398300   \n",
              "floors         0.219632  0.131016   0.513234     0.313246 -0.398300  1.000000   \n",
              "condition      0.080447  0.023426  -0.148754    -0.062333  0.137912 -0.286326   \n",
              "grade          0.535590  0.293360   0.580506     0.624929 -0.019901  0.459502   \n",
              "sqft_above     0.399446  0.477339   0.590502     0.820780  0.122005  0.523008   \n",
              "sqft_basement  0.241738  0.255771   0.181044     0.360183  0.091413 -0.321410   \n",
              "yr_built      -0.056643  0.151101   0.556519     0.314758 -0.076768  0.513873   \n",
              "zipcode        0.031208 -0.170408  -0.220397    -0.196734 -0.246742 -0.059118   \n",
              "sqft_living15  0.459757  0.399656   0.499009     0.710310  0.211233  0.233917   \n",
              "sqft_lot15    -0.084993  0.185039  -0.076634     0.153119  0.877589 -0.404227   \n",
              "\n",
              "               condition     grade  sqft_above  sqft_basement  yr_built  \\\n",
              "price           0.080447  0.535590    0.399446       0.241738 -0.056643   \n",
              "bedrooms        0.023426  0.293360    0.477339       0.255771  0.151101   \n",
              "bathrooms      -0.148754  0.580506    0.590502       0.181044  0.556519   \n",
              "sqft_living    -0.062333  0.624929    0.820780       0.360183  0.314758   \n",
              "sqft_lot        0.137912 -0.019901    0.122005       0.091413 -0.076768   \n",
              "floors         -0.286326  0.459502    0.523008      -0.321410  0.513873   \n",
              "condition       1.000000 -0.179981   -0.182266       0.191651 -0.377120   \n",
              "grade          -0.179981  1.000000    0.630046       0.033829  0.470836   \n",
              "sqft_above     -0.182266  0.630046    1.000000      -0.237272  0.449356   \n",
              "sqft_basement   0.191651  0.033829   -0.237272       1.000000 -0.198561   \n",
              "yr_built       -0.377120  0.470836    0.449356      -0.198561  1.000000   \n",
              "zipcode         0.002678 -0.183223   -0.283333       0.128141 -0.351713   \n",
              "sqft_living15  -0.112499  0.598915    0.679684       0.097965  0.329910   \n",
              "sqft_lot15      0.140645 -0.011633    0.106205       0.086950 -0.055767   \n",
              "\n",
              "                zipcode  sqft_living15  sqft_lot15  \n",
              "price          0.031208       0.459757   -0.084993  \n",
              "bedrooms      -0.170408       0.399656    0.185039  \n",
              "bathrooms     -0.220397       0.499009   -0.076634  \n",
              "sqft_living   -0.196734       0.710310    0.153119  \n",
              "sqft_lot      -0.246742       0.211233    0.877589  \n",
              "floors        -0.059118       0.233917   -0.404227  \n",
              "condition      0.002678      -0.112499    0.140645  \n",
              "grade         -0.183223       0.598915   -0.011633  \n",
              "sqft_above    -0.283333       0.679684    0.106205  \n",
              "sqft_basement  0.128141       0.097965    0.086950  \n",
              "yr_built      -0.351713       0.329910   -0.055767  \n",
              "zipcode        1.000000      -0.285988   -0.248360  \n",
              "sqft_living15 -0.285988       1.000000    0.229964  \n",
              "sqft_lot15    -0.248360       0.229964    1.000000  "
            ],
            "text/html": [
              "\n",
              "  <div id=\"df-06a77513-c131-4a14-a76f-182314a5c8d1\">\n",
              "    <div class=\"colab-df-container\">\n",
              "      <div>\n",
              "<style scoped>\n",
              "    .dataframe tbody tr th:only-of-type {\n",
              "        vertical-align: middle;\n",
              "    }\n",
              "\n",
              "    .dataframe tbody tr th {\n",
              "        vertical-align: top;\n",
              "    }\n",
              "\n",
              "    .dataframe thead th {\n",
              "        text-align: right;\n",
              "    }\n",
              "</style>\n",
              "<table border=\"1\" class=\"dataframe\">\n",
              "  <thead>\n",
              "    <tr style=\"text-align: right;\">\n",
              "      <th></th>\n",
              "      <th>price</th>\n",
              "      <th>bedrooms</th>\n",
              "      <th>bathrooms</th>\n",
              "      <th>sqft_living</th>\n",
              "      <th>sqft_lot</th>\n",
              "      <th>floors</th>\n",
              "      <th>condition</th>\n",
              "      <th>grade</th>\n",
              "      <th>sqft_above</th>\n",
              "      <th>sqft_basement</th>\n",
              "      <th>yr_built</th>\n",
              "      <th>zipcode</th>\n",
              "      <th>sqft_living15</th>\n",
              "      <th>sqft_lot15</th>\n",
              "    </tr>\n",
              "  </thead>\n",
              "  <tbody>\n",
              "    <tr>\n",
              "      <th>price</th>\n",
              "      <td>1.000000</td>\n",
              "      <td>0.240482</td>\n",
              "      <td>0.351898</td>\n",
              "      <td>0.525741</td>\n",
              "      <td>-0.076376</td>\n",
              "      <td>0.219632</td>\n",
              "      <td>0.080447</td>\n",
              "      <td>0.535590</td>\n",
              "      <td>0.399446</td>\n",
              "      <td>0.241738</td>\n",
              "      <td>-0.056643</td>\n",
              "      <td>0.031208</td>\n",
              "      <td>0.459757</td>\n",
              "      <td>-0.084993</td>\n",
              "    </tr>\n",
              "    <tr>\n",
              "      <th>bedrooms</th>\n",
              "      <td>0.240482</td>\n",
              "      <td>1.000000</td>\n",
              "      <td>0.451397</td>\n",
              "      <td>0.608794</td>\n",
              "      <td>0.197087</td>\n",
              "      <td>0.131016</td>\n",
              "      <td>0.023426</td>\n",
              "      <td>0.293360</td>\n",
              "      <td>0.477339</td>\n",
              "      <td>0.255771</td>\n",
              "      <td>0.151101</td>\n",
              "      <td>-0.170408</td>\n",
              "      <td>0.399656</td>\n",
              "      <td>0.185039</td>\n",
              "    </tr>\n",
              "    <tr>\n",
              "      <th>bathrooms</th>\n",
              "      <td>0.351898</td>\n",
              "      <td>0.451397</td>\n",
              "      <td>1.000000</td>\n",
              "      <td>0.673522</td>\n",
              "      <td>-0.071624</td>\n",
              "      <td>0.513234</td>\n",
              "      <td>-0.148754</td>\n",
              "      <td>0.580506</td>\n",
              "      <td>0.590502</td>\n",
              "      <td>0.181044</td>\n",
              "      <td>0.556519</td>\n",
              "      <td>-0.220397</td>\n",
              "      <td>0.499009</td>\n",
              "      <td>-0.076634</td>\n",
              "    </tr>\n",
              "    <tr>\n",
              "      <th>sqft_living</th>\n",
              "      <td>0.525741</td>\n",
              "      <td>0.608794</td>\n",
              "      <td>0.673522</td>\n",
              "      <td>1.000000</td>\n",
              "      <td>0.170916</td>\n",
              "      <td>0.313246</td>\n",
              "      <td>-0.062333</td>\n",
              "      <td>0.624929</td>\n",
              "      <td>0.820780</td>\n",
              "      <td>0.360183</td>\n",
              "      <td>0.314758</td>\n",
              "      <td>-0.196734</td>\n",
              "      <td>0.710310</td>\n",
              "      <td>0.153119</td>\n",
              "    </tr>\n",
              "    <tr>\n",
              "      <th>sqft_lot</th>\n",
              "      <td>-0.076376</td>\n",
              "      <td>0.197087</td>\n",
              "      <td>-0.071624</td>\n",
              "      <td>0.170916</td>\n",
              "      <td>1.000000</td>\n",
              "      <td>-0.398300</td>\n",
              "      <td>0.137912</td>\n",
              "      <td>-0.019901</td>\n",
              "      <td>0.122005</td>\n",
              "      <td>0.091413</td>\n",
              "      <td>-0.076768</td>\n",
              "      <td>-0.246742</td>\n",
              "      <td>0.211233</td>\n",
              "      <td>0.877589</td>\n",
              "    </tr>\n",
              "    <tr>\n",
              "      <th>floors</th>\n",
              "      <td>0.219632</td>\n",
              "      <td>0.131016</td>\n",
              "      <td>0.513234</td>\n",
              "      <td>0.313246</td>\n",
              "      <td>-0.398300</td>\n",
              "      <td>1.000000</td>\n",
              "      <td>-0.286326</td>\n",
              "      <td>0.459502</td>\n",
              "      <td>0.523008</td>\n",
              "      <td>-0.321410</td>\n",
              "      <td>0.513873</td>\n",
              "      <td>-0.059118</td>\n",
              "      <td>0.233917</td>\n",
              "      <td>-0.404227</td>\n",
              "    </tr>\n",
              "    <tr>\n",
              "      <th>condition</th>\n",
              "      <td>0.080447</td>\n",
              "      <td>0.023426</td>\n",
              "      <td>-0.148754</td>\n",
              "      <td>-0.062333</td>\n",
              "      <td>0.137912</td>\n",
              "      <td>-0.286326</td>\n",
              "      <td>1.000000</td>\n",
              "      <td>-0.179981</td>\n",
              "      <td>-0.182266</td>\n",
              "      <td>0.191651</td>\n",
              "      <td>-0.377120</td>\n",
              "      <td>0.002678</td>\n",
              "      <td>-0.112499</td>\n",
              "      <td>0.140645</td>\n",
              "    </tr>\n",
              "    <tr>\n",
              "      <th>grade</th>\n",
              "      <td>0.535590</td>\n",
              "      <td>0.293360</td>\n",
              "      <td>0.580506</td>\n",
              "      <td>0.624929</td>\n",
              "      <td>-0.019901</td>\n",
              "      <td>0.459502</td>\n",
              "      <td>-0.179981</td>\n",
              "      <td>1.000000</td>\n",
              "      <td>0.630046</td>\n",
              "      <td>0.033829</td>\n",
              "      <td>0.470836</td>\n",
              "      <td>-0.183223</td>\n",
              "      <td>0.598915</td>\n",
              "      <td>-0.011633</td>\n",
              "    </tr>\n",
              "    <tr>\n",
              "      <th>sqft_above</th>\n",
              "      <td>0.399446</td>\n",
              "      <td>0.477339</td>\n",
              "      <td>0.590502</td>\n",
              "      <td>0.820780</td>\n",
              "      <td>0.122005</td>\n",
              "      <td>0.523008</td>\n",
              "      <td>-0.182266</td>\n",
              "      <td>0.630046</td>\n",
              "      <td>1.000000</td>\n",
              "      <td>-0.237272</td>\n",
              "      <td>0.449356</td>\n",
              "      <td>-0.283333</td>\n",
              "      <td>0.679684</td>\n",
              "      <td>0.106205</td>\n",
              "    </tr>\n",
              "    <tr>\n",
              "      <th>sqft_basement</th>\n",
              "      <td>0.241738</td>\n",
              "      <td>0.255771</td>\n",
              "      <td>0.181044</td>\n",
              "      <td>0.360183</td>\n",
              "      <td>0.091413</td>\n",
              "      <td>-0.321410</td>\n",
              "      <td>0.191651</td>\n",
              "      <td>0.033829</td>\n",
              "      <td>-0.237272</td>\n",
              "      <td>1.000000</td>\n",
              "      <td>-0.198561</td>\n",
              "      <td>0.128141</td>\n",
              "      <td>0.097965</td>\n",
              "      <td>0.086950</td>\n",
              "    </tr>\n",
              "    <tr>\n",
              "      <th>yr_built</th>\n",
              "      <td>-0.056643</td>\n",
              "      <td>0.151101</td>\n",
              "      <td>0.556519</td>\n",
              "      <td>0.314758</td>\n",
              "      <td>-0.076768</td>\n",
              "      <td>0.513873</td>\n",
              "      <td>-0.377120</td>\n",
              "      <td>0.470836</td>\n",
              "      <td>0.449356</td>\n",
              "      <td>-0.198561</td>\n",
              "      <td>1.000000</td>\n",
              "      <td>-0.351713</td>\n",
              "      <td>0.329910</td>\n",
              "      <td>-0.055767</td>\n",
              "    </tr>\n",
              "    <tr>\n",
              "      <th>zipcode</th>\n",
              "      <td>0.031208</td>\n",
              "      <td>-0.170408</td>\n",
              "      <td>-0.220397</td>\n",
              "      <td>-0.196734</td>\n",
              "      <td>-0.246742</td>\n",
              "      <td>-0.059118</td>\n",
              "      <td>0.002678</td>\n",
              "      <td>-0.183223</td>\n",
              "      <td>-0.283333</td>\n",
              "      <td>0.128141</td>\n",
              "      <td>-0.351713</td>\n",
              "      <td>1.000000</td>\n",
              "      <td>-0.285988</td>\n",
              "      <td>-0.248360</td>\n",
              "    </tr>\n",
              "    <tr>\n",
              "      <th>sqft_living15</th>\n",
              "      <td>0.459757</td>\n",
              "      <td>0.399656</td>\n",
              "      <td>0.499009</td>\n",
              "      <td>0.710310</td>\n",
              "      <td>0.211233</td>\n",
              "      <td>0.233917</td>\n",
              "      <td>-0.112499</td>\n",
              "      <td>0.598915</td>\n",
              "      <td>0.679684</td>\n",
              "      <td>0.097965</td>\n",
              "      <td>0.329910</td>\n",
              "      <td>-0.285988</td>\n",
              "      <td>1.000000</td>\n",
              "      <td>0.229964</td>\n",
              "    </tr>\n",
              "    <tr>\n",
              "      <th>sqft_lot15</th>\n",
              "      <td>-0.084993</td>\n",
              "      <td>0.185039</td>\n",
              "      <td>-0.076634</td>\n",
              "      <td>0.153119</td>\n",
              "      <td>0.877589</td>\n",
              "      <td>-0.404227</td>\n",
              "      <td>0.140645</td>\n",
              "      <td>-0.011633</td>\n",
              "      <td>0.106205</td>\n",
              "      <td>0.086950</td>\n",
              "      <td>-0.055767</td>\n",
              "      <td>-0.248360</td>\n",
              "      <td>0.229964</td>\n",
              "      <td>1.000000</td>\n",
              "    </tr>\n",
              "  </tbody>\n",
              "</table>\n",
              "</div>\n",
              "      <button class=\"colab-df-convert\" onclick=\"convertToInteractive('df-06a77513-c131-4a14-a76f-182314a5c8d1')\"\n",
              "              title=\"Convert this dataframe to an interactive table.\"\n",
              "              style=\"display:none;\">\n",
              "        \n",
              "  <svg xmlns=\"http://www.w3.org/2000/svg\" height=\"24px\"viewBox=\"0 0 24 24\"\n",
              "       width=\"24px\">\n",
              "    <path d=\"M0 0h24v24H0V0z\" fill=\"none\"/>\n",
              "    <path d=\"M18.56 5.44l.94 2.06.94-2.06 2.06-.94-2.06-.94-.94-2.06-.94 2.06-2.06.94zm-11 1L8.5 8.5l.94-2.06 2.06-.94-2.06-.94L8.5 2.5l-.94 2.06-2.06.94zm10 10l.94 2.06.94-2.06 2.06-.94-2.06-.94-.94-2.06-.94 2.06-2.06.94z\"/><path d=\"M17.41 7.96l-1.37-1.37c-.4-.4-.92-.59-1.43-.59-.52 0-1.04.2-1.43.59L10.3 9.45l-7.72 7.72c-.78.78-.78 2.05 0 2.83L4 21.41c.39.39.9.59 1.41.59.51 0 1.02-.2 1.41-.59l7.78-7.78 2.81-2.81c.8-.78.8-2.07 0-2.86zM5.41 20L4 18.59l7.72-7.72 1.47 1.35L5.41 20z\"/>\n",
              "  </svg>\n",
              "      </button>\n",
              "      \n",
              "  <style>\n",
              "    .colab-df-container {\n",
              "      display:flex;\n",
              "      flex-wrap:wrap;\n",
              "      gap: 12px;\n",
              "    }\n",
              "\n",
              "    .colab-df-convert {\n",
              "      background-color: #E8F0FE;\n",
              "      border: none;\n",
              "      border-radius: 50%;\n",
              "      cursor: pointer;\n",
              "      display: none;\n",
              "      fill: #1967D2;\n",
              "      height: 32px;\n",
              "      padding: 0 0 0 0;\n",
              "      width: 32px;\n",
              "    }\n",
              "\n",
              "    .colab-df-convert:hover {\n",
              "      background-color: #E2EBFA;\n",
              "      box-shadow: 0px 1px 2px rgba(60, 64, 67, 0.3), 0px 1px 3px 1px rgba(60, 64, 67, 0.15);\n",
              "      fill: #174EA6;\n",
              "    }\n",
              "\n",
              "    [theme=dark] .colab-df-convert {\n",
              "      background-color: #3B4455;\n",
              "      fill: #D2E3FC;\n",
              "    }\n",
              "\n",
              "    [theme=dark] .colab-df-convert:hover {\n",
              "      background-color: #434B5C;\n",
              "      box-shadow: 0px 1px 3px 1px rgba(0, 0, 0, 0.15);\n",
              "      filter: drop-shadow(0px 1px 2px rgba(0, 0, 0, 0.3));\n",
              "      fill: #FFFFFF;\n",
              "    }\n",
              "  </style>\n",
              "\n",
              "      <script>\n",
              "        const buttonEl =\n",
              "          document.querySelector('#df-06a77513-c131-4a14-a76f-182314a5c8d1 button.colab-df-convert');\n",
              "        buttonEl.style.display =\n",
              "          google.colab.kernel.accessAllowed ? 'block' : 'none';\n",
              "\n",
              "        async function convertToInteractive(key) {\n",
              "          const element = document.querySelector('#df-06a77513-c131-4a14-a76f-182314a5c8d1');\n",
              "          const dataTable =\n",
              "            await google.colab.kernel.invokeFunction('convertToInteractive',\n",
              "                                                     [key], {});\n",
              "          if (!dataTable) return;\n",
              "\n",
              "          const docLinkHtml = 'Like what you see? Visit the ' +\n",
              "            '<a target=\"_blank\" href=https://colab.research.google.com/notebooks/data_table.ipynb>data table notebook</a>'\n",
              "            + ' to learn more about interactive tables.';\n",
              "          element.innerHTML = '';\n",
              "          dataTable['output_type'] = 'display_data';\n",
              "          await google.colab.output.renderOutput(dataTable, element);\n",
              "          const docLink = document.createElement('div');\n",
              "          docLink.innerHTML = docLinkHtml;\n",
              "          element.appendChild(docLink);\n",
              "        }\n",
              "      </script>\n",
              "    </div>\n",
              "  </div>\n",
              "  "
            ]
          },
          "metadata": {},
          "execution_count": 155
        }
      ]
    },
    {
      "cell_type": "code",
      "source": [
        "#Plottting a heatmap to show correlation of different numerical variables\n",
        "sns.heatmap(housing.corr(), xticklabels = housing.corr().columns, yticklabels = housing.corr().columns, annot=True)"
      ],
      "metadata": {
        "id": "31p4Ohr2WEZL",
        "outputId": "56ccb178-e844-4ae3-9140-e77c8a2644fc",
        "colab": {
          "base_uri": "https://localhost:8080/",
          "height": 351
        }
      },
      "execution_count": 156,
      "outputs": [
        {
          "output_type": "execute_result",
          "data": {
            "text/plain": [
              "<matplotlib.axes._subplots.AxesSubplot at 0x7fdb82a20ed0>"
            ]
          },
          "metadata": {},
          "execution_count": 156
        },
        {
          "output_type": "display_data",
          "data": {
            "text/plain": [
              "<Figure size 432x288 with 2 Axes>"
            ],
            "image/png": "[encoded data removed]"
          },
          "metadata": {
            "needs_background": "light"
          }
        }
      ]
    },
    {
      "cell_type": "markdown",
      "source": [
        "### Observations\n",
        "Using a threshold of 0.5, we observe that:\n",
        "\n",
        "1. The price has a high Correlation with the following columns: square foot living, grade with the correlation above 0.5\n",
        "2. The grade has a high correlation with the number of bathrooms and bedrooms and the Square feet area of living area\n",
        "3. The number of floors and the number of bathrooms are highly correlated\n",
        "4. The number of bathrooms, the grade and the Square feet area of living area"
      ],
      "metadata": {
        "id": "DAiCs6nzXzfS"
      }
    },
    {
      "cell_type": "markdown",
      "source": [
        "## Detecting Multicollinearity"
      ],
      "metadata": {
        "id": "TwD_iMeSX7N0"
      }
    },
    {
      "cell_type": "code",
      "source": [
        "# Checking for multicollinearity on the independent variables only\n",
        "\n",
        "F = housing.drop('price', 1)\n",
        "correlations = F.corr()\n",
        "correlations"
      ],
      "metadata": {
        "id": "6Xfuimv2WEV6",
        "outputId": "ca39e1c6-5324-4dff-ba6f-41d703810fe7",
        "colab": {
          "base_uri": "https://localhost:8080/",
          "height": 521
        }
      },
      "execution_count": 157,
      "outputs": [
        {
          "output_type": "execute_result",
          "data": {
            "text/plain": [
              "               bedrooms  bathrooms  sqft_living  sqft_lot    floors  \\\n",
              "bedrooms       1.000000   0.451397     0.608794  0.197087  0.131016   \n",
              "bathrooms      0.451397   1.000000     0.673522 -0.071624  0.513234   \n",
              "sqft_living    0.608794   0.673522     1.000000  0.170916  0.313246   \n",
              "sqft_lot       0.197087  -0.071624     0.170916  1.000000 -0.398300   \n",
              "floors         0.131016   0.513234     0.313246 -0.398300  1.000000   \n",
              "condition      0.023426  -0.148754    -0.062333  0.137912 -0.286326   \n",
              "grade          0.293360   0.580506     0.624929 -0.019901  0.459502   \n",
              "sqft_above     0.477339   0.590502     0.820780  0.122005  0.523008   \n",
              "sqft_basement  0.255771   0.181044     0.360183  0.091413 -0.321410   \n",
              "yr_built       0.151101   0.556519     0.314758 -0.076768  0.513873   \n",
              "zipcode       -0.170408  -0.220397    -0.196734 -0.246742 -0.059118   \n",
              "sqft_living15  0.399656   0.499009     0.710310  0.211233  0.233917   \n",
              "sqft_lot15     0.185039  -0.076634     0.153119  0.877589 -0.404227   \n",
              "\n",
              "               condition     grade  sqft_above  sqft_basement  yr_built  \\\n",
              "bedrooms        0.023426  0.293360    0.477339       0.255771  0.151101   \n",
              "bathrooms      -0.148754  0.580506    0.590502       0.181044  0.556519   \n",
              "sqft_living    -0.062333  0.624929    0.820780       0.360183  0.314758   \n",
              "sqft_lot        0.137912 -0.019901    0.122005       0.091413 -0.076768   \n",
              "floors         -0.286326  0.459502    0.523008      -0.321410  0.513873   \n",
              "condition       1.000000 -0.179981   -0.182266       0.191651 -0.377120   \n",
              "grade          -0.179981  1.000000    0.630046       0.033829  0.470836   \n",
              "sqft_above     -0.182266  0.630046    1.000000      -0.237272  0.449356   \n",
              "sqft_basement   0.191651  0.033829   -0.237272       1.000000 -0.198561   \n",
              "yr_built       -0.377120  0.470836    0.449356      -0.198561  1.000000   \n",
              "zipcode         0.002678 -0.183223   -0.283333       0.128141 -0.351713   \n",
              "sqft_living15  -0.112499  0.598915    0.679684       0.097965  0.329910   \n",
              "sqft_lot15      0.140645 -0.011633    0.106205       0.086950 -0.055767   \n",
              "\n",
              "                zipcode  sqft_living15  sqft_lot15  \n",
              "bedrooms      -0.170408       0.399656    0.185039  \n",
              "bathrooms     -0.220397       0.499009   -0.076634  \n",
              "sqft_living   -0.196734       0.710310    0.153119  \n",
              "sqft_lot      -0.246742       0.211233    0.877589  \n",
              "floors        -0.059118       0.233917   -0.404227  \n",
              "condition      0.002678      -0.112499    0.140645  \n",
              "grade         -0.183223       0.598915   -0.011633  \n",
              "sqft_above    -0.283333       0.679684    0.106205  \n",
              "sqft_basement  0.128141       0.097965    0.086950  \n",
              "yr_built      -0.351713       0.329910   -0.055767  \n",
              "zipcode        1.000000      -0.285988   -0.248360  \n",
              "sqft_living15 -0.285988       1.000000    0.229964  \n",
              "sqft_lot15    -0.248360       0.229964    1.000000  "
            ],
            "text/html": [
              "\n",
              "  <div id=\"df-6b26082f-de2d-4f19-bd6e-52fc67160aa7\">\n",
              "    <div class=\"colab-df-container\">\n",
              "      <div>\n",
              "<style scoped>\n",
              "    .dataframe tbody tr th:only-of-type {\n",
              "        vertical-align: middle;\n",
              "    }\n",
              "\n",
              "    .dataframe tbody tr th {\n",
              "        vertical-align: top;\n",
              "    }\n",
              "\n",
              "    .dataframe thead th {\n",
              "        text-align: right;\n",
              "    }\n",
              "</style>\n",
              "<table border=\"1\" class=\"dataframe\">\n",
              "  <thead>\n",
              "    <tr style=\"text-align: right;\">\n",
              "      <th></th>\n",
              "      <th>bedrooms</th>\n",
              "      <th>bathrooms</th>\n",
              "      <th>sqft_living</th>\n",
              "      <th>sqft_lot</th>\n",
              "      <th>floors</th>\n",
              "      <th>condition</th>\n",
              "      <th>grade</th>\n",
              "      <th>sqft_above</th>\n",
              "      <th>sqft_basement</th>\n",
              "      <th>yr_built</th>\n",
              "      <th>zipcode</th>\n",
              "      <th>sqft_living15</th>\n",
              "      <th>sqft_lot15</th>\n",
              "    </tr>\n",
              "  </thead>\n",
              "  <tbody>\n",
              "    <tr>\n",
              "      <th>bedrooms</th>\n",
              "      <td>1.000000</td>\n",
              "      <td>0.451397</td>\n",
              "      <td>0.608794</td>\n",
              "      <td>0.197087</td>\n",
              "      <td>0.131016</td>\n",
              "      <td>0.023426</td>\n",
              "      <td>0.293360</td>\n",
              "      <td>0.477339</td>\n",
              "      <td>0.255771</td>\n",
              "      <td>0.151101</td>\n",
              "      <td>-0.170408</td>\n",
              "      <td>0.399656</td>\n",
              "      <td>0.185039</td>\n",
              "    </tr>\n",
              "    <tr>\n",
              "      <th>bathrooms</th>\n",
              "      <td>0.451397</td>\n",
              "      <td>1.000000</td>\n",
              "      <td>0.673522</td>\n",
              "      <td>-0.071624</td>\n",
              "      <td>0.513234</td>\n",
              "      <td>-0.148754</td>\n",
              "      <td>0.580506</td>\n",
              "      <td>0.590502</td>\n",
              "      <td>0.181044</td>\n",
              "      <td>0.556519</td>\n",
              "      <td>-0.220397</td>\n",
              "      <td>0.499009</td>\n",
              "      <td>-0.076634</td>\n",
              "    </tr>\n",
              "    <tr>\n",
              "      <th>sqft_living</th>\n",
              "      <td>0.608794</td>\n",
              "      <td>0.673522</td>\n",
              "      <td>1.000000</td>\n",
              "      <td>0.170916</td>\n",
              "      <td>0.313246</td>\n",
              "      <td>-0.062333</td>\n",
              "      <td>0.624929</td>\n",
              "      <td>0.820780</td>\n",
              "      <td>0.360183</td>\n",
              "      <td>0.314758</td>\n",
              "      <td>-0.196734</td>\n",
              "      <td>0.710310</td>\n",
              "      <td>0.153119</td>\n",
              "    </tr>\n",
              "    <tr>\n",
              "      <th>sqft_lot</th>\n",
              "      <td>0.197087</td>\n",
              "      <td>-0.071624</td>\n",
              "      <td>0.170916</td>\n",
              "      <td>1.000000</td>\n",
              "      <td>-0.398300</td>\n",
              "      <td>0.137912</td>\n",
              "      <td>-0.019901</td>\n",
              "      <td>0.122005</td>\n",
              "      <td>0.091413</td>\n",
              "      <td>-0.076768</td>\n",
              "      <td>-0.246742</td>\n",
              "      <td>0.211233</td>\n",
              "      <td>0.877589</td>\n",
              "    </tr>\n",
              "    <tr>\n",
              "      <th>floors</th>\n",
              "      <td>0.131016</td>\n",
              "      <td>0.513234</td>\n",
              "      <td>0.313246</td>\n",
              "      <td>-0.398300</td>\n",
              "      <td>1.000000</td>\n",
              "      <td>-0.286326</td>\n",
              "      <td>0.459502</td>\n",
              "      <td>0.523008</td>\n",
              "      <td>-0.321410</td>\n",
              "      <td>0.513873</td>\n",
              "      <td>-0.059118</td>\n",
              "      <td>0.233917</td>\n",
              "      <td>-0.404227</td>\n",
              "    </tr>\n",
              "    <tr>\n",
              "      <th>condition</th>\n",
              "      <td>0.023426</td>\n",
              "      <td>-0.148754</td>\n",
              "      <td>-0.062333</td>\n",
              "      <td>0.137912</td>\n",
              "      <td>-0.286326</td>\n",
              "      <td>1.000000</td>\n",
              "      <td>-0.179981</td>\n",
              "      <td>-0.182266</td>\n",
              "      <td>0.191651</td>\n",
              "      <td>-0.377120</td>\n",
              "      <td>0.002678</td>\n",
              "      <td>-0.112499</td>\n",
              "      <td>0.140645</td>\n",
              "    </tr>\n",
              "    <tr>\n",
              "      <th>grade</th>\n",
              "      <td>0.293360</td>\n",
              "      <td>0.580506</td>\n",
              "      <td>0.624929</td>\n",
              "      <td>-0.019901</td>\n",
              "      <td>0.459502</td>\n",
              "      <td>-0.179981</td>\n",
              "      <td>1.000000</td>\n",
              "      <td>0.630046</td>\n",
              "      <td>0.033829</td>\n",
              "      <td>0.470836</td>\n",
              "      <td>-0.183223</td>\n",
              "      <td>0.598915</td>\n",
              "      <td>-0.011633</td>\n",
              "    </tr>\n",
              "    <tr>\n",
              "      <th>sqft_above</th>\n",
              "      <td>0.477339</td>\n",
              "      <td>0.590502</td>\n",
              "      <td>0.820780</td>\n",
              "      <td>0.122005</td>\n",
              "      <td>0.523008</td>\n",
              "      <td>-0.182266</td>\n",
              "      <td>0.630046</td>\n",
              "      <td>1.000000</td>\n",
              "      <td>-0.237272</td>\n",
              "      <td>0.449356</td>\n",
              "      <td>-0.283333</td>\n",
              "      <td>0.679684</td>\n",
              "      <td>0.106205</td>\n",
              "    </tr>\n",
              "    <tr>\n",
              "      <th>sqft_basement</th>\n",
              "      <td>0.255771</td>\n",
              "      <td>0.181044</td>\n",
              "      <td>0.360183</td>\n",
              "      <td>0.091413</td>\n",
              "      <td>-0.321410</td>\n",
              "      <td>0.191651</td>\n",
              "      <td>0.033829</td>\n",
              "      <td>-0.237272</td>\n",
              "      <td>1.000000</td>\n",
              "      <td>-0.198561</td>\n",
              "      <td>0.128141</td>\n",
              "      <td>0.097965</td>\n",
              "      <td>0.086950</td>\n",
              "    </tr>\n",
              "    <tr>\n",
              "      <th>yr_built</th>\n",
              "      <td>0.151101</td>\n",
              "      <td>0.556519</td>\n",
              "      <td>0.314758</td>\n",
              "      <td>-0.076768</td>\n",
              "      <td>0.513873</td>\n",
              "      <td>-0.377120</td>\n",
              "      <td>0.470836</td>\n",
              "      <td>0.449356</td>\n",
              "      <td>-0.198561</td>\n",
              "      <td>1.000000</td>\n",
              "      <td>-0.351713</td>\n",
              "      <td>0.329910</td>\n",
              "      <td>-0.055767</td>\n",
              "    </tr>\n",
              "    <tr>\n",
              "      <th>zipcode</th>\n",
              "      <td>-0.170408</td>\n",
              "      <td>-0.220397</td>\n",
              "      <td>-0.196734</td>\n",
              "      <td>-0.246742</td>\n",
              "      <td>-0.059118</td>\n",
              "      <td>0.002678</td>\n",
              "      <td>-0.183223</td>\n",
              "      <td>-0.283333</td>\n",
              "      <td>0.128141</td>\n",
              "      <td>-0.351713</td>\n",
              "      <td>1.000000</td>\n",
              "      <td>-0.285988</td>\n",
              "      <td>-0.248360</td>\n",
              "    </tr>\n",
              "    <tr>\n",
              "      <th>sqft_living15</th>\n",
              "      <td>0.399656</td>\n",
              "      <td>0.499009</td>\n",
              "      <td>0.710310</td>\n",
              "      <td>0.211233</td>\n",
              "      <td>0.233917</td>\n",
              "      <td>-0.112499</td>\n",
              "      <td>0.598915</td>\n",
              "      <td>0.679684</td>\n",
              "      <td>0.097965</td>\n",
              "      <td>0.329910</td>\n",
              "      <td>-0.285988</td>\n",
              "      <td>1.000000</td>\n",
              "      <td>0.229964</td>\n",
              "    </tr>\n",
              "    <tr>\n",
              "      <th>sqft_lot15</th>\n",
              "      <td>0.185039</td>\n",
              "      <td>-0.076634</td>\n",
              "      <td>0.153119</td>\n",
              "      <td>0.877589</td>\n",
              "      <td>-0.404227</td>\n",
              "      <td>0.140645</td>\n",
              "      <td>-0.011633</td>\n",
              "      <td>0.106205</td>\n",
              "      <td>0.086950</td>\n",
              "      <td>-0.055767</td>\n",
              "      <td>-0.248360</td>\n",
              "      <td>0.229964</td>\n",
              "      <td>1.000000</td>\n",
              "    </tr>\n",
              "  </tbody>\n",
              "</table>\n",
              "</div>\n",
              "      <button class=\"colab-df-convert\" onclick=\"convertToInteractive('df-6b26082f-de2d-4f19-bd6e-52fc67160aa7')\"\n",
              "              title=\"Convert this dataframe to an interactive table.\"\n",
              "              style=\"display:none;\">\n",
              "        \n",
              "  <svg xmlns=\"http://www.w3.org/2000/svg\" height=\"24px\"viewBox=\"0 0 24 24\"\n",
              "       width=\"24px\">\n",
              "    <path d=\"M0 0h24v24H0V0z\" fill=\"none\"/>\n",
              "    <path d=\"M18.56 5.44l.94 2.06.94-2.06 2.06-.94-2.06-.94-.94-2.06-.94 2.06-2.06.94zm-11 1L8.5 8.5l.94-2.06 2.06-.94-2.06-.94L8.5 2.5l-.94 2.06-2.06.94zm10 10l.94 2.06.94-2.06 2.06-.94-2.06-.94-.94-2.06-.94 2.06-2.06.94z\"/><path d=\"M17.41 7.96l-1.37-1.37c-.4-.4-.92-.59-1.43-.59-.52 0-1.04.2-1.43.59L10.3 9.45l-7.72 7.72c-.78.78-.78 2.05 0 2.83L4 21.41c.39.39.9.59 1.41.59.51 0 1.02-.2 1.41-.59l7.78-7.78 2.81-2.81c.8-.78.8-2.07 0-2.86zM5.41 20L4 18.59l7.72-7.72 1.47 1.35L5.41 20z\"/>\n",
              "  </svg>\n",
              "      </button>\n",
              "      \n",
              "  <style>\n",
              "    .colab-df-container {\n",
              "      display:flex;\n",
              "      flex-wrap:wrap;\n",
              "      gap: 12px;\n",
              "    }\n",
              "\n",
              "    .colab-df-convert {\n",
              "      background-color: #E8F0FE;\n",
              "      border: none;\n",
              "      border-radius: 50%;\n",
              "      cursor: pointer;\n",
              "      display: none;\n",
              "      fill: #1967D2;\n",
              "      height: 32px;\n",
              "      padding: 0 0 0 0;\n",
              "      width: 32px;\n",
              "    }\n",
              "\n",
              "    .colab-df-convert:hover {\n",
              "      background-color: #E2EBFA;\n",
              "      box-shadow: 0px 1px 2px rgba(60, 64, 67, 0.3), 0px 1px 3px 1px rgba(60, 64, 67, 0.15);\n",
              "      fill: #174EA6;\n",
              "    }\n",
              "\n",
              "    [theme=dark] .colab-df-convert {\n",
              "      background-color: #3B4455;\n",
              "      fill: #D2E3FC;\n",
              "    }\n",
              "\n",
              "    [theme=dark] .colab-df-convert:hover {\n",
              "      background-color: #434B5C;\n",
              "      box-shadow: 0px 1px 3px 1px rgba(0, 0, 0, 0.15);\n",
              "      filter: drop-shadow(0px 1px 2px rgba(0, 0, 0, 0.3));\n",
              "      fill: #FFFFFF;\n",
              "    }\n",
              "  </style>\n",
              "\n",
              "      <script>\n",
              "        const buttonEl =\n",
              "          document.querySelector('#df-6b26082f-de2d-4f19-bd6e-52fc67160aa7 button.colab-df-convert');\n",
              "        buttonEl.style.display =\n",
              "          google.colab.kernel.accessAllowed ? 'block' : 'none';\n",
              "\n",
              "        async function convertToInteractive(key) {\n",
              "          const element = document.querySelector('#df-6b26082f-de2d-4f19-bd6e-52fc67160aa7');\n",
              "          const dataTable =\n",
              "            await google.colab.kernel.invokeFunction('convertToInteractive',\n",
              "                                                     [key], {});\n",
              "          if (!dataTable) return;\n",
              "\n",
              "          const docLinkHtml = 'Like what you see? Visit the ' +\n",
              "            '<a target=\"_blank\" href=https://colab.research.google.com/notebooks/data_table.ipynb>data table notebook</a>'\n",
              "            + ' to learn more about interactive tables.';\n",
              "          element.innerHTML = '';\n",
              "          dataTable['output_type'] = 'display_data';\n",
              "          await google.colab.output.renderOutput(dataTable, element);\n",
              "          const docLink = document.createElement('div');\n",
              "          docLink.innerHTML = docLinkHtml;\n",
              "          element.appendChild(docLink);\n",
              "        }\n",
              "      </script>\n",
              "    </div>\n",
              "  </div>\n",
              "  "
            ]
          },
          "metadata": {},
          "execution_count": 157
        }
      ]
    },
    {
      "cell_type": "markdown",
      "source": [
        "## Computing the Variance Inflation Factor(VIF)\n"
      ],
      "metadata": {
        "id": "W_EcLwRXYA_p"
      }
    },
    {
      "cell_type": "code",
      "source": [
        "pd.DataFrame(np.linalg.inv(correlations.values), index = correlations.index, columns=correlations.columns)"
      ],
      "metadata": {
        "id": "iGHUpFQVWETV",
        "outputId": "a49aef61-4938-4e31-b329-5a66eae0a9ec",
        "colab": {
          "base_uri": "https://localhost:8080/",
          "height": 521
        }
      },
      "execution_count": 158,
      "outputs": [
        {
          "output_type": "execute_result",
          "data": {
            "text/plain": [
              "               bedrooms  bathrooms   sqft_living  sqft_lot    floors  \\\n",
              "bedrooms       1.687836  -0.322455  4.970913e-01 -0.067188  0.013406   \n",
              "bathrooms     -0.322455   2.861101 -1.118537e+00  0.053501 -0.692755   \n",
              "sqft_living    0.490850  -1.116746 -9.551235e+13 -0.463753 -0.246399   \n",
              "sqft_lot      -0.067188   0.053501 -4.676001e-01  4.555009  0.440017   \n",
              "floors         0.013406  -0.692755 -2.516427e-01  0.440017  2.650666   \n",
              "condition     -0.034370  -0.131244  2.303745e-01  0.020231  0.077957   \n",
              "grade          0.217844  -0.227338 -4.411637e-01  0.090251 -0.316545   \n",
              "sqft_above    -1.447340   0.217231  9.172097e+13 -0.122740 -0.532782   \n",
              "sqft_basement -0.871949  -0.371672  5.616480e+13  0.171598  0.762944   \n",
              "yr_built       0.109964  -0.883535  7.462439e-01  0.109546 -0.419044   \n",
              "zipcode        0.078029   0.103587  2.682653e-01  0.175950 -0.187321   \n",
              "sqft_living15  0.094230  -0.055131  1.028466e+00  0.148985  0.254424   \n",
              "sqft_lot15    -0.107062   0.137129 -1.547385e-01 -3.720152  0.514677   \n",
              "\n",
              "               condition     grade    sqft_above  sqft_basement  yr_built  \\\n",
              "bedrooms       -0.034370  0.217844 -1.456813e+00  -8.751902e-01  0.109964   \n",
              "bathrooms      -0.131244 -0.227338  2.158580e-01  -3.630339e-01 -0.883535   \n",
              "sqft_living     0.227224 -0.435152  9.172097e+13   5.616480e+13  0.748606   \n",
              "sqft_lot        0.020231  0.090251 -1.200402e-01   1.711139e-01  0.109546   \n",
              "floors          0.077957 -0.316545 -5.299294e-01   7.591679e-01 -0.419044   \n",
              "condition       1.237384 -0.001715 -2.007884e-01  -2.344920e-01  0.496791   \n",
              "grade          -0.001715  2.205778 -3.352074e-01  -1.204049e-01 -0.341202   \n",
              "sqft_above     -0.198838 -0.339994 -8.808009e+13  -5.393532e+13 -0.469260   \n",
              "sqft_basement  -0.233266 -0.122180 -5.393532e+13  -3.302698e+13 -0.091716   \n",
              "yr_built        0.496791 -0.341202 -4.669914e-01  -9.032705e-02  2.158491   \n",
              "zipcode         0.165728 -0.066191 -2.580567e-01  -4.033129e-01  0.490466   \n",
              "sqft_living15   0.102844 -0.588175 -2.468702e+00  -1.134763e+00  0.012752   \n",
              "sqft_lot15     -0.112170 -0.025836  2.323738e-01   2.216767e-01 -0.244983   \n",
              "\n",
              "                zipcode  sqft_living15  sqft_lot15  \n",
              "bedrooms       0.078029       0.094230   -0.107062  \n",
              "bathrooms      0.103587      -0.055131    0.137129  \n",
              "sqft_living    0.267443       0.984576   -0.155579  \n",
              "sqft_lot       0.175950       0.148985   -3.720152  \n",
              "floors        -0.187321       0.254424    0.514677  \n",
              "condition      0.165728       0.102844   -0.112170  \n",
              "grade         -0.066191      -0.588175   -0.025836  \n",
              "sqft_above    -0.257267      -2.426555    0.233181  \n",
              "sqft_basement -0.402829      -1.108955    0.222171  \n",
              "yr_built       0.490466       0.012752   -0.244983  \n",
              "zipcode        1.337842       0.210693    0.071853  \n",
              "sqft_living15  0.210693       2.465015   -0.381317  \n",
              "sqft_lot15     0.071853      -0.381317    4.590219  "
            ],
            "text/html": [
              "\n",
              "  <div id=\"df-6f32c3df-b5ef-4ba5-bcda-6ccef535b8cb\">\n",
              "    <div class=\"colab-df-container\">\n",
              "      <div>\n",
              "<style scoped>\n",
              "    .dataframe tbody tr th:only-of-type {\n",
              "        vertical-align: middle;\n",
              "    }\n",
              "\n",
              "    .dataframe tbody tr th {\n",
              "        vertical-align: top;\n",
              "    }\n",
              "\n",
              "    .dataframe thead th {\n",
              "        text-align: right;\n",
              "    }\n",
              "</style>\n",
              "<table border=\"1\" class=\"dataframe\">\n",
              "  <thead>\n",
              "    <tr style=\"text-align: right;\">\n",
              "      <th></th>\n",
              "      <th>bedrooms</th>\n",
              "      <th>bathrooms</th>\n",
              "      <th>sqft_living</th>\n",
              "      <th>sqft_lot</th>\n",
              "      <th>floors</th>\n",
              "      <th>condition</th>\n",
              "      <th>grade</th>\n",
              "      <th>sqft_above</th>\n",
              "      <th>sqft_basement</th>\n",
              "      <th>yr_built</th>\n",
              "      <th>zipcode</th>\n",
              "      <th>sqft_living15</th>\n",
              "      <th>sqft_lot15</th>\n",
              "    </tr>\n",
              "  </thead>\n",
              "  <tbody>\n",
              "    <tr>\n",
              "      <th>bedrooms</th>\n",
              "      <td>1.687836</td>\n",
              "      <td>-0.322455</td>\n",
              "      <td>4.970913e-01</td>\n",
              "      <td>-0.067188</td>\n",
              "      <td>0.013406</td>\n",
              "      <td>-0.034370</td>\n",
              "      <td>0.217844</td>\n",
              "      <td>-1.456813e+00</td>\n",
              "      <td>-8.751902e-01</td>\n",
              "      <td>0.109964</td>\n",
              "      <td>0.078029</td>\n",
              "      <td>0.094230</td>\n",
              "      <td>-0.107062</td>\n",
              "    </tr>\n",
              "    <tr>\n",
              "      <th>bathrooms</th>\n",
              "      <td>-0.322455</td>\n",
              "      <td>2.861101</td>\n",
              "      <td>-1.118537e+00</td>\n",
              "      <td>0.053501</td>\n",
              "      <td>-0.692755</td>\n",
              "      <td>-0.131244</td>\n",
              "      <td>-0.227338</td>\n",
              "      <td>2.158580e-01</td>\n",
              "      <td>-3.630339e-01</td>\n",
              "      <td>-0.883535</td>\n",
              "      <td>0.103587</td>\n",
              "      <td>-0.055131</td>\n",
              "      <td>0.137129</td>\n",
              "    </tr>\n",
              "    <tr>\n",
              "      <th>sqft_living</th>\n",
              "      <td>0.490850</td>\n",
              "      <td>-1.116746</td>\n",
              "      <td>-9.551235e+13</td>\n",
              "      <td>-0.463753</td>\n",
              "      <td>-0.246399</td>\n",
              "      <td>0.227224</td>\n",
              "      <td>-0.435152</td>\n",
              "      <td>9.172097e+13</td>\n",
              "      <td>5.616480e+13</td>\n",
              "      <td>0.748606</td>\n",
              "      <td>0.267443</td>\n",
              "      <td>0.984576</td>\n",
              "      <td>-0.155579</td>\n",
              "    </tr>\n",
              "    <tr>\n",
              "      <th>sqft_lot</th>\n",
              "      <td>-0.067188</td>\n",
              "      <td>0.053501</td>\n",
              "      <td>-4.676001e-01</td>\n",
              "      <td>4.555009</td>\n",
              "      <td>0.440017</td>\n",
              "      <td>0.020231</td>\n",
              "      <td>0.090251</td>\n",
              "      <td>-1.200402e-01</td>\n",
              "      <td>1.711139e-01</td>\n",
              "      <td>0.109546</td>\n",
              "      <td>0.175950</td>\n",
              "      <td>0.148985</td>\n",
              "      <td>-3.720152</td>\n",
              "    </tr>\n",
              "    <tr>\n",
              "      <th>floors</th>\n",
              "      <td>0.013406</td>\n",
              "      <td>-0.692755</td>\n",
              "      <td>-2.516427e-01</td>\n",
              "      <td>0.440017</td>\n",
              "      <td>2.650666</td>\n",
              "      <td>0.077957</td>\n",
              "      <td>-0.316545</td>\n",
              "      <td>-5.299294e-01</td>\n",
              "      <td>7.591679e-01</td>\n",
              "      <td>-0.419044</td>\n",
              "      <td>-0.187321</td>\n",
              "      <td>0.254424</td>\n",
              "      <td>0.514677</td>\n",
              "    </tr>\n",
              "    <tr>\n",
              "      <th>condition</th>\n",
              "      <td>-0.034370</td>\n",
              "      <td>-0.131244</td>\n",
              "      <td>2.303745e-01</td>\n",
              "      <td>0.020231</td>\n",
              "      <td>0.077957</td>\n",
              "      <td>1.237384</td>\n",
              "      <td>-0.001715</td>\n",
              "      <td>-2.007884e-01</td>\n",
              "      <td>-2.344920e-01</td>\n",
              "      <td>0.496791</td>\n",
              "      <td>0.165728</td>\n",
              "      <td>0.102844</td>\n",
              "      <td>-0.112170</td>\n",
              "    </tr>\n",
              "    <tr>\n",
              "      <th>grade</th>\n",
              "      <td>0.217844</td>\n",
              "      <td>-0.227338</td>\n",
              "      <td>-4.411637e-01</td>\n",
              "      <td>0.090251</td>\n",
              "      <td>-0.316545</td>\n",
              "      <td>-0.001715</td>\n",
              "      <td>2.205778</td>\n",
              "      <td>-3.352074e-01</td>\n",
              "      <td>-1.204049e-01</td>\n",
              "      <td>-0.341202</td>\n",
              "      <td>-0.066191</td>\n",
              "      <td>-0.588175</td>\n",
              "      <td>-0.025836</td>\n",
              "    </tr>\n",
              "    <tr>\n",
              "      <th>sqft_above</th>\n",
              "      <td>-1.447340</td>\n",
              "      <td>0.217231</td>\n",
              "      <td>9.172097e+13</td>\n",
              "      <td>-0.122740</td>\n",
              "      <td>-0.532782</td>\n",
              "      <td>-0.198838</td>\n",
              "      <td>-0.339994</td>\n",
              "      <td>-8.808009e+13</td>\n",
              "      <td>-5.393532e+13</td>\n",
              "      <td>-0.469260</td>\n",
              "      <td>-0.257267</td>\n",
              "      <td>-2.426555</td>\n",
              "      <td>0.233181</td>\n",
              "    </tr>\n",
              "    <tr>\n",
              "      <th>sqft_basement</th>\n",
              "      <td>-0.871949</td>\n",
              "      <td>-0.371672</td>\n",
              "      <td>5.616480e+13</td>\n",
              "      <td>0.171598</td>\n",
              "      <td>0.762944</td>\n",
              "      <td>-0.233266</td>\n",
              "      <td>-0.122180</td>\n",
              "      <td>-5.393532e+13</td>\n",
              "      <td>-3.302698e+13</td>\n",
              "      <td>-0.091716</td>\n",
              "      <td>-0.402829</td>\n",
              "      <td>-1.108955</td>\n",
              "      <td>0.222171</td>\n",
              "    </tr>\n",
              "    <tr>\n",
              "      <th>yr_built</th>\n",
              "      <td>0.109964</td>\n",
              "      <td>-0.883535</td>\n",
              "      <td>7.462439e-01</td>\n",
              "      <td>0.109546</td>\n",
              "      <td>-0.419044</td>\n",
              "      <td>0.496791</td>\n",
              "      <td>-0.341202</td>\n",
              "      <td>-4.669914e-01</td>\n",
              "      <td>-9.032705e-02</td>\n",
              "      <td>2.158491</td>\n",
              "      <td>0.490466</td>\n",
              "      <td>0.012752</td>\n",
              "      <td>-0.244983</td>\n",
              "    </tr>\n",
              "    <tr>\n",
              "      <th>zipcode</th>\n",
              "      <td>0.078029</td>\n",
              "      <td>0.103587</td>\n",
              "      <td>2.682653e-01</td>\n",
              "      <td>0.175950</td>\n",
              "      <td>-0.187321</td>\n",
              "      <td>0.165728</td>\n",
              "      <td>-0.066191</td>\n",
              "      <td>-2.580567e-01</td>\n",
              "      <td>-4.033129e-01</td>\n",
              "      <td>0.490466</td>\n",
              "      <td>1.337842</td>\n",
              "      <td>0.210693</td>\n",
              "      <td>0.071853</td>\n",
              "    </tr>\n",
              "    <tr>\n",
              "      <th>sqft_living15</th>\n",
              "      <td>0.094230</td>\n",
              "      <td>-0.055131</td>\n",
              "      <td>1.028466e+00</td>\n",
              "      <td>0.148985</td>\n",
              "      <td>0.254424</td>\n",
              "      <td>0.102844</td>\n",
              "      <td>-0.588175</td>\n",
              "      <td>-2.468702e+00</td>\n",
              "      <td>-1.134763e+00</td>\n",
              "      <td>0.012752</td>\n",
              "      <td>0.210693</td>\n",
              "      <td>2.465015</td>\n",
              "      <td>-0.381317</td>\n",
              "    </tr>\n",
              "    <tr>\n",
              "      <th>sqft_lot15</th>\n",
              "      <td>-0.107062</td>\n",
              "      <td>0.137129</td>\n",
              "      <td>-1.547385e-01</td>\n",
              "      <td>-3.720152</td>\n",
              "      <td>0.514677</td>\n",
              "      <td>-0.112170</td>\n",
              "      <td>-0.025836</td>\n",
              "      <td>2.323738e-01</td>\n",
              "      <td>2.216767e-01</td>\n",
              "      <td>-0.244983</td>\n",
              "      <td>0.071853</td>\n",
              "      <td>-0.381317</td>\n",
              "      <td>4.590219</td>\n",
              "    </tr>\n",
              "  </tbody>\n",
              "</table>\n",
              "</div>\n",
              "      <button class=\"colab-df-convert\" onclick=\"convertToInteractive('df-6f32c3df-b5ef-4ba5-bcda-6ccef535b8cb')\"\n",
              "              title=\"Convert this dataframe to an interactive table.\"\n",
              "              style=\"display:none;\">\n",
              "        \n",
              "  <svg xmlns=\"http://www.w3.org/2000/svg\" height=\"24px\"viewBox=\"0 0 24 24\"\n",
              "       width=\"24px\">\n",
              "    <path d=\"M0 0h24v24H0V0z\" fill=\"none\"/>\n",
              "    <path d=\"M18.56 5.44l.94 2.06.94-2.06 2.06-.94-2.06-.94-.94-2.06-.94 2.06-2.06.94zm-11 1L8.5 8.5l.94-2.06 2.06-.94-2.06-.94L8.5 2.5l-.94 2.06-2.06.94zm10 10l.94 2.06.94-2.06 2.06-.94-2.06-.94-.94-2.06-.94 2.06-2.06.94z\"/><path d=\"M17.41 7.96l-1.37-1.37c-.4-.4-.92-.59-1.43-.59-.52 0-1.04.2-1.43.59L10.3 9.45l-7.72 7.72c-.78.78-.78 2.05 0 2.83L4 21.41c.39.39.9.59 1.41.59.51 0 1.02-.2 1.41-.59l7.78-7.78 2.81-2.81c.8-.78.8-2.07 0-2.86zM5.41 20L4 18.59l7.72-7.72 1.47 1.35L5.41 20z\"/>\n",
              "  </svg>\n",
              "      </button>\n",
              "      \n",
              "  <style>\n",
              "    .colab-df-container {\n",
              "      display:flex;\n",
              "      flex-wrap:wrap;\n",
              "      gap: 12px;\n",
              "    }\n",
              "\n",
              "    .colab-df-convert {\n",
              "      background-color: #E8F0FE;\n",
              "      border: none;\n",
              "      border-radius: 50%;\n",
              "      cursor: pointer;\n",
              "      display: none;\n",
              "      fill: #1967D2;\n",
              "      height: 32px;\n",
              "      padding: 0 0 0 0;\n",
              "      width: 32px;\n",
              "    }\n",
              "\n",
              "    .colab-df-convert:hover {\n",
              "      background-color: #E2EBFA;\n",
              "      box-shadow: 0px 1px 2px rgba(60, 64, 67, 0.3), 0px 1px 3px 1px rgba(60, 64, 67, 0.15);\n",
              "      fill: #174EA6;\n",
              "    }\n",
              "\n",
              "    [theme=dark] .colab-df-convert {\n",
              "      background-color: #3B4455;\n",
              "      fill: #D2E3FC;\n",
              "    }\n",
              "\n",
              "    [theme=dark] .colab-df-convert:hover {\n",
              "      background-color: #434B5C;\n",
              "      box-shadow: 0px 1px 3px 1px rgba(0, 0, 0, 0.15);\n",
              "      filter: drop-shadow(0px 1px 2px rgba(0, 0, 0, 0.3));\n",
              "      fill: #FFFFFF;\n",
              "    }\n",
              "  </style>\n",
              "\n",
              "      <script>\n",
              "        const buttonEl =\n",
              "          document.querySelector('#df-6f32c3df-b5ef-4ba5-bcda-6ccef535b8cb button.colab-df-convert');\n",
              "        buttonEl.style.display =\n",
              "          google.colab.kernel.accessAllowed ? 'block' : 'none';\n",
              "\n",
              "        async function convertToInteractive(key) {\n",
              "          const element = document.querySelector('#df-6f32c3df-b5ef-4ba5-bcda-6ccef535b8cb');\n",
              "          const dataTable =\n",
              "            await google.colab.kernel.invokeFunction('convertToInteractive',\n",
              "                                                     [key], {});\n",
              "          if (!dataTable) return;\n",
              "\n",
              "          const docLinkHtml = 'Like what you see? Visit the ' +\n",
              "            '<a target=\"_blank\" href=https://colab.research.google.com/notebooks/data_table.ipynb>data table notebook</a>'\n",
              "            + ' to learn more about interactive tables.';\n",
              "          element.innerHTML = '';\n",
              "          dataTable['output_type'] = 'display_data';\n",
              "          await google.colab.output.renderOutput(dataTable, element);\n",
              "          const docLink = document.createElement('div');\n",
              "          docLink.innerHTML = docLinkHtml;\n",
              "          element.appendChild(docLink);\n",
              "        }\n",
              "      </script>\n",
              "    </div>\n",
              "  </div>\n",
              "  "
            ]
          },
          "metadata": {},
          "execution_count": 158
        }
      ]
    },
    {
      "cell_type": "markdown",
      "source": [
        "From this we observe that sqft_living, sqft_above have a VIF factor above 5. So, I'll remove the sqft_living and sqft_above features and see how they affect our accuracy, compared to accuracy when we leave them in."
      ],
      "metadata": {
        "id": "HfTcfFQ3YFWw"
      }
    },
    {
      "cell_type": "code",
      "source": [
        "# This is the version that excludes the 2 variables\n",
        "\n",
        "# Subsetting the data\n",
        "X = housing[['bedrooms', 'bathrooms', 'sqft_lot', 'floors',\n",
        "       'condition', 'grade', 'sqft_basement', 'yr_built',\n",
        "        'sqft_living15', 'sqft_lot15']]\n",
        "y = housing['price']\n",
        "\n",
        "y_pred = regressor.predict(X_test)\n",
        "\n",
        "# Dividing our data into training and test sets\n",
        "# ---\n",
        "# \n",
        "from sklearn.model_selection import train_test_split\n",
        "X_train, X_test, y_train, y_test = train_test_split(X, y, test_size=0.2, random_state=10)\n",
        "\n",
        "# Training the Algorithm\n",
        "from sklearn.linear_model import LinearRegression\n",
        "regressor = LinearRegression()\n",
        "regressor.fit(X_train, y_train)\n",
        "\n",
        "# coefficients for our test set attributes. \n",
        "\n",
        "coeff_df = pd.DataFrame(regressor.coef_, X.columns, columns=['Coefficient'])\n",
        "coeff_df\n",
        "\n",
        "# Making Predictions\n",
        "# \n",
        "from sklearn.metrics import r2_score\n",
        "from sklearn import metrics\n",
        "\n",
        "y_pred = regressor.predict(X_test)\n",
        "\n",
        "print(\"For the model excluding both sqft_living and sqft_above:\")\n",
        "print(\"         The R2 score is:\", r2_score(y_test, y_pred))\n",
        "print('         Root Mean Squared Error:', np.sqrt(metrics.mean_squared_error(y_test, y_pred)))"
      ],
      "metadata": {
        "id": "3lujg71GYHKe",
        "outputId": "2d807a4a-b4af-4d70-8307-3350f96cea46",
        "colab": {
          "base_uri": "https://localhost:8080/"
        }
      },
      "execution_count": 159,
      "outputs": [
        {
          "output_type": "stream",
          "name": "stdout",
          "text": [
            "For the model excluding both sqft_living and sqft_above:\n",
            "         The R2 score is: 0.5151109915656631\n",
            "         Root Mean Squared Error: 132393.44764778885\n"
          ]
        }
      ]
    },
    {
      "cell_type": "markdown",
      "source": [
        "The predicted values are a bit off. The 2 features that the VIF function recommended for dropping are the key indicators for square footage, so we cannot possibly make predictions without them. This proves that.\n",
        "\n",
        "Let's try it with just the _sqftabove feature, which has a lower correlation index compared to _sqftliving. Modifications are made by adding and subtracting features from X and y above."
      ],
      "metadata": {
        "id": "BDMHzm_tYT58"
      }
    },
    {
      "cell_type": "code",
      "source": [
        "# This is the version that includes sqft_above ONLY\n",
        "\n",
        "# Subsetting the data\n",
        "#X = y_pred = regressor.predict(X_test)\n",
        "X = housing[['bedrooms', 'bathrooms', 'sqft_above', 'sqft_lot', 'floors',\n",
        "       'condition', 'grade', 'sqft_basement', 'yr_built',\n",
        "        'sqft_living15', 'sqft_lot15']]\n",
        "#y = y_pred = regressor.predict(X_test)\n",
        "y = housing['price']\n",
        "\n",
        "\n",
        "# Dividing our data into training and test sets\n",
        "# ---\n",
        "# \n",
        "from sklearn.model_selection import train_test_split\n",
        "X_train, X_test, y_train, y_test = train_test_split(X, y, test_size=0.2, random_state=10)\n",
        "\n",
        "# Training the Algorithm\n",
        "from sklearn.linear_model import LinearRegression\n",
        "regressor = LinearRegression()\n",
        "regressor.fit(X_train, y_train)\n",
        "\n",
        "# predictions\n",
        "y_pred = regressor.predict(X_test)\n",
        "# coefficients for our test set attributes. \n",
        "\n",
        "coeff_df = pd.DataFrame(regressor.coef_, X.columns, columns=['Coefficient'])\n",
        "coeff_df\n",
        "\n",
        "# Making Predictions\n",
        "# \n",
        "y_pred = regressor.predict(X_test)\n",
        "\n",
        "print(\"For the model excluding sqft_living only:\")\n",
        "print(\"        The R2 score is:\", r2_score(y_test, y_pred))\n",
        "print('        Root Mean Squared Error:', np.sqrt(metrics.mean_squared_error(y_test, y_pred)))"
      ],
      "metadata": {
        "id": "P1n_DcEbYHHd",
        "outputId": "ebc3f2d4-85b9-465e-bb2f-dd871a38f5bf",
        "colab": {
          "base_uri": "https://localhost:8080/"
        }
      },
      "execution_count": 160,
      "outputs": [
        {
          "output_type": "stream",
          "name": "stdout",
          "text": [
            "For the model excluding sqft_living only:\n",
            "        The R2 score is: 0.5241707950185682\n",
            "        Root Mean Squared Error: 131150.77735592556\n"
          ]
        }
      ]
    },
    {
      "cell_type": "code",
      "source": [
        "# This is the version that includes sqft_living ONLY\n",
        "\n",
        "# Subsetting the data\n",
        "#X = y_pred = regressor.predict(X_test)\n",
        "X = housing[['bedrooms', 'bathrooms', 'sqft_living', 'sqft_lot', 'floors',\n",
        "       'condition', 'grade', 'sqft_basement', 'yr_built',\n",
        "        'sqft_living15', 'sqft_lot15']]\n",
        "y = housing['price']\n",
        "# y_pred = regressor.predict(X_test)\n",
        "\n",
        "# Dividing our data into training and test sets\n",
        "# ---\n",
        "# \n",
        "from sklearn.model_selection import train_test_split\n",
        "X_train, X_test, y_train, y_test = train_test_split(X, y, test_size=0.2, random_state=10)\n",
        "\n",
        "# Training the Algorithm\n",
        "from sklearn.linear_model import LinearRegression\n",
        "regressor = LinearRegression()\n",
        "regressor.fit(X_train, y_train)\n",
        "\n",
        "# predictions\n",
        "\n",
        "y_pred = regressor.predict(X_test)\n",
        "\n",
        "# coefficients for our test set attributes. \n",
        "\n",
        "coeff_df = pd.DataFrame(regressor.coef_, X.columns, columns=['Coefficient'])\n",
        "coeff_df\n",
        "\n",
        "# Making Predictions\n",
        "# \n",
        "y_pred = regressor.predict(X_test)\n",
        "\n",
        "print(\"For the model excluding sqft_above only:\")\n",
        "print(\"          The R2 score is:\", r2_score(y_test, y_pred))\n",
        "print('          Root Mean Squared Error:', np.sqrt(metrics.mean_squared_error(y_test, y_pred)))"
      ],
      "metadata": {
        "id": "WwabUnbAYHFM",
        "outputId": "28690e02-20a6-4981-b442-7aeb6732ad95",
        "colab": {
          "base_uri": "https://localhost:8080/"
        }
      },
      "execution_count": 161,
      "outputs": [
        {
          "output_type": "stream",
          "name": "stdout",
          "text": [
            "For the model excluding sqft_above only:\n",
            "          The R2 score is: 0.5241707950185677\n",
            "          Root Mean Squared Error: 131150.77735592565\n"
          ]
        }
      ]
    },
    {
      "cell_type": "code",
      "source": [
        "# This is the version that includes both sqft_above and sqft_living \n",
        "\n",
        "# Subsetting the data\n",
        "X = housing[['bedrooms', 'bathrooms', 'sqft_living', 'sqft_above', 'sqft_lot', 'floors',\n",
        "       'condition', 'grade', 'sqft_basement', 'yr_built',\n",
        "        'sqft_living15', 'sqft_lot15']]\n",
        "y = housing['price']\n",
        "\n",
        "\n",
        "# Dividing our data into training and test sets\n",
        "# ---\n",
        "# \n",
        "X_train_all, X_test_all, y_train_all, y_test_all = train_test_split(X, y, test_size=0.2, random_state=10)\n",
        "\n",
        "# Training the Algorithm\n",
        "regressor = LinearRegression()\n",
        "regressor.fit(X_train_all, y_train_all)\n",
        "\n",
        "# predictions \n",
        "y_pred_all = regressor.predict(X_test_all)\n",
        "\n",
        "# coefficients for our test set attributes. \n",
        "\n",
        "coeff_df = pd.DataFrame(regressor.coef_, X.columns, columns=['Coefficient'])\n",
        "coeff_df\n",
        "\n",
        "# Making Predictions\n",
        "# \n",
        "y_pred_all = regressor.predict(X_test_all)\n",
        "\n",
        "print(\"For the model including both sqft_living and sqft_above:\")\n",
        "print(\"           The R2 score is:\", r2_score(y_test, y_pred))\n",
        "print('           Root Mean Squared Error:', np.sqrt(metrics.mean_squared_error(y_test, y_pred)))"
      ],
      "metadata": {
        "id": "ph0ksXs-YHCK",
        "outputId": "d53609a1-747d-4f36-c132-216c8c4a9fb0",
        "colab": {
          "base_uri": "https://localhost:8080/"
        }
      },
      "execution_count": 164,
      "outputs": [
        {
          "output_type": "stream",
          "name": "stdout",
          "text": [
            "For the model including both sqft_living and sqft_above:\n",
            "           The R2 score is: 0.5241707950185677\n",
            "           Root Mean Squared Error: 131150.77735592565\n"
          ]
        }
      ]
    },
    {
      "cell_type": "markdown",
      "source": [
        "The difference between the R2 scores for the models including or excluding one of the variables have a very small marginal difference. This shows that the 2 variables being multicollinear does not affect the linear model. Thus I'll choose the square foot of the living area to continue with the analysis henceforth."
      ],
      "metadata": {
        "id": "asqugDihYknZ"
      }
    },
    {
      "cell_type": "markdown",
      "source": [
        "## Residual Plots and Heteroscedasticity Test"
      ],
      "metadata": {
        "id": "LY0npCKMYtOW"
      }
    },
    {
      "cell_type": "code",
      "source": [
        "# Splitting our data into training and test sets\n",
        "\n",
        "X =  housing[['bedrooms', 'bathrooms', 'sqft_living', 'sqft_lot', 'floors',\n",
        "       'condition', 'grade', 'sqft_basement', 'yr_built',\n",
        "        'sqft_living15', 'sqft_lot15']].values\n",
        "y = housing['price'].values\n",
        "\n",
        "X_train, X_test, y_train, y_test = train_test_split(X, y, test_size=0.25, random_state=0)"
      ],
      "metadata": {
        "id": "WvwOhZzgYG9v"
      },
      "execution_count": 165,
      "outputs": []
    },
    {
      "cell_type": "code",
      "source": [
        "# Fitting our training data in our model\n",
        "from sklearn.linear_model import LinearRegression\n",
        "\n",
        "regressor = LinearRegression()\n",
        "regressor.fit(X_train, y_train)"
      ],
      "metadata": {
        "id": "krAGiO1QYG65",
        "outputId": "4f6f85da-7dff-4cc7-eaef-48e12bbd3a18",
        "colab": {
          "base_uri": "https://localhost:8080/"
        }
      },
      "execution_count": 166,
      "outputs": [
        {
          "output_type": "execute_result",
          "data": {
            "text/plain": [
              "LinearRegression()"
            ]
          },
          "metadata": {},
          "execution_count": 166
        }
      ]
    },
    {
      "cell_type": "code",
      "source": [
        "# This is our prediction for price based on our model\n",
        "y_predict = a = regressor.predict(X_test)\n",
        "\n",
        "# We create the residual by substracting the test value from the predicted value for each row in our dataset\n",
        "\n",
        "residuals = np.subtract(y_predict, y_test)"
      ],
      "metadata": {
        "id": "PN3NZSpwYG38"
      },
      "execution_count": 167,
      "outputs": []
    },
    {
      "cell_type": "code",
      "source": [
        "## Building the residual plot\n",
        "\n",
        "import matplotlib.pyplot as plt\n",
        "\n",
        "plt.figure(figsize = (15,15))\n",
        "plt.scatter(y_predict, residuals, color='midnightblue')\n",
        "plt.ylabel('residual')\n",
        "plt.xlabel('fitted values')\n",
        "plt.axhline(y= residuals.mean(), color='red', linewidth=1)\n",
        "plt.show()"
      ],
      "metadata": {
        "id": "VdAts0h0Y0qf",
        "outputId": "321747c6-90bd-4e88-dc17-ea196b9c4975",
        "colab": {
          "base_uri": "https://localhost:8080/",
          "height": 876
        }
      },
      "execution_count": 168,
      "outputs": [
        {
          "output_type": "display_data",
          "data": {
            "text/plain": [
              "<Figure size 1080x1080 with 1 Axes>"
            ],
            "image/png": "[encoded data removed]"
          },
          "metadata": {
            "needs_background": "light"
          }
        }
      ]
    },
    {
      "cell_type": "markdown",
      "source": [
        "The residuals are randomly scattered around zero for the entire range of fitted values. When the residuals center on zero, they indicate that the model’s predictions are correct on average."
      ],
      "metadata": {
        "id": "26RvXfqVY34o"
      }
    },
    {
      "cell_type": "markdown",
      "source": [
        "## Barlett's Test of Heteroscedasticity"
      ],
      "metadata": {
        "id": "0tZQsYfwY6TH"
      }
    },
    {
      "cell_type": "code",
      "source": [
        "import scipy as sp\n",
        "\n",
        "test_result, p_value = sp.stats.bartlett(y_predict, residuals)\n",
        "\n",
        "# We compute a critical value of the chi squared distribution\n",
        "degree_of_freedom = len(y_predict)-1\n",
        "probability = 1 - p_value\n",
        "\n",
        "critical_value = sp.stats.chi2.ppf(probability, degree_of_freedom)\n",
        "print(\"The critical value is:\", critical_value)\n",
        "\n",
        "# If the test_result is greater than the critical value, then\n",
        "# this would mean that there are patterns to the variance of the data\n",
        "\n",
        "# Otherwise, we can identify no patterns, and we accept that \n",
        "# the variance is homogeneous across our data\n",
        "\n",
        "if (test_result > critical_value):\n",
        "  print('the variances are unequal, and the model should be reassessed.')\n",
        "else:\n",
        "  print('The variances are homogeneous.')"
      ],
      "metadata": {
        "id": "0lsHSWsTY0kY",
        "outputId": "98d1d93c-423e-4bf5-ae77-7151fbd9c331",
        "colab": {
          "base_uri": "https://localhost:8080/"
        }
      },
      "execution_count": 169,
      "outputs": [
        {
          "output_type": "stream",
          "name": "stdout",
          "text": [
            "The critical value is: 4434.1150227222215\n",
            "The variances are homogeneous.\n"
          ]
        }
      ]
    },
    {
      "cell_type": "code",
      "source": [
        "# This is our prediction for price based on our model\n",
        "y_predict = regressor.predict(X_test)\n",
        "\n",
        "# The R2 score and RMSE for the linear model is \n",
        "\n",
        "print('Root Mean Squared Error:', np.sqrt(metrics.mean_squared_error(y_test, y_predict)))\n",
        "\n",
        "from sklearn.metrics import r2_score\n",
        "\n",
        "linear_R2 = a = r2_score(y_test, y_predict)\n",
        "print(\"The R2 score for the linear model is:\", linear_R2)"
      ],
      "metadata": {
        "id": "ywAmD5F8Y0gy",
        "outputId": "42ff2bb3-ffaa-42cc-e8ee-207a8b6c6a09",
        "colab": {
          "base_uri": "https://localhost:8080/"
        }
      },
      "execution_count": 170,
      "outputs": [
        {
          "output_type": "stream",
          "name": "stdout",
          "text": [
            "Root Mean Squared Error: 130705.56995099802\n",
            "The R2 score for the linear model is: 0.5236251614318701\n"
          ]
        }
      ]
    },
    {
      "cell_type": "code",
      "source": [
        ""
      ],
      "metadata": {
        "id": "kWZdGebAY0dB"
      },
      "execution_count": 170,
      "outputs": []
    },
    {
      "cell_type": "markdown",
      "source": [
        "# Modelling\n",
        "## 1. Multiple Linear Regression"
      ],
      "metadata": {
        "id": "75Bm58PETtpy"
      }
    },
    {
      "cell_type": "code",
      "source": [
        "#separating independent and dependent variable\n",
        "#X = df1.iloc[:,1:].values\n",
        "#y = df1.iloc[:,0].values\n",
        "X = housing.iloc[:,1:-1].values\n",
        "y = housing.iloc[:,-1] .values"
      ],
      "metadata": {
        "id": "Qlu8iNMhT1En"
      },
      "execution_count": 171,
      "outputs": []
    },
    {
      "cell_type": "code",
      "source": [
        "##splitting dataset into training and testing dataset\n",
        "#Train using 80% of the data\n",
        "from sklearn.model_selection import train_test_split\n",
        "X_train, X_test, y_train, y_test = train_test_split(X, y, test_size=0.2, random_state=0)"
      ],
      "metadata": {
        "id": "g2X8CZJrT4Vi"
      },
      "execution_count": 172,
      "outputs": []
    },
    {
      "cell_type": "code",
      "source": [
        "# Fitting Multiple Linear Regression to the Training set\n",
        "import numpy as np\n",
        "from sklearn.metrics import mean_squared_error,r2_score\n",
        "from sklearn.linear_model import LinearRegression\n",
        "regressor = LinearRegression()  \n",
        "regressor.fit(X_train, y_train)\n",
        "\n",
        "# Creating a baseline regression model\n",
        "first_model = (mean_squared_error(y_true=y,y_pred=regressor.predict(X)))\n",
        "print(first_model)"
      ],
      "metadata": {
        "id": "sDNeuFmVT7P7",
        "outputId": "292202a3-750a-4691-984f-52f3e19be75b",
        "colab": {
          "base_uri": "https://localhost:8080/"
        }
      },
      "execution_count": 173,
      "outputs": [
        {
          "output_type": "stream",
          "name": "stdout",
          "text": [
            "1981572.5854375025\n"
          ]
        }
      ]
    },
    {
      "cell_type": "code",
      "source": [
        "# regression coefficient\n",
        "regressor.intercept_"
      ],
      "metadata": {
        "id": "hV3xCWdwT9kd",
        "outputId": "09fea399-dcd3-47ab-a87a-99ecc180cbb4",
        "colab": {
          "base_uri": "https://localhost:8080/"
        }
      },
      "execution_count": 174,
      "outputs": [
        {
          "output_type": "execute_result",
          "data": {
            "text/plain": [
              "85852.47224040872"
            ]
          },
          "metadata": {},
          "execution_count": 174
        }
      ]
    },
    {
      "cell_type": "code",
      "source": [
        "# regression coeefficient\n",
        "regressor.coef_"
      ],
      "metadata": {
        "id": "Uc97EnGnT_gx",
        "outputId": "a58504e8-6d2f-4ccd-882c-7e01ed5754ba",
        "colab": {
          "base_uri": "https://localhost:8080/"
        }
      },
      "execution_count": 175,
      "outputs": [
        {
          "output_type": "execute_result",
          "data": {
            "text/plain": [
              "array([ 1.00445063e+02, -1.64267067e+02, -1.00488637e-01,  7.20451346e-01,\n",
              "       -6.03371828e+02,  1.20533983e+02,  2.43935597e+01,  2.06265801e-02,\n",
              "       -1.21115217e-01,  5.48560193e+00, -9.70687278e-01,  4.78268441e-01])"
            ]
          },
          "metadata": {},
          "execution_count": 175
        }
      ]
    },
    {
      "cell_type": "code",
      "source": [
        "for i in range(4):\n",
        "    print(regressor.coef_[i])"
      ],
      "metadata": {
        "id": "PQfQmp0SUCK3",
        "outputId": "cc6f4cd1-555d-464e-b5d1-48887d440e39",
        "colab": {
          "base_uri": "https://localhost:8080/"
        }
      },
      "execution_count": 176,
      "outputs": [
        {
          "output_type": "stream",
          "name": "stdout",
          "text": [
            "100.44506314582813\n",
            "-164.26706680557484\n",
            "-0.10048863702702704\n",
            "0.7204513455790504\n"
          ]
        }
      ]
    },
    {
      "cell_type": "code",
      "source": [
        "# comparing the predicted and actual data\n",
        "#We can compare y_pred and y_test to find its accuracy\n",
        "y_pred = regressor.predict(X_test)\n",
        "comparison_frame = pd.DataFrame({'Actual': y_test.flatten(), 'Predicted': y_pred.flatten()})\n",
        "comparison_frame.describe()"
      ],
      "metadata": {
        "id": "Lv8uqzvcUEds",
        "outputId": "2c9e8e94-8906-4985-cbde-a3924e72e48b",
        "colab": {
          "base_uri": "https://localhost:8080/",
          "height": 300
        }
      },
      "execution_count": 177,
      "outputs": [
        {
          "output_type": "execute_result",
          "data": {
            "text/plain": [
              "             Actual     Predicted\n",
              "count   3323.000000   3323.000000\n",
              "mean    6934.640385   6927.107416\n",
              "std     3051.404312   2676.895313\n",
              "min      748.000000   1297.479975\n",
              "25%     4802.000000   5110.376067\n",
              "50%     7191.000000   6974.197028\n",
              "75%     8722.000000   8502.056330\n",
              "max    17494.000000  16421.571928"
            ],
            "text/html": [
              "\n",
              "  <div id=\"df-ab85dbb6-6914-48c8-9f29-0fbdfe8ece78\">\n",
              "    <div class=\"colab-df-container\">\n",
              "      <div>\n",
              "<style scoped>\n",
              "    .dataframe tbody tr th:only-of-type {\n",
              "        vertical-align: middle;\n",
              "    }\n",
              "\n",
              "    .dataframe tbody tr th {\n",
              "        vertical-align: top;\n",
              "    }\n",
              "\n",
              "    .dataframe thead th {\n",
              "        text-align: right;\n",
              "    }\n",
              "</style>\n",
              "<table border=\"1\" class=\"dataframe\">\n",
              "  <thead>\n",
              "    <tr style=\"text-align: right;\">\n",
              "      <th></th>\n",
              "      <th>Actual</th>\n",
              "      <th>Predicted</th>\n",
              "    </tr>\n",
              "  </thead>\n",
              "  <tbody>\n",
              "    <tr>\n",
              "      <th>count</th>\n",
              "      <td>3323.000000</td>\n",
              "      <td>3323.000000</td>\n",
              "    </tr>\n",
              "    <tr>\n",
              "      <th>mean</th>\n",
              "      <td>6934.640385</td>\n",
              "      <td>6927.107416</td>\n",
              "    </tr>\n",
              "    <tr>\n",
              "      <th>std</th>\n",
              "      <td>3051.404312</td>\n",
              "      <td>2676.895313</td>\n",
              "    </tr>\n",
              "    <tr>\n",
              "      <th>min</th>\n",
              "      <td>748.000000</td>\n",
              "      <td>1297.479975</td>\n",
              "    </tr>\n",
              "    <tr>\n",
              "      <th>25%</th>\n",
              "      <td>4802.000000</td>\n",
              "      <td>5110.376067</td>\n",
              "    </tr>\n",
              "    <tr>\n",
              "      <th>50%</th>\n",
              "      <td>7191.000000</td>\n",
              "      <td>6974.197028</td>\n",
              "    </tr>\n",
              "    <tr>\n",
              "      <th>75%</th>\n",
              "      <td>8722.000000</td>\n",
              "      <td>8502.056330</td>\n",
              "    </tr>\n",
              "    <tr>\n",
              "      <th>max</th>\n",
              "      <td>17494.000000</td>\n",
              "      <td>16421.571928</td>\n",
              "    </tr>\n",
              "  </tbody>\n",
              "</table>\n",
              "</div>\n",
              "      <button class=\"colab-df-convert\" onclick=\"convertToInteractive('df-ab85dbb6-6914-48c8-9f29-0fbdfe8ece78')\"\n",
              "              title=\"Convert this dataframe to an interactive table.\"\n",
              "              style=\"display:none;\">\n",
              "        \n",
              "  <svg xmlns=\"http://www.w3.org/2000/svg\" height=\"24px\"viewBox=\"0 0 24 24\"\n",
              "       width=\"24px\">\n",
              "    <path d=\"M0 0h24v24H0V0z\" fill=\"none\"/>\n",
              "    <path d=\"M18.56 5.44l.94 2.06.94-2.06 2.06-.94-2.06-.94-.94-2.06-.94 2.06-2.06.94zm-11 1L8.5 8.5l.94-2.06 2.06-.94-2.06-.94L8.5 2.5l-.94 2.06-2.06.94zm10 10l.94 2.06.94-2.06 2.06-.94-2.06-.94-.94-2.06-.94 2.06-2.06.94z\"/><path d=\"M17.41 7.96l-1.37-1.37c-.4-.4-.92-.59-1.43-.59-.52 0-1.04.2-1.43.59L10.3 9.45l-7.72 7.72c-.78.78-.78 2.05 0 2.83L4 21.41c.39.39.9.59 1.41.59.51 0 1.02-.2 1.41-.59l7.78-7.78 2.81-2.81c.8-.78.8-2.07 0-2.86zM5.41 20L4 18.59l7.72-7.72 1.47 1.35L5.41 20z\"/>\n",
              "  </svg>\n",
              "      </button>\n",
              "      \n",
              "  <style>\n",
              "    .colab-df-container {\n",
              "      display:flex;\n",
              "      flex-wrap:wrap;\n",
              "      gap: 12px;\n",
              "    }\n",
              "\n",
              "    .colab-df-convert {\n",
              "      background-color: #E8F0FE;\n",
              "      border: none;\n",
              "      border-radius: 50%;\n",
              "      cursor: pointer;\n",
              "      display: none;\n",
              "      fill: #1967D2;\n",
              "      height: 32px;\n",
              "      padding: 0 0 0 0;\n",
              "      width: 32px;\n",
              "    }\n",
              "\n",
              "    .colab-df-convert:hover {\n",
              "      background-color: #E2EBFA;\n",
              "      box-shadow: 0px 1px 2px rgba(60, 64, 67, 0.3), 0px 1px 3px 1px rgba(60, 64, 67, 0.15);\n",
              "      fill: #174EA6;\n",
              "    }\n",
              "\n",
              "    [theme=dark] .colab-df-convert {\n",
              "      background-color: #3B4455;\n",
              "      fill: #D2E3FC;\n",
              "    }\n",
              "\n",
              "    [theme=dark] .colab-df-convert:hover {\n",
              "      background-color: #434B5C;\n",
              "      box-shadow: 0px 1px 3px 1px rgba(0, 0, 0, 0.15);\n",
              "      filter: drop-shadow(0px 1px 2px rgba(0, 0, 0, 0.3));\n",
              "      fill: #FFFFFF;\n",
              "    }\n",
              "  </style>\n",
              "\n",
              "      <script>\n",
              "        const buttonEl =\n",
              "          document.querySelector('#df-ab85dbb6-6914-48c8-9f29-0fbdfe8ece78 button.colab-df-convert');\n",
              "        buttonEl.style.display =\n",
              "          google.colab.kernel.accessAllowed ? 'block' : 'none';\n",
              "\n",
              "        async function convertToInteractive(key) {\n",
              "          const element = document.querySelector('#df-ab85dbb6-6914-48c8-9f29-0fbdfe8ece78');\n",
              "          const dataTable =\n",
              "            await google.colab.kernel.invokeFunction('convertToInteractive',\n",
              "                                                     [key], {});\n",
              "          if (!dataTable) return;\n",
              "\n",
              "          const docLinkHtml = 'Like what you see? Visit the ' +\n",
              "            '<a target=\"_blank\" href=https://colab.research.google.com/notebooks/data_table.ipynb>data table notebook</a>'\n",
              "            + ' to learn more about interactive tables.';\n",
              "          element.innerHTML = '';\n",
              "          dataTable['output_type'] = 'display_data';\n",
              "          await google.colab.output.renderOutput(dataTable, element);\n",
              "          const docLink = document.createElement('div');\n",
              "          docLink.innerHTML = docLinkHtml;\n",
              "          element.appendChild(docLink);\n",
              "        }\n",
              "      </script>\n",
              "    </div>\n",
              "  </div>\n",
              "  "
            ]
          },
          "metadata": {},
          "execution_count": 177
        }
      ]
    },
    {
      "cell_type": "code",
      "source": [
        "\n",
        "# Predicting the Test set results\n",
        "from sklearn import metrics\n",
        "print('Mean Absolute Error:', metrics.mean_absolute_error(y_test, y_pred))  \n",
        "print('Mean Squared Error:', metrics.mean_squared_error(y_test, y_pred))  \n",
        "print('Root Mean Squared Error:', np.sqrt(metrics.mean_squared_error(y_test, y_pred)))"
      ],
      "metadata": {
        "id": "hyiwRRoCUHbM",
        "outputId": "6172ef7a-d606-411c-a4db-feaa64ef8080",
        "colab": {
          "base_uri": "https://localhost:8080/"
        }
      },
      "execution_count": 178,
      "outputs": [
        {
          "output_type": "stream",
          "name": "stdout",
          "text": [
            "Mean Absolute Error: 958.4858533217973\n",
            "Mean Squared Error: 2019902.4064409104\n",
            "Root Mean Squared Error: 1421.2327066462094\n"
          ]
        }
      ]
    },
    {
      "cell_type": "code",
      "source": [
        "# root mean squared error for X-train\n",
        "rmse=np.sqrt(mean_squared_error(y_train,regressor.predict(X_train)))\n",
        "rmse"
      ],
      "metadata": {
        "id": "qk02qW9MUHYa",
        "outputId": "c9be79b2-52e9-44f7-bb6e-66ab85df3541",
        "colab": {
          "base_uri": "https://localhost:8080/"
        }
      },
      "execution_count": 179,
      "outputs": [
        {
          "output_type": "execute_result",
          "data": {
            "text/plain": [
              "1404.2748900914767"
            ]
          },
          "metadata": {},
          "execution_count": 179
        }
      ]
    },
    {
      "cell_type": "code",
      "source": [
        "# regressor score\n",
        "regressor.score(X_train,y_train)"
      ],
      "metadata": {
        "id": "f0ClCxYEUHU3",
        "outputId": "60dc3582-c47c-4868-dc4c-b42b9fc6b6e8",
        "colab": {
          "base_uri": "https://localhost:8080/"
        }
      },
      "execution_count": 180,
      "outputs": [
        {
          "output_type": "execute_result",
          "data": {
            "text/plain": [
              "0.7818945342349146"
            ]
          },
          "metadata": {},
          "execution_count": 180
        }
      ]
    },
    {
      "cell_type": "code",
      "source": [
        "# cross validation\n",
        "from sklearn.model_selection import cross_val_score\n",
        "np.sqrt(-cross_val_score(regressor,X_test,y_test,cv=10,scoring=\"neg_mean_squared_error\")).mean()"
      ],
      "metadata": {
        "id": "GKd79RBBUHST",
        "outputId": "e36f25b9-770b-4a03-a7b3-8c8eb6a8220e",
        "colab": {
          "base_uri": "https://localhost:8080/"
        }
      },
      "execution_count": 181,
      "outputs": [
        {
          "output_type": "execute_result",
          "data": {
            "text/plain": [
              "1422.799748836002"
            ]
          },
          "metadata": {},
          "execution_count": 181
        }
      ]
    },
    {
      "cell_type": "code",
      "source": [
        "# findning the random states\n",
        "for i in range(101):\n",
        "    X_train, X_test, y_train, y_test = train_test_split(X, y, test_size = 0.20, random_state= i)\n",
        "    a=np.sqrt(-cross_val_score(regressor,X_test,y_test,cv=10,scoring=\"neg_mean_squared_error\")).mean()\n",
        "    b=np.sqrt(mean_squared_error(y_test,regressor.predict(X_test)))\n",
        "    if(abs(a-b)<1):\n",
        "        print(abs(a-b))\n",
        "        print(\"RandomState: \"+\"{}\".format(i))"
      ],
      "metadata": {
        "id": "Tc6zjpTBUHQS",
        "outputId": "b8dc2c6d-f98a-4082-e138-b46ce2a48b59",
        "colab": {
          "base_uri": "https://localhost:8080/"
        }
      },
      "execution_count": 182,
      "outputs": [
        {
          "output_type": "stream",
          "name": "stdout",
          "text": [
            "0.43086145130155273\n",
            "RandomState: 2\n",
            "0.2843213200487753\n",
            "RandomState: 3\n",
            "0.1726563005902335\n",
            "RandomState: 7\n",
            "0.18359619238435698\n",
            "RandomState: 12\n",
            "0.43765620467888766\n",
            "RandomState: 21\n",
            "0.59554614642866\n",
            "RandomState: 23\n",
            "0.28095408634794694\n",
            "RandomState: 26\n",
            "0.3998186465746585\n",
            "RandomState: 28\n",
            "0.6825472965340396\n",
            "RandomState: 31\n",
            "0.34500481670670524\n",
            "RandomState: 34\n",
            "0.7396302591864696\n",
            "RandomState: 35\n",
            "0.5662827403411939\n",
            "RandomState: 39\n",
            "0.8411162462059565\n",
            "RandomState: 42\n",
            "0.86617633718447\n",
            "RandomState: 44\n",
            "0.9705039651207699\n",
            "RandomState: 45\n",
            "0.9429727107230974\n",
            "RandomState: 49\n",
            "0.012655303916062621\n",
            "RandomState: 55\n",
            "0.015064939864032567\n",
            "RandomState: 56\n",
            "0.589484475992549\n",
            "RandomState: 63\n",
            "0.07120021259197529\n",
            "RandomState: 69\n",
            "0.9659362373906788\n",
            "RandomState: 71\n",
            "0.01989851588223246\n",
            "RandomState: 73\n",
            "0.0369963709727017\n",
            "RandomState: 76\n",
            "0.9837916412579943\n",
            "RandomState: 78\n",
            "0.627548005735207\n",
            "RandomState: 81\n",
            "0.17184320484943783\n",
            "RandomState: 84\n",
            "0.881469589256767\n",
            "RandomState: 88\n",
            "0.28864873144084413\n",
            "RandomState: 92\n",
            "0.7943302923299598\n",
            "RandomState: 97\n"
          ]
        }
      ]
    },
    {
      "cell_type": "markdown",
      "source": [
        "## 2. Quantile Regression"
      ],
      "metadata": {
        "id": "ZlO5QHwPUSoL"
      }
    },
    {
      "cell_type": "code",
      "source": [
        "# recalling the base model\n",
        "print(first_model)"
      ],
      "metadata": {
        "id": "601k8l3xUHIG",
        "outputId": "c010842e-070c-446a-cdc2-c51ddc7128c6",
        "colab": {
          "base_uri": "https://localhost:8080/"
        }
      },
      "execution_count": 183,
      "outputs": [
        {
          "output_type": "stream",
          "name": "stdout",
          "text": [
            "1981572.5854375025\n"
          ]
        }
      ]
    },
    {
      "cell_type": "code",
      "source": [
        "# We will use the python package statsmodels for Quantile Regression\n",
        "\n",
        "# Finding the regression coefficients for the conditioned median, 0.5 quantile\n",
        "#\n",
        "mod = smf.quantreg('price ~ bedrooms', housing)\n",
        "res = mod.fit(q=.5)\n",
        "\n",
        "# Then print out the summary of our model\n",
        "#\n",
        "print(res.summary())\n",
        "\n",
        "# You see that our intercept is 2.55e+05 and our slope or the coefficient for our x is  4.75e+04. \n",
        "# These are the parameters for the 0.5th quantile of our y. "
      ],
      "metadata": {
        "id": "cMCeR7guUHFb",
        "outputId": "e7bd6c9b-27e9-484c-ad16-88c1d123306b",
        "colab": {
          "base_uri": "https://localhost:8080/"
        }
      },
      "execution_count": 184,
      "outputs": [
        {
          "output_type": "stream",
          "name": "stdout",
          "text": [
            "                         QuantReg Regression Results                          \n",
            "==============================================================================\n",
            "Dep. Variable:                  price   Pseudo R-squared:              0.02172\n",
            "Model:                       QuantReg   Bandwidth:                   3.624e+04\n",
            "Method:                 Least Squares   Sparsity:                    4.863e+05\n",
            "Date:                Sun, 24 Apr 2022   No. Observations:                16612\n",
            "Time:                        21:37:34   Df Residuals:                    16610\n",
            "                                        Df Model:                            1\n",
            "==============================================================================\n",
            "                 coef    std err          t      P>|t|      [0.025      0.975]\n",
            "------------------------------------------------------------------------------\n",
            "Intercept   2.501e+05   8176.863     30.586      0.000    2.34e+05    2.66e+05\n",
            "bedrooms     5.23e+04   2433.777     21.489      0.000    4.75e+04    5.71e+04\n",
            "==============================================================================\n"
          ]
        }
      ]
    },
    {
      "cell_type": "markdown",
      "source": [
        "## 3. Ridge Regression"
      ],
      "metadata": {
        "id": "ltDXw1HaUfVz"
      }
    },
    {
      "cell_type": "code",
      "source": [
        "X = housing.iloc[:,1:-1].values\n",
        "y = housing.iloc[:,-1] .values"
      ],
      "metadata": {
        "id": "dgW0mxUYUkYL"
      },
      "execution_count": 185,
      "outputs": []
    },
    {
      "cell_type": "code",
      "source": [
        "ridge = Ridge(normalize=True)\n",
        "search = GridSearchCV(estimator=ridge,param_grid={'alpha':np.logspace(-5,2,8)},scoring='neg_mean_squared_error',n_jobs=1,refit=True,cv=10)\n"
      ],
      "metadata": {
        "id": "QB9ON8JtUkSW"
      },
      "execution_count": 186,
      "outputs": []
    },
    {
      "cell_type": "code",
      "source": [
        "\n",
        "# We now use the .fit function to run the model and then use the .best_params_ and\n",
        "#  .best_scores_ function to determine the models strength. \n",
        "# \n",
        "search.fit(X,y)\n",
        "search.best_params_\n",
        "{'alpha': 0.01}\n",
        "abs(search.best_score_) \n",
        "\n",
        "# The best_params_ tells us what to set alpha too which in this case is 0.01. \n",
        "# The best_score_ tells us what the best possible mean squared error is. \n",
        "# In this case, the value of 0.38 is worse than what the baseline model was. "
      ],
      "metadata": {
        "id": "Bk5UvciPUkPj",
        "outputId": "98f914f6-1e55-4d99-b7bf-c8aa9f3d5677",
        "colab": {
          "base_uri": "https://localhost:8080/"
        }
      },
      "execution_count": 187,
      "outputs": [
        {
          "output_type": "execute_result",
          "data": {
            "text/plain": [
              "1993298.0071168914"
            ]
          },
          "metadata": {},
          "execution_count": 187
        }
      ]
    },
    {
      "cell_type": "code",
      "source": [
        "# We can confirm this by fitting our model with the ridge information and finding the mean squared error below\n",
        "#\n",
        "ridge = Ridge(normalize=True,alpha=0.01)\n",
        "ridge.fit(X,y)\n",
        "second_model = (mean_squared_error(y_true=y,y_pred=ridge.predict(X)))\n",
        "print(second_model)"
      ],
      "metadata": {
        "id": "aDf7D7GhUkMa",
        "outputId": "5f2eeed5-f124-4d88-9f0e-f10e7f6f3cb2",
        "colab": {
          "base_uri": "https://localhost:8080/"
        }
      },
      "execution_count": 188,
      "outputs": [
        {
          "output_type": "stream",
          "name": "stdout",
          "text": [
            "1982108.634845074\n"
          ]
        }
      ]
    },
    {
      "cell_type": "markdown",
      "source": [
        "## 4. Lasso Regression"
      ],
      "metadata": {
        "id": "QMwT7_VSUzQj"
      }
    },
    {
      "cell_type": "code",
      "source": [
        "# Standadizing our features\n",
        "#\n",
        "scaler = StandardScaler()\n",
        "X_std = scaler.fit_transform(X)"
      ],
      "metadata": {
        "id": "m3hzCuMyUkG4"
      },
      "execution_count": 189,
      "outputs": []
    },
    {
      "cell_type": "code",
      "source": [
        "# Importing linear models\n",
        "# \n",
        "from sklearn import linear_model\n",
        "from sklearn.metrics import mean_squared_error\n",
        "\n",
        "# Creating lasso object\n",
        "# \n",
        "lasso = linear_model.Lasso() \n",
        "\n",
        "# Fitting the models\n",
        "# \n",
        "lasso.fit(X, y) \n",
        "\n",
        "# Print scores, MSE, and coefficients\n",
        "# \n",
        "print(\"lasso score:\", lasso.score(X, y)) \n",
        "print(\"lasso MSE:\", mean_squared_error(y, lasso.predict(X))) \n",
        "print(\"lasso coef:\", lasso.coef_) "
      ],
      "metadata": {
        "id": "ddQlVISlUjir",
        "outputId": "79ac5be1-d903-4ba0-a378-e7bc82d3c505",
        "colab": {
          "base_uri": "https://localhost:8080/"
        }
      },
      "execution_count": 190,
      "outputs": [
        {
          "output_type": "stream",
          "name": "stdout",
          "text": [
            "lasso score: 0.78214274190339\n",
            "lasso MSE: 1981372.0155184406\n",
            "lasso coef: [ 8.70795271e+01 -1.32629280e+02  3.06193130e-01  7.22682975e-01\n",
            " -6.14223775e+02  1.11330422e+02  1.61012801e+01 -3.99056632e-01\n",
            " -5.37838203e-01  5.33063722e+00 -8.82316338e-01  4.88317804e-01]\n"
          ]
        }
      ]
    },
    {
      "cell_type": "code",
      "source": [
        "# split data into training and test sets, and choose a set of parameters \n",
        "\n",
        "X_train, X_test, y_train, y_test = train_test_split(X, y, test_size=0.25, random_state=101)\n",
        "parameters = {'alpha': np.concatenate((np.arange(0.1,2,0.1), np.arange(2, 5, 0.5), np.arange(5, 25, 1)))}\n",
        "\n",
        "linear = linear_model.LinearRegression()\n",
        "lasso = linear_model.Lasso() \n",
        "gridlasso = GridSearchCV(lasso, parameters, scoring ='r2') \n",
        "\n",
        "# Fitting models and print the best parameters, R-squared scores, MSE, and coefficients\n",
        "gridlasso.fit(X_train, y_train) \n",
        "linear.fit(X_train, y_train) \n",
        "print(\"lasso best parameters:\", gridlasso.best_params_) \n",
        "print(\"lasso score:\", gridlasso.score(X_test, y_test))\n",
        "print(\"linear score:\", linear.score(X_test, y_test)) \n",
        "print(\"lasso MSE:\", mean_squared_error(y_test, gridlasso.predict(X_test)))\n",
        "print(\"linear MSE:\", mean_squared_error(y_test, linear.predict(X_test))) \n",
        "print(\"lasso best estimator coef:\", gridlasso.best_estimator_.coef_)\n",
        "print(\"linear coef:\", linear.coef_)"
      ],
      "metadata": {
        "id": "LvEFx8Y-U-bb",
        "outputId": "091f9132-217c-4b4f-c0a2-0f940e1a35ab",
        "colab": {
          "base_uri": "https://localhost:8080/"
        }
      },
      "execution_count": 191,
      "outputs": [
        {
          "output_type": "stream",
          "name": "stdout",
          "text": [
            "lasso best parameters: {'alpha': 0.1}\n",
            "lasso score: 0.7901955211414088\n",
            "linear score: 0.7901926073065326\n",
            "lasso MSE: 1979046.8541361524\n",
            "linear MSE: 1979074.3398017415\n",
            "lasso best estimator coef: [ 1.01167539e+02 -1.43488762e+02  3.12391699e-01  7.16254568e-01\n",
            " -6.36325174e+02  1.13988549e+02  2.31084265e+01 -3.81337314e-01\n",
            " -5.55583151e-01  5.23242652e+00 -1.10297512e+00  4.73865417e-01]\n",
            "linear coef: [ 1.01533823e+02 -1.44099542e+02 -1.04093564e-01  7.16192994e-01\n",
            " -6.37049252e+02  1.14279686e+02  2.35898786e+01  3.52436533e-02\n",
            " -1.39337217e-01  5.24116511e+00 -1.10213239e+00  4.73688317e-01]\n"
          ]
        }
      ]
    },
    {
      "cell_type": "code",
      "source": [
        "# instantiate\n",
        "coefsLasso = [] \n",
        "\n",
        "# Building Lasso for 200 values of alpha and write the coefficients into array\n",
        "# \n",
        "alphasLasso = np.arange (0, 20, 0.1) \n",
        "for i in range(200):\n",
        "    lasso = linear_model.Lasso(alpha=alphasLasso[i])\n",
        "    lasso.fit(X_train, y_train)\n",
        "    coefsLasso.append(lasso.coef_) \n",
        "\n",
        "# Building Lasso coefficient plots\n",
        "# \n",
        "plt.figure(figsize = (16,7))\n",
        "\n",
        "plt.subplot(121)\n",
        "plt.plot(alphasLasso, coefsLasso)\n",
        "plt.title('Lasso coefficients')\n",
        "plt.xlabel('alpha')\n",
        "plt.ylabel('coefs')\n",
        "\n",
        "plt.show()"
      ],
      "metadata": {
        "id": "nIKOCTeAVApT",
        "outputId": "7903738e-931b-49c9-f025-40737716256b",
        "colab": {
          "base_uri": "https://localhost:8080/",
          "height": 457
        }
      },
      "execution_count": 192,
      "outputs": [
        {
          "output_type": "display_data",
          "data": {
            "text/plain": [
              "<Figure size 1152x504 with 1 Axes>"
            ],
            "image/png": "[encoded data removed]"
          },
          "metadata": {
            "needs_background": "light"
          }
        }
      ]
    },
    {
      "cell_type": "markdown",
      "source": [
        "## Elastic Net Regression"
      ],
      "metadata": {
        "id": "jcZW_blhVCVn"
      }
    },
    {
      "cell_type": "code",
      "source": [
        "# Creating our linear regression model for the purpose of comparison\n",
        "print(first_model) \n",
        "\n",
        "# This mean standard error score of 1.05 is our benchmark for determining \n",
        "# if the elastic net model will be better or worst. "
      ],
      "metadata": {
        "id": "ja9qn6cOVI0C",
        "outputId": "56d29be8-390d-4748-f7af-bf54552d856b",
        "colab": {
          "base_uri": "https://localhost:8080/"
        }
      },
      "execution_count": 193,
      "outputs": [
        {
          "output_type": "stream",
          "name": "stdout",
          "text": [
            "1981572.5854375025\n"
          ]
        }
      ]
    },
    {
      "cell_type": "code",
      "source": [
        "# Elastic Net Model\n",
        "# Elastic net, just like ridge and lasso regression, requires normalize data. \n",
        "# This argument  is set inside the ElasticNet function. \n",
        "# The second thing we need to do is create our grid.\n",
        "# \n",
        "elastic=ElasticNet(normalize=True)\n",
        "search=GridSearchCV(estimator=elastic,param_grid={'alpha':np.logspace(-5,2,8),'l1_ratio':[.2,.4,.6,.8]},scoring='neg_mean_squared_error',n_jobs=1,refit=True,cv=10)"
      ],
      "metadata": {
        "id": "0X8ciIM6VLEC"
      },
      "execution_count": 194,
      "outputs": []
    },
    {
      "cell_type": "code",
      "source": [
        "# We will now fit our model and display the best parameters and the best results we can get with that setup.\n",
        "# \n",
        "search.fit(X,y)\n",
        "search.best_params_\n",
        "abs(search.best_score_)"
      ],
      "metadata": {
        "id": "U_lwrZn9VLBQ",
        "outputId": "4353e341-90a8-49da-ff29-c36d2ce8ff92",
        "colab": {
          "base_uri": "https://localhost:8080/"
        }
      },
      "execution_count": 195,
      "outputs": [
        {
          "output_type": "execute_result",
          "data": {
            "text/plain": [
              "2001071.6758363447"
            ]
          },
          "metadata": {},
          "execution_count": 195
        }
      ]
    },
    {
      "cell_type": "code",
      "source": [
        "X = housing.iloc[:,1:-1].values\n",
        "y = housing.iloc[:,-1] .values\n",
        "regr = ElasticNet(random_state=0)\n",
        "regr.fit(X, y)\n",
        "third_model = (mean_squared_error(y_true=y,y_pred=regr.predict(X)))\n",
        "print(third_model)"
      ],
      "metadata": {
        "id": "q3BYeE5DVK-a",
        "outputId": "64819ebb-d174-481d-c3f6-1daa91fd094a",
        "colab": {
          "base_uri": "https://localhost:8080/"
        }
      },
      "execution_count": 196,
      "outputs": [
        {
          "output_type": "stream",
          "name": "stdout",
          "text": [
            "2017859.2807873948\n"
          ]
        }
      ]
    },
    {
      "cell_type": "code",
      "source": [
        "print(regr.coef_)"
      ],
      "metadata": {
        "id": "2Qid5R34VSSL",
        "outputId": "003e5511-1c5f-4260-a58e-7ffd36bb7d03",
        "colab": {
          "base_uri": "https://localhost:8080/"
        }
      },
      "execution_count": 197,
      "outputs": [
        {
          "output_type": "stream",
          "name": "stdout",
          "text": [
            "[  33.11373101  -56.87418752    0.32870101    0.75627595 -127.98597474\n",
            "   49.01840686  -15.48749174   -0.61691057   -0.45874565    1.70278478\n",
            "   -1.38313665    0.52875178]\n"
          ]
        }
      ]
    },
    {
      "cell_type": "code",
      "source": [
        "print(regr.intercept_)"
      ],
      "metadata": {
        "id": "nk8ylHqEVUD-",
        "outputId": "3f6ce5cb-6c0b-4164-cff2-e5b4fe1c4677",
        "colab": {
          "base_uri": "https://localhost:8080/"
        }
      },
      "execution_count": 198,
      "outputs": [
        {
          "output_type": "stream",
          "name": "stdout",
          "text": [
            "133573.75843170445\n"
          ]
        }
      ]
    },
    {
      "cell_type": "code",
      "source": [
        "housing.shape"
      ],
      "metadata": {
        "id": "Tz2760QNVUBS",
        "outputId": "d8b732e3-c913-4b6a-bb5a-618fdebc65ab",
        "colab": {
          "base_uri": "https://localhost:8080/"
        }
      },
      "execution_count": 199,
      "outputs": [
        {
          "output_type": "execute_result",
          "data": {
            "text/plain": [
              "(16612, 14)"
            ]
          },
          "metadata": {},
          "execution_count": 199
        }
      ]
    },
    {
      "cell_type": "code",
      "source": [
        "#print(regr.predict([[0,1,2,3,4,5,6,7]]))"
      ],
      "metadata": {
        "id": "bjXdFQxwVT-N"
      },
      "execution_count": 202,
      "outputs": []
    },
    {
      "cell_type": "markdown",
      "source": [
        "From the models and computations above, it was realised that the mean squared errors for th models were:\n",
        "\n",
        "1. Mean Squared Error: 0.008810835164347339 for multiple linear regression\n",
        "2. Pseudo R-squared: for quantile regression 0.02035 for quantile regression\n",
        "3. MSE for ridge regression: 0.008866260421402749\n",
        "4. lasso MSE: 0.00933824890445654\n",
        "5. Elastic net MSE: 0.009033355731789585\n",
        "\n",
        "Conclusively, the appropriate prediction model for the housing prices is the multiple linear regression, a model that was used as the base comparison model.\n",
        "\n",
        "these models were okay but the model that i would provide Hass consulting Company with will be the multiple regression model.\n",
        "\n",
        "this is becuse this model would allow the company to accurately predict the sale of prices upon being provided with the predictor variables."
      ],
      "metadata": {
        "id": "OlXHDRP5VcaP"
      }
    },
    {
      "cell_type": "code",
      "source": [
        ""
      ],
      "metadata": {
        "id": "t6L3nbvbVdWU"
      },
      "execution_count": 200,
      "outputs": []
    }
  ]
}
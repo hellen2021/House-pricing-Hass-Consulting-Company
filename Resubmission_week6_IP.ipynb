{
  "nbformat": 4,
  "nbformat_minor": 0,
  "metadata": {
    "colab": {
      "name": "Resubmission_week6_IP.ipynb",
      "provenance": [],
      "authorship_tag": "ABX9TyNRX0TqTsccNtRCCTIDEbL2",
      "include_colab_link": true
    },
    "kernelspec": {
      "name": "python3",
      "display_name": "Python 3"
    },
    "language_info": {
      "name": "python"
    }
  },
  "cells": [
    {
      "cell_type": "markdown",
      "metadata": {
        "id": "view-in-github",
        "colab_type": "text"
      },
      "source": [
        "<a href=\"https://colab.research.google.com/github/hellen2021/House-pricing-Hass-Consulting-Company/blob/main/Resubmission_week6_IP.ipynb\" target=\"_parent\"><img src=\"https://colab.research.google.com/assets/colab-badge.svg\" alt=\"Open In Colab\"/></a>"
      ]
    },
    {
      "cell_type": "markdown",
      "source": [
        "# House Pricing for Hass Consulting Company\n",
        "### 1. Defining the question\n",
        "As a data scientist, I have been tasked to study the factors that affect housing prices(for Hass Consulting Company) using the given information on real estate properties that was collected over the past few months\n",
        "### 2. Defining the metric of success\n",
        "This project will a success if I am able to obtain a model with the lowest error rate, e.g RMSE, as possible. \n",
        "The algorithms to be used for modelling are as follows:\n",
        "\n",
        "*   Multiple Linear Regression\n",
        "*   Quantile Regression\n",
        "*   Ridge Regression\n",
        "*   Lasso Regression\n",
        "*   Elastic Net Regression\n",
        "\n",
        "### 3. Understanding the context\n",
        "### 4. Recording experimental designs\n",
        "*   Reading the data\n",
        "*   Data exploration\n",
        "*   Data cleaning\n",
        "*   Perform EDA\n",
        "*   Modelling\n",
        "*   Evaluation of the model\n",
        "\n",
        "### 7. Challenging the solution\n",
        "### 8. Follow up questions"
      ],
      "metadata": {
        "id": "q82sfCETzx6X"
      }
    },
    {
      "cell_type": "markdown",
      "source": [
        "## Import Necessary Libraries"
      ],
      "metadata": {
        "id": "3ekg1GIV29B7"
      }
    },
    {
      "cell_type": "code",
      "source": [
        "import pandas as pd\n",
        "import numpy as np\n",
        "import matplotlib.pyplot as plt\n",
        "from sklearn.model_selection import train_test_split\n",
        "import scipy as sp\n",
        "from sklearn.linear_model import LinearRegression\n",
        "from sklearn.model_selection import GridSearchCV\n",
        "from sklearn.linear_model import Ridge, ElasticNet, Lasso\n",
        "import statsmodels.formula.api as smf\n",
        "from sklearn.metrics import mean_squared_error,r2_score, mean_absolute_error\n",
        "from sklearn.preprocessing import StandardScaler\n",
        "import warnings\n",
        "warnings.filterwarnings(\"ignore\")\n"
      ],
      "metadata": {
        "id": "7KYqDlDj3DB0",
        "colab": {
          "base_uri": "https://localhost:8080/"
        },
        "outputId": "f0437caa-b675-4c14-892b-f39eee32215c"
      },
      "execution_count": 1,
      "outputs": [
        {
          "output_type": "stream",
          "name": "stderr",
          "text": [
            "/usr/local/lib/python3.7/dist-packages/statsmodels/tools/_testing.py:19: FutureWarning: pandas.util.testing is deprecated. Use the functions in the public API at pandas.testing instead.\n",
            "  import pandas.util.testing as tm\n"
          ]
        }
      ]
    },
    {
      "cell_type": "markdown",
      "source": [
        "## Reading the data"
      ],
      "metadata": {
        "id": "kaeQWAgx2IR6"
      }
    },
    {
      "cell_type": "code",
      "execution_count": 2,
      "metadata": {
        "id": "RdVyYbYFyvgr"
      },
      "outputs": [],
      "source": [
        "# load the dataset\n",
        "housing = pd.read_csv('http://bit.ly/IndependentProjectWeek7Dataset')"
      ]
    },
    {
      "cell_type": "markdown",
      "source": [
        "## Data Exploration"
      ],
      "metadata": {
        "id": "7W_XELu13JrF"
      }
    },
    {
      "cell_type": "code",
      "source": [
        "# preview the top 5 records\n",
        "housing.head()"
      ],
      "metadata": {
        "colab": {
          "base_uri": "https://localhost:8080/",
          "height": 270
        },
        "id": "CKRuHnfJ25J1",
        "outputId": "11641513-e2f1-4527-a45a-536092dcd8d3"
      },
      "execution_count": 3,
      "outputs": [
        {
          "output_type": "execute_result",
          "data": {
            "text/plain": [
              "           id     price  bedrooms  bathrooms  sqft_living  sqft_lot  floors  \\\n",
              "0  7129300520  221900.0         3       1.00         1180      5650     1.0   \n",
              "1  6414100192  538000.0         3       2.25         2570      7242     2.0   \n",
              "2  5631500400  180000.0         2       1.00          770     10000     1.0   \n",
              "3  2487200875  604000.0         4       3.00         1960      5000     1.0   \n",
              "4  1954400510  510000.0         3       2.00         1680      8080     1.0   \n",
              "\n",
              "   waterfront  view  condition  grade  sqft_above  sqft_basement  yr_built  \\\n",
              "0           0     0          3      7        1180              0      1955   \n",
              "1           0     0          3      7        2170            400      1951   \n",
              "2           0     0          3      6         770              0      1933   \n",
              "3           0     0          5      7        1050            910      1965   \n",
              "4           0     0          3      8        1680              0      1987   \n",
              "\n",
              "   yr_renovated  zipcode      lat     long  sqft_living15  sqft_lot15  \n",
              "0             0    98178  47.5112 -122.257           1340        5650  \n",
              "1          1991    98125  47.7210 -122.319           1690        7639  \n",
              "2             0    98028  47.7379 -122.233           2720        8062  \n",
              "3             0    98136  47.5208 -122.393           1360        5000  \n",
              "4             0    98074  47.6168 -122.045           1800        7503  "
            ],
            "text/html": [
              "\n",
              "  <div id=\"df-8547bb15-a1e7-4ea9-9faf-b346ecbd922b\">\n",
              "    <div class=\"colab-df-container\">\n",
              "      <div>\n",
              "<style scoped>\n",
              "    .dataframe tbody tr th:only-of-type {\n",
              "        vertical-align: middle;\n",
              "    }\n",
              "\n",
              "    .dataframe tbody tr th {\n",
              "        vertical-align: top;\n",
              "    }\n",
              "\n",
              "    .dataframe thead th {\n",
              "        text-align: right;\n",
              "    }\n",
              "</style>\n",
              "<table border=\"1\" class=\"dataframe\">\n",
              "  <thead>\n",
              "    <tr style=\"text-align: right;\">\n",
              "      <th></th>\n",
              "      <th>id</th>\n",
              "      <th>price</th>\n",
              "      <th>bedrooms</th>\n",
              "      <th>bathrooms</th>\n",
              "      <th>sqft_living</th>\n",
              "      <th>sqft_lot</th>\n",
              "      <th>floors</th>\n",
              "      <th>waterfront</th>\n",
              "      <th>view</th>\n",
              "      <th>condition</th>\n",
              "      <th>grade</th>\n",
              "      <th>sqft_above</th>\n",
              "      <th>sqft_basement</th>\n",
              "      <th>yr_built</th>\n",
              "      <th>yr_renovated</th>\n",
              "      <th>zipcode</th>\n",
              "      <th>lat</th>\n",
              "      <th>long</th>\n",
              "      <th>sqft_living15</th>\n",
              "      <th>sqft_lot15</th>\n",
              "    </tr>\n",
              "  </thead>\n",
              "  <tbody>\n",
              "    <tr>\n",
              "      <th>0</th>\n",
              "      <td>7129300520</td>\n",
              "      <td>221900.0</td>\n",
              "      <td>3</td>\n",
              "      <td>1.00</td>\n",
              "      <td>1180</td>\n",
              "      <td>5650</td>\n",
              "      <td>1.0</td>\n",
              "      <td>0</td>\n",
              "      <td>0</td>\n",
              "      <td>3</td>\n",
              "      <td>7</td>\n",
              "      <td>1180</td>\n",
              "      <td>0</td>\n",
              "      <td>1955</td>\n",
              "      <td>0</td>\n",
              "      <td>98178</td>\n",
              "      <td>47.5112</td>\n",
              "      <td>-122.257</td>\n",
              "      <td>1340</td>\n",
              "      <td>5650</td>\n",
              "    </tr>\n",
              "    <tr>\n",
              "      <th>1</th>\n",
              "      <td>6414100192</td>\n",
              "      <td>538000.0</td>\n",
              "      <td>3</td>\n",
              "      <td>2.25</td>\n",
              "      <td>2570</td>\n",
              "      <td>7242</td>\n",
              "      <td>2.0</td>\n",
              "      <td>0</td>\n",
              "      <td>0</td>\n",
              "      <td>3</td>\n",
              "      <td>7</td>\n",
              "      <td>2170</td>\n",
              "      <td>400</td>\n",
              "      <td>1951</td>\n",
              "      <td>1991</td>\n",
              "      <td>98125</td>\n",
              "      <td>47.7210</td>\n",
              "      <td>-122.319</td>\n",
              "      <td>1690</td>\n",
              "      <td>7639</td>\n",
              "    </tr>\n",
              "    <tr>\n",
              "      <th>2</th>\n",
              "      <td>5631500400</td>\n",
              "      <td>180000.0</td>\n",
              "      <td>2</td>\n",
              "      <td>1.00</td>\n",
              "      <td>770</td>\n",
              "      <td>10000</td>\n",
              "      <td>1.0</td>\n",
              "      <td>0</td>\n",
              "      <td>0</td>\n",
              "      <td>3</td>\n",
              "      <td>6</td>\n",
              "      <td>770</td>\n",
              "      <td>0</td>\n",
              "      <td>1933</td>\n",
              "      <td>0</td>\n",
              "      <td>98028</td>\n",
              "      <td>47.7379</td>\n",
              "      <td>-122.233</td>\n",
              "      <td>2720</td>\n",
              "      <td>8062</td>\n",
              "    </tr>\n",
              "    <tr>\n",
              "      <th>3</th>\n",
              "      <td>2487200875</td>\n",
              "      <td>604000.0</td>\n",
              "      <td>4</td>\n",
              "      <td>3.00</td>\n",
              "      <td>1960</td>\n",
              "      <td>5000</td>\n",
              "      <td>1.0</td>\n",
              "      <td>0</td>\n",
              "      <td>0</td>\n",
              "      <td>5</td>\n",
              "      <td>7</td>\n",
              "      <td>1050</td>\n",
              "      <td>910</td>\n",
              "      <td>1965</td>\n",
              "      <td>0</td>\n",
              "      <td>98136</td>\n",
              "      <td>47.5208</td>\n",
              "      <td>-122.393</td>\n",
              "      <td>1360</td>\n",
              "      <td>5000</td>\n",
              "    </tr>\n",
              "    <tr>\n",
              "      <th>4</th>\n",
              "      <td>1954400510</td>\n",
              "      <td>510000.0</td>\n",
              "      <td>3</td>\n",
              "      <td>2.00</td>\n",
              "      <td>1680</td>\n",
              "      <td>8080</td>\n",
              "      <td>1.0</td>\n",
              "      <td>0</td>\n",
              "      <td>0</td>\n",
              "      <td>3</td>\n",
              "      <td>8</td>\n",
              "      <td>1680</td>\n",
              "      <td>0</td>\n",
              "      <td>1987</td>\n",
              "      <td>0</td>\n",
              "      <td>98074</td>\n",
              "      <td>47.6168</td>\n",
              "      <td>-122.045</td>\n",
              "      <td>1800</td>\n",
              "      <td>7503</td>\n",
              "    </tr>\n",
              "  </tbody>\n",
              "</table>\n",
              "</div>\n",
              "      <button class=\"colab-df-convert\" onclick=\"convertToInteractive('df-8547bb15-a1e7-4ea9-9faf-b346ecbd922b')\"\n",
              "              title=\"Convert this dataframe to an interactive table.\"\n",
              "              style=\"display:none;\">\n",
              "        \n",
              "  <svg xmlns=\"http://www.w3.org/2000/svg\" height=\"24px\"viewBox=\"0 0 24 24\"\n",
              "       width=\"24px\">\n",
              "    <path d=\"M0 0h24v24H0V0z\" fill=\"none\"/>\n",
              "    <path d=\"M18.56 5.44l.94 2.06.94-2.06 2.06-.94-2.06-.94-.94-2.06-.94 2.06-2.06.94zm-11 1L8.5 8.5l.94-2.06 2.06-.94-2.06-.94L8.5 2.5l-.94 2.06-2.06.94zm10 10l.94 2.06.94-2.06 2.06-.94-2.06-.94-.94-2.06-.94 2.06-2.06.94z\"/><path d=\"M17.41 7.96l-1.37-1.37c-.4-.4-.92-.59-1.43-.59-.52 0-1.04.2-1.43.59L10.3 9.45l-7.72 7.72c-.78.78-.78 2.05 0 2.83L4 21.41c.39.39.9.59 1.41.59.51 0 1.02-.2 1.41-.59l7.78-7.78 2.81-2.81c.8-.78.8-2.07 0-2.86zM5.41 20L4 18.59l7.72-7.72 1.47 1.35L5.41 20z\"/>\n",
              "  </svg>\n",
              "      </button>\n",
              "      \n",
              "  <style>\n",
              "    .colab-df-container {\n",
              "      display:flex;\n",
              "      flex-wrap:wrap;\n",
              "      gap: 12px;\n",
              "    }\n",
              "\n",
              "    .colab-df-convert {\n",
              "      background-color: #E8F0FE;\n",
              "      border: none;\n",
              "      border-radius: 50%;\n",
              "      cursor: pointer;\n",
              "      display: none;\n",
              "      fill: #1967D2;\n",
              "      height: 32px;\n",
              "      padding: 0 0 0 0;\n",
              "      width: 32px;\n",
              "    }\n",
              "\n",
              "    .colab-df-convert:hover {\n",
              "      background-color: #E2EBFA;\n",
              "      box-shadow: 0px 1px 2px rgba(60, 64, 67, 0.3), 0px 1px 3px 1px rgba(60, 64, 67, 0.15);\n",
              "      fill: #174EA6;\n",
              "    }\n",
              "\n",
              "    [theme=dark] .colab-df-convert {\n",
              "      background-color: #3B4455;\n",
              "      fill: #D2E3FC;\n",
              "    }\n",
              "\n",
              "    [theme=dark] .colab-df-convert:hover {\n",
              "      background-color: #434B5C;\n",
              "      box-shadow: 0px 1px 3px 1px rgba(0, 0, 0, 0.15);\n",
              "      filter: drop-shadow(0px 1px 2px rgba(0, 0, 0, 0.3));\n",
              "      fill: #FFFFFF;\n",
              "    }\n",
              "  </style>\n",
              "\n",
              "      <script>\n",
              "        const buttonEl =\n",
              "          document.querySelector('#df-8547bb15-a1e7-4ea9-9faf-b346ecbd922b button.colab-df-convert');\n",
              "        buttonEl.style.display =\n",
              "          google.colab.kernel.accessAllowed ? 'block' : 'none';\n",
              "\n",
              "        async function convertToInteractive(key) {\n",
              "          const element = document.querySelector('#df-8547bb15-a1e7-4ea9-9faf-b346ecbd922b');\n",
              "          const dataTable =\n",
              "            await google.colab.kernel.invokeFunction('convertToInteractive',\n",
              "                                                     [key], {});\n",
              "          if (!dataTable) return;\n",
              "\n",
              "          const docLinkHtml = 'Like what you see? Visit the ' +\n",
              "            '<a target=\"_blank\" href=https://colab.research.google.com/notebooks/data_table.ipynb>data table notebook</a>'\n",
              "            + ' to learn more about interactive tables.';\n",
              "          element.innerHTML = '';\n",
              "          dataTable['output_type'] = 'display_data';\n",
              "          await google.colab.output.renderOutput(dataTable, element);\n",
              "          const docLink = document.createElement('div');\n",
              "          docLink.innerHTML = docLinkHtml;\n",
              "          element.appendChild(docLink);\n",
              "        }\n",
              "      </script>\n",
              "    </div>\n",
              "  </div>\n",
              "  "
            ]
          },
          "metadata": {},
          "execution_count": 3
        }
      ]
    },
    {
      "cell_type": "code",
      "source": [
        "# # preview the bottom 5 records\n",
        "housing.tail()"
      ],
      "metadata": {
        "colab": {
          "base_uri": "https://localhost:8080/",
          "height": 270
        },
        "id": "fYaiV9rS3WkY",
        "outputId": "92189d4d-387b-477d-d6b0-8599939c4311"
      },
      "execution_count": 4,
      "outputs": [
        {
          "output_type": "execute_result",
          "data": {
            "text/plain": [
              "               id     price  bedrooms  bathrooms  sqft_living  sqft_lot  \\\n",
              "21608   263000018  360000.0         3       2.50         1530      1131   \n",
              "21609  6600060120  400000.0         4       2.50         2310      5813   \n",
              "21610  1523300141  402101.0         2       0.75         1020      1350   \n",
              "21611   291310100  400000.0         3       2.50         1600      2388   \n",
              "21612  1523300157  325000.0         2       0.75         1020      1076   \n",
              "\n",
              "       floors  waterfront  view  condition  grade  sqft_above  sqft_basement  \\\n",
              "21608     3.0           0     0          3      8        1530              0   \n",
              "21609     2.0           0     0          3      8        2310              0   \n",
              "21610     2.0           0     0          3      7        1020              0   \n",
              "21611     2.0           0     0          3      8        1600              0   \n",
              "21612     2.0           0     0          3      7        1020              0   \n",
              "\n",
              "       yr_built  yr_renovated  zipcode      lat     long  sqft_living15  \\\n",
              "21608      2009             0    98103  47.6993 -122.346           1530   \n",
              "21609      2014             0    98146  47.5107 -122.362           1830   \n",
              "21610      2009             0    98144  47.5944 -122.299           1020   \n",
              "21611      2004             0    98027  47.5345 -122.069           1410   \n",
              "21612      2008             0    98144  47.5941 -122.299           1020   \n",
              "\n",
              "       sqft_lot15  \n",
              "21608        1509  \n",
              "21609        7200  \n",
              "21610        2007  \n",
              "21611        1287  \n",
              "21612        1357  "
            ],
            "text/html": [
              "\n",
              "  <div id=\"df-d2227208-564c-4536-b9c7-8e7be778e90b\">\n",
              "    <div class=\"colab-df-container\">\n",
              "      <div>\n",
              "<style scoped>\n",
              "    .dataframe tbody tr th:only-of-type {\n",
              "        vertical-align: middle;\n",
              "    }\n",
              "\n",
              "    .dataframe tbody tr th {\n",
              "        vertical-align: top;\n",
              "    }\n",
              "\n",
              "    .dataframe thead th {\n",
              "        text-align: right;\n",
              "    }\n",
              "</style>\n",
              "<table border=\"1\" class=\"dataframe\">\n",
              "  <thead>\n",
              "    <tr style=\"text-align: right;\">\n",
              "      <th></th>\n",
              "      <th>id</th>\n",
              "      <th>price</th>\n",
              "      <th>bedrooms</th>\n",
              "      <th>bathrooms</th>\n",
              "      <th>sqft_living</th>\n",
              "      <th>sqft_lot</th>\n",
              "      <th>floors</th>\n",
              "      <th>waterfront</th>\n",
              "      <th>view</th>\n",
              "      <th>condition</th>\n",
              "      <th>grade</th>\n",
              "      <th>sqft_above</th>\n",
              "      <th>sqft_basement</th>\n",
              "      <th>yr_built</th>\n",
              "      <th>yr_renovated</th>\n",
              "      <th>zipcode</th>\n",
              "      <th>lat</th>\n",
              "      <th>long</th>\n",
              "      <th>sqft_living15</th>\n",
              "      <th>sqft_lot15</th>\n",
              "    </tr>\n",
              "  </thead>\n",
              "  <tbody>\n",
              "    <tr>\n",
              "      <th>21608</th>\n",
              "      <td>263000018</td>\n",
              "      <td>360000.0</td>\n",
              "      <td>3</td>\n",
              "      <td>2.50</td>\n",
              "      <td>1530</td>\n",
              "      <td>1131</td>\n",
              "      <td>3.0</td>\n",
              "      <td>0</td>\n",
              "      <td>0</td>\n",
              "      <td>3</td>\n",
              "      <td>8</td>\n",
              "      <td>1530</td>\n",
              "      <td>0</td>\n",
              "      <td>2009</td>\n",
              "      <td>0</td>\n",
              "      <td>98103</td>\n",
              "      <td>47.6993</td>\n",
              "      <td>-122.346</td>\n",
              "      <td>1530</td>\n",
              "      <td>1509</td>\n",
              "    </tr>\n",
              "    <tr>\n",
              "      <th>21609</th>\n",
              "      <td>6600060120</td>\n",
              "      <td>400000.0</td>\n",
              "      <td>4</td>\n",
              "      <td>2.50</td>\n",
              "      <td>2310</td>\n",
              "      <td>5813</td>\n",
              "      <td>2.0</td>\n",
              "      <td>0</td>\n",
              "      <td>0</td>\n",
              "      <td>3</td>\n",
              "      <td>8</td>\n",
              "      <td>2310</td>\n",
              "      <td>0</td>\n",
              "      <td>2014</td>\n",
              "      <td>0</td>\n",
              "      <td>98146</td>\n",
              "      <td>47.5107</td>\n",
              "      <td>-122.362</td>\n",
              "      <td>1830</td>\n",
              "      <td>7200</td>\n",
              "    </tr>\n",
              "    <tr>\n",
              "      <th>21610</th>\n",
              "      <td>1523300141</td>\n",
              "      <td>402101.0</td>\n",
              "      <td>2</td>\n",
              "      <td>0.75</td>\n",
              "      <td>1020</td>\n",
              "      <td>1350</td>\n",
              "      <td>2.0</td>\n",
              "      <td>0</td>\n",
              "      <td>0</td>\n",
              "      <td>3</td>\n",
              "      <td>7</td>\n",
              "      <td>1020</td>\n",
              "      <td>0</td>\n",
              "      <td>2009</td>\n",
              "      <td>0</td>\n",
              "      <td>98144</td>\n",
              "      <td>47.5944</td>\n",
              "      <td>-122.299</td>\n",
              "      <td>1020</td>\n",
              "      <td>2007</td>\n",
              "    </tr>\n",
              "    <tr>\n",
              "      <th>21611</th>\n",
              "      <td>291310100</td>\n",
              "      <td>400000.0</td>\n",
              "      <td>3</td>\n",
              "      <td>2.50</td>\n",
              "      <td>1600</td>\n",
              "      <td>2388</td>\n",
              "      <td>2.0</td>\n",
              "      <td>0</td>\n",
              "      <td>0</td>\n",
              "      <td>3</td>\n",
              "      <td>8</td>\n",
              "      <td>1600</td>\n",
              "      <td>0</td>\n",
              "      <td>2004</td>\n",
              "      <td>0</td>\n",
              "      <td>98027</td>\n",
              "      <td>47.5345</td>\n",
              "      <td>-122.069</td>\n",
              "      <td>1410</td>\n",
              "      <td>1287</td>\n",
              "    </tr>\n",
              "    <tr>\n",
              "      <th>21612</th>\n",
              "      <td>1523300157</td>\n",
              "      <td>325000.0</td>\n",
              "      <td>2</td>\n",
              "      <td>0.75</td>\n",
              "      <td>1020</td>\n",
              "      <td>1076</td>\n",
              "      <td>2.0</td>\n",
              "      <td>0</td>\n",
              "      <td>0</td>\n",
              "      <td>3</td>\n",
              "      <td>7</td>\n",
              "      <td>1020</td>\n",
              "      <td>0</td>\n",
              "      <td>2008</td>\n",
              "      <td>0</td>\n",
              "      <td>98144</td>\n",
              "      <td>47.5941</td>\n",
              "      <td>-122.299</td>\n",
              "      <td>1020</td>\n",
              "      <td>1357</td>\n",
              "    </tr>\n",
              "  </tbody>\n",
              "</table>\n",
              "</div>\n",
              "      <button class=\"colab-df-convert\" onclick=\"convertToInteractive('df-d2227208-564c-4536-b9c7-8e7be778e90b')\"\n",
              "              title=\"Convert this dataframe to an interactive table.\"\n",
              "              style=\"display:none;\">\n",
              "        \n",
              "  <svg xmlns=\"http://www.w3.org/2000/svg\" height=\"24px\"viewBox=\"0 0 24 24\"\n",
              "       width=\"24px\">\n",
              "    <path d=\"M0 0h24v24H0V0z\" fill=\"none\"/>\n",
              "    <path d=\"M18.56 5.44l.94 2.06.94-2.06 2.06-.94-2.06-.94-.94-2.06-.94 2.06-2.06.94zm-11 1L8.5 8.5l.94-2.06 2.06-.94-2.06-.94L8.5 2.5l-.94 2.06-2.06.94zm10 10l.94 2.06.94-2.06 2.06-.94-2.06-.94-.94-2.06-.94 2.06-2.06.94z\"/><path d=\"M17.41 7.96l-1.37-1.37c-.4-.4-.92-.59-1.43-.59-.52 0-1.04.2-1.43.59L10.3 9.45l-7.72 7.72c-.78.78-.78 2.05 0 2.83L4 21.41c.39.39.9.59 1.41.59.51 0 1.02-.2 1.41-.59l7.78-7.78 2.81-2.81c.8-.78.8-2.07 0-2.86zM5.41 20L4 18.59l7.72-7.72 1.47 1.35L5.41 20z\"/>\n",
              "  </svg>\n",
              "      </button>\n",
              "      \n",
              "  <style>\n",
              "    .colab-df-container {\n",
              "      display:flex;\n",
              "      flex-wrap:wrap;\n",
              "      gap: 12px;\n",
              "    }\n",
              "\n",
              "    .colab-df-convert {\n",
              "      background-color: #E8F0FE;\n",
              "      border: none;\n",
              "      border-radius: 50%;\n",
              "      cursor: pointer;\n",
              "      display: none;\n",
              "      fill: #1967D2;\n",
              "      height: 32px;\n",
              "      padding: 0 0 0 0;\n",
              "      width: 32px;\n",
              "    }\n",
              "\n",
              "    .colab-df-convert:hover {\n",
              "      background-color: #E2EBFA;\n",
              "      box-shadow: 0px 1px 2px rgba(60, 64, 67, 0.3), 0px 1px 3px 1px rgba(60, 64, 67, 0.15);\n",
              "      fill: #174EA6;\n",
              "    }\n",
              "\n",
              "    [theme=dark] .colab-df-convert {\n",
              "      background-color: #3B4455;\n",
              "      fill: #D2E3FC;\n",
              "    }\n",
              "\n",
              "    [theme=dark] .colab-df-convert:hover {\n",
              "      background-color: #434B5C;\n",
              "      box-shadow: 0px 1px 3px 1px rgba(0, 0, 0, 0.15);\n",
              "      filter: drop-shadow(0px 1px 2px rgba(0, 0, 0, 0.3));\n",
              "      fill: #FFFFFF;\n",
              "    }\n",
              "  </style>\n",
              "\n",
              "      <script>\n",
              "        const buttonEl =\n",
              "          document.querySelector('#df-d2227208-564c-4536-b9c7-8e7be778e90b button.colab-df-convert');\n",
              "        buttonEl.style.display =\n",
              "          google.colab.kernel.accessAllowed ? 'block' : 'none';\n",
              "\n",
              "        async function convertToInteractive(key) {\n",
              "          const element = document.querySelector('#df-d2227208-564c-4536-b9c7-8e7be778e90b');\n",
              "          const dataTable =\n",
              "            await google.colab.kernel.invokeFunction('convertToInteractive',\n",
              "                                                     [key], {});\n",
              "          if (!dataTable) return;\n",
              "\n",
              "          const docLinkHtml = 'Like what you see? Visit the ' +\n",
              "            '<a target=\"_blank\" href=https://colab.research.google.com/notebooks/data_table.ipynb>data table notebook</a>'\n",
              "            + ' to learn more about interactive tables.';\n",
              "          element.innerHTML = '';\n",
              "          dataTable['output_type'] = 'display_data';\n",
              "          await google.colab.output.renderOutput(dataTable, element);\n",
              "          const docLink = document.createElement('div');\n",
              "          docLink.innerHTML = docLinkHtml;\n",
              "          element.appendChild(docLink);\n",
              "        }\n",
              "      </script>\n",
              "    </div>\n",
              "  </div>\n",
              "  "
            ]
          },
          "metadata": {},
          "execution_count": 4
        }
      ]
    },
    {
      "cell_type": "code",
      "source": [
        "housing['price'].max()"
      ],
      "metadata": {
        "colab": {
          "base_uri": "https://localhost:8080/"
        },
        "id": "fEg9wYvCLHYe",
        "outputId": "fd40d6aa-5e95-436c-9a51-3865eacc3c5c"
      },
      "execution_count": 5,
      "outputs": [
        {
          "output_type": "execute_result",
          "data": {
            "text/plain": [
              "7700000.0"
            ]
          },
          "metadata": {},
          "execution_count": 5
        }
      ]
    },
    {
      "cell_type": "markdown",
      "source": [
        "House description\n",
        "\n",
        "*   Id \n",
        "*   price  - Price of the house\n",
        "*   bedrooms - Number of Bedrooms\n",
        "*   bathrooms - Number of Bathrooms\n",
        "*   sqft_living - Square feet area of living area\n",
        "*   sqft_lot  - Square feet area of parking Layout\n",
        "*   floors - Number of Floors\n",
        "*   waterfront - Whether waterfront is there or not\n",
        "*   view - Number of Views\n",
        "*   grade - Grades\n",
        "*   sqft_above\n",
        "*   sqft_basement - Square feet area off basement\n",
        "*   yr_built - Year the house is built\n",
        "*   yr_renovated - Year the house is renovated\n",
        "*   zipcode - zipcode os the house\n",
        "*   lat : Latitude of the house\n",
        "*   lon : Longitude of the house\n",
        "*   sqft_living15\n",
        "*   sqft_lot15\n"
      ],
      "metadata": {
        "id": "PDl4zlNz_Vit"
      }
    },
    {
      "cell_type": "code",
      "source": [
        "# shape of the data\n",
        "print('The dataset consist of',housing.shape[0], 'rows and', housing.shape[1], 'columns')"
      ],
      "metadata": {
        "colab": {
          "base_uri": "https://localhost:8080/"
        },
        "id": "_Sp-tJJJ3bKI",
        "outputId": "147ffe8a-7881-45a4-b5d4-51f3cd440cb5"
      },
      "execution_count": 6,
      "outputs": [
        {
          "output_type": "stream",
          "name": "stdout",
          "text": [
            "The dataset consist of 21613 rows and 20 columns\n"
          ]
        }
      ]
    },
    {
      "cell_type": "code",
      "source": [
        "# info\n",
        "housing.info()"
      ],
      "metadata": {
        "colab": {
          "base_uri": "https://localhost:8080/"
        },
        "id": "xaRERVLc5lj-",
        "outputId": "f2bf26f1-1549-4cbc-d25d-a4a986e14a85"
      },
      "execution_count": 7,
      "outputs": [
        {
          "output_type": "stream",
          "name": "stdout",
          "text": [
            "<class 'pandas.core.frame.DataFrame'>\n",
            "RangeIndex: 21613 entries, 0 to 21612\n",
            "Data columns (total 20 columns):\n",
            " #   Column         Non-Null Count  Dtype  \n",
            "---  ------         --------------  -----  \n",
            " 0   id             21613 non-null  int64  \n",
            " 1   price          21613 non-null  float64\n",
            " 2   bedrooms       21613 non-null  int64  \n",
            " 3   bathrooms      21613 non-null  float64\n",
            " 4   sqft_living    21613 non-null  int64  \n",
            " 5   sqft_lot       21613 non-null  int64  \n",
            " 6   floors         21613 non-null  float64\n",
            " 7   waterfront     21613 non-null  int64  \n",
            " 8   view           21613 non-null  int64  \n",
            " 9   condition      21613 non-null  int64  \n",
            " 10  grade          21613 non-null  int64  \n",
            " 11  sqft_above     21613 non-null  int64  \n",
            " 12  sqft_basement  21613 non-null  int64  \n",
            " 13  yr_built       21613 non-null  int64  \n",
            " 14  yr_renovated   21613 non-null  int64  \n",
            " 15  zipcode        21613 non-null  int64  \n",
            " 16  lat            21613 non-null  float64\n",
            " 17  long           21613 non-null  float64\n",
            " 18  sqft_living15  21613 non-null  int64  \n",
            " 19  sqft_lot15     21613 non-null  int64  \n",
            "dtypes: float64(5), int64(15)\n",
            "memory usage: 3.3 MB\n"
          ]
        }
      ]
    },
    {
      "cell_type": "code",
      "source": [
        "# from the info above we can know the data type and the number of non null values of each column\n",
        "# all the columns' data types are numerical"
      ],
      "metadata": {
        "id": "ys14Vrnp5sVz"
      },
      "execution_count": 8,
      "outputs": []
    },
    {
      "cell_type": "code",
      "source": [
        "# check if there are duplicates\n",
        "housing.duplicated().sum()\n",
        "print('There are', housing.duplicated().sum(), 'duplicated rows')"
      ],
      "metadata": {
        "colab": {
          "base_uri": "https://localhost:8080/"
        },
        "id": "R9r5SEeN3wSm",
        "outputId": "a32fb159-1123-4ffd-9b31-8bdc9bc253b5"
      },
      "execution_count": 9,
      "outputs": [
        {
          "output_type": "stream",
          "name": "stdout",
          "text": [
            "There are 3 duplicated rows\n"
          ]
        }
      ]
    },
    {
      "cell_type": "code",
      "source": [
        "# check for missing values\n",
        "print(housing.isnull().sum())\n",
        "\n",
        "print('There are no missing values')"
      ],
      "metadata": {
        "colab": {
          "base_uri": "https://localhost:8080/"
        },
        "id": "hD0IR9iq4mir",
        "outputId": "2b91a8d9-5e8a-49ef-af81-049f735152da"
      },
      "execution_count": 10,
      "outputs": [
        {
          "output_type": "stream",
          "name": "stdout",
          "text": [
            "id               0\n",
            "price            0\n",
            "bedrooms         0\n",
            "bathrooms        0\n",
            "sqft_living      0\n",
            "sqft_lot         0\n",
            "floors           0\n",
            "waterfront       0\n",
            "view             0\n",
            "condition        0\n",
            "grade            0\n",
            "sqft_above       0\n",
            "sqft_basement    0\n",
            "yr_built         0\n",
            "yr_renovated     0\n",
            "zipcode          0\n",
            "lat              0\n",
            "long             0\n",
            "sqft_living15    0\n",
            "sqft_lot15       0\n",
            "dtype: int64\n",
            "There are no missing values\n"
          ]
        }
      ]
    },
    {
      "cell_type": "code",
      "source": [
        "# there are no missing values, however, we can check for unique values in every column in order to ascertain that"
      ],
      "metadata": {
        "id": "1XBXHt3747zD"
      },
      "execution_count": 11,
      "outputs": []
    },
    {
      "cell_type": "code",
      "source": [
        "# validity\n",
        "# using a for loop to iterate through each column and print out the unique values\n",
        "for column in housing.columns:           \n",
        "  print(column)                       \n",
        "  print(housing[column].unique())        \n",
        "  print(housing[column].nunique()) \n",
        "  print('\\n............................') "
      ],
      "metadata": {
        "colab": {
          "base_uri": "https://localhost:8080/"
        },
        "id": "zEhjaeEo5RIH",
        "outputId": "ff57a6a8-1495-4a69-a040-1458f5402750"
      },
      "execution_count": 12,
      "outputs": [
        {
          "output_type": "stream",
          "name": "stdout",
          "text": [
            "id\n",
            "[7129300520 6414100192 5631500400 ... 1523300141  291310100 1523300157]\n",
            "21436\n",
            "\n",
            "............................\n",
            "price\n",
            "[221900. 538000. 180000. ... 541800. 610685. 402101.]\n",
            "3625\n",
            "\n",
            "............................\n",
            "bedrooms\n",
            "[ 3  2  4  5  1  6  7  0  8  9 11 10 33]\n",
            "13\n",
            "\n",
            "............................\n",
            "bathrooms\n",
            "[1.   2.25 3.   2.   4.5  1.5  2.5  1.75 2.75 3.25 4.   3.5  0.75 4.75\n",
            " 5.   4.25 3.75 0.   1.25 5.25 6.   0.5  5.5  6.75 5.75 8.   7.5  7.75\n",
            " 6.25 6.5 ]\n",
            "30\n",
            "\n",
            "............................\n",
            "sqft_living\n",
            "[1180 2570  770 ... 3087 3118 1425]\n",
            "1038\n",
            "\n",
            "............................\n",
            "sqft_lot\n",
            "[ 5650  7242 10000 ...  5813  2388  1076]\n",
            "9782\n",
            "\n",
            "............................\n",
            "floors\n",
            "[1.  2.  1.5 3.  2.5 3.5]\n",
            "6\n",
            "\n",
            "............................\n",
            "waterfront\n",
            "[0 1]\n",
            "2\n",
            "\n",
            "............................\n",
            "view\n",
            "[0 3 4 2 1]\n",
            "5\n",
            "\n",
            "............................\n",
            "condition\n",
            "[3 5 4 1 2]\n",
            "5\n",
            "\n",
            "............................\n",
            "grade\n",
            "[ 7  6  8 11  9  5 10 12  4  3 13  1]\n",
            "12\n",
            "\n",
            "............................\n",
            "sqft_above\n",
            "[1180 2170  770 1050 1680 3890 1715 1060 1890 1860  860 1430 1370 1810\n",
            " 1980 1600 1200 1250 2330 2270 1070 2450 1710 1750 1400  790 2570 2320\n",
            " 1190 1510 1090 1280  930 2360  890 2620 2600 3595 1570  920 3160  990\n",
            " 2290 2165 1640 1000 2130 2830 2250 2420 3250 1850 1590 1260 2519 1540\n",
            " 1110 1770 2720 2240 3070 2380 2390  880 1040  910 3450 2350 1900 1010\n",
            "  960 2660 1610  765 3520 1290 1960 1160 1210 1270 1440 2190 2920 1460\n",
            " 1170 1240 3140 2030 2310  700 1080 2520 2780 1560 1450 1720 2910 1620\n",
            " 1360 2070 2460 1390 2140 1320 1340 1550  940 1380 3670 2370 1130  980\n",
            " 3540 2500 1760 1030 1780 3400 2680 1670 2590  820 1220 2440 2090 1100\n",
            " 1330 1420 1690 2150 1910 1350 1940  900 1630 2714  850 1870 1950 2760\n",
            " 2020 1120 1480 1230 2280 3760 3530  830 1300 2740 1830  720 2010 3360\n",
            "  800 1730  760 1700 4750 5310  580 2653 2850 2210 2630 3500 1740 1140\n",
            " 2160 2650  970 2040 2180 2220 1660 3370 2690 1930 3150 3030 2050 2490\n",
            " 2560 1275 2580  560 1820 1840 2990 3230 1580 3480 2510 1410 2120 3300\n",
            " 3840 1500 1530 2840  833 2000 6070  950 2200 4040 1920 1490 3470 3130\n",
            " 2610 3260 2260  430 3390  630 4860 3860 2810  870 3180 2770 4030 4410\n",
            " 2400 1520 3040 6050 4740 1970 5403 3350 3580 1790  750 2860 2750 2340\n",
            " 2870 4120 3200 2550 1805 4150 1384 2060 2110 3590 2100 2540 1880 1150\n",
            " 1470 1255 1800 4370 3190 2730 4570 2470  670 2900 4670 4230 2156 1020\n",
            " 2940 2640 2710 3100 3610 4270  840 3090 2300  380 2480 3460 3060 3064\n",
            " 3000 1654 2790 1310 2230 2430 3680 2670 2208  810  740 1422  490 2080\n",
            " 3440 5670 4475  730 3410 3010  600 2960 3570 4300 3990  780 3020 5990\n",
            "  440 4460 4190 2800 2530 1650 3690 2932 3720 4250 3110 2963 4930 2950\n",
            " 5000 2452 2820 1981  640 2495 2403 5320 6720  660 2341 4210 3830 3280\n",
            " 2980 5153 1990 1646  610  710 5450 3504 3210 1782 2930  590 4280  680\n",
            " 3880 3430 3750 4130 5710 3380 3330 4700 3220 3362 3510 3810  620 4490\n",
            " 2410 3050 1008 3488 4070 3420 5770 1605  520 1088 3555 4360 3960 2700\n",
            " 4340 1552 3850 2303 3270 4350 3640 2174 4160 2496 5180 5130 6350 3770\n",
            " 2153 3780 2890 1714 2201 2970  992 3950 3527 2835 3915 1427 4870 3340\n",
            " 3620 4310 3930 4080 5400  570 3310 6110 3320 3490 3859 3710 1798 4600\n",
            " 3560 3940 3600 3800 1105 2305 3290 5050 1556 1553 4000 1657 3001 4220\n",
            "  480 3120 3740  530 3700 5230 5370 3080 4140 4430 3550 1159 1288 2880\n",
            " 4610 1122 3052 1479 7680 3820 1934 5080 2675 2506 5760 2154 4390 3240\n",
            " 1995 1689 2782 2395 4400 6200 3526 4320 2483 4380 4580 4180 2064 3650\n",
            " 1726 2019 4240 1256  500 1355 1747 1678 1833 1414 4115 3597 3170  390\n",
            " 1976 5830 2601 3920 2641 5070 2518 3910 3660 3695 4020 2803 2074 2038\n",
            " 4060 4890 2329 1264 1095  690 4090 1392 2844  902 4560 2811 4720 2168\n",
            " 5610 2683 4900 2095 4290 4050 4260 4440 6220 1175  998 2356 4500 3900\n",
            " 3831 1315 4470 4810 2286 2927 4760 8570 5140 1679 1811 2849 1676 1757\n",
            " 3730 2441 2163 5250 2795 2415 3970 4200 1068 5240 1509 1954 4820 1651\n",
            " 4100 1752 3630 2885 3154 1129 2632 1996 4010  550  410 6430 3790 2031\n",
            " 1652 2434 3316 1899 2331 2497 2216 4170 1341 1961 5584 8860 2507 5220\n",
            " 4850 5844 5530 2145  650 1982 4910 3605 1778 1463 2783 1946 1358 3870\n",
            " 1864 1845 6290 3980 2382 2979 3674 2726 5440 1295 2115 6085 3265 3136\n",
            " 6640 4620 3361 2245 2242 1078 2577 1329  420 4330 1975 7420 1788 2299\n",
            " 1092 4225 1087 1904  470 2966 2192 2253 5550 4133 4285 1216  540 9410\n",
            " 2075 5330 2166 1628 1808 1352 2557 6380 7880 2734 1363 1769 2093 1677\n",
            " 2588 5190 2298 1491 2961 5020 5980 4540  844 6120 2233 4480 4110 4770\n",
            " 2473  995 5160 1494 2007 1048 3002 4780 2155 2014 4980 2665 4830 4790\n",
            " 5010  370 2105 3006 3004 2689 4660 1746 2678 2755 2414  901 4630 2068\n",
            " 2807 2643 2181 4510 4420 1604 1435 3045 2717 2905 4940 5110 2533 6660\n",
            " 3485 2659 5090 2375 1964  866 1595  944 5480  809 5040 1764 1656 1802\n",
            "  460 2692 1544 2044 1212 4083 8020 3905 1502 4590  384 2092 6090 1615\n",
            " 7320 1396 1484 1765 5490 1453 1643 5300 1381 4065  290 1313 5430 1397\n",
            " 2793 2475 1936 3028  798 2575 3276 1584 2393 2029 3222 1072 1785 1984\n",
            "  962 2423 2052 2538 2437 2789 2906 4800 7850 2196 1847 2658 2655 3855\n",
            " 1728  963 2223 1611 2015 2448 1489 1116 3745 1002 3202 1347 1481 2311\n",
            " 2544 2584 2217 3569 3181 1921 2612 2671 2598 3284 3266 1076 2594 2718\n",
            " 1794 2481 3845 1413 1876 3148 2413 1767 5060  806 2547 1834 2024 1165\n",
            " 2134 1741 2798 1852 2099 3216 1094 2891 2432 2283 2701 1658  893 2009\n",
            " 1444 2744 3078 3065 1578 2815 4960 1571 6530 4640 1536 3172 6370 3223\n",
            " 1608 2229 3135 1408 1763 4840 1232 2502 2424 1296 1914  988 3828 3056\n",
            " 2267 1131 2796 1812 1084 2025 1564 1239 2568 1528 2628 2185 2478 2669\n",
            " 1912 2828 2425 1446 3206 2406 1419 2056 1144 2456 4950 3192  828 2529\n",
            " 2732 1987 3906 4073 2578 2738 3691 1061 2846 2542 1889 3336 3236 1451\n",
            " 1983 2313 1824 1322 1766 2301 3274 1108 2864 2716 1572 3281 2656 2398\n",
            " 1867 1613 2587 2623  894 1606 2244 2026 2238 2517 2708 2555 1405 4450\n",
            " 1248 6420 2531 1333 2198 3087 3118 1425]\n",
            "946\n",
            "\n",
            "............................\n",
            "sqft_basement\n",
            "[   0  400  910 1530  730 1700  300  970  760  720  700  820  780  790\n",
            "  330 1620  360  588 1510  410  990  600  560  550 1000 1600  500 1040\n",
            "  880 1010  240  265  290  800  540  380  710  840  770  480  570 1490\n",
            "  620 1250 1270  120  650  180 1130  450 1640 1460 1020 1030  750  640\n",
            " 1070  490 1310  630 2000  390  430  850  210 1430 1950  440  220 1160\n",
            "  860  580 2060 1820 1180  200 1150 1200  680  530 1450 1170 1080  960\n",
            " 1100  280  870  460 1400 1320  660 1220  900  420 1580 1380  475  690\n",
            "  270  350  935 1370  980 1470  160  950   50  740 1780 1900  340  470\n",
            "  370  140 1760  130  610  520  890 1110  150 1720  810  190 1290  670\n",
            " 1800 1120 1810   60 1050  940  310  930 1390 1830 1300  510 1330 1590\n",
            "  920 1420 1240 1960 1560 2020 1190 2110 1280  250 2390 1230  170  830\n",
            " 1260 1410 1340  590 1500 1140  260  100  320 1480 1060 1284 1670 1350\n",
            " 2570 2590 1090  110 2500   90 1940 1550 2350 2490 1481 1360 1135 1520\n",
            " 1850 1660 2130 2600 1690  243 1210 2620 1024 1798 1610 1440 1570 1650\n",
            "  704 1910 1630 2360 1852 2090 2400 1790 2150  230   70 1680 2100 3000\n",
            " 1870 1710 2030  875 1540 2850 2170  506  906  145 2040  784 1750  374\n",
            "  518 2720 2730 1840 3480 2160 1920 2330 1860 2050 4820 1913   80 2010\n",
            " 3260 2200  415 1730  652 2196 1930  515   40 2080 2580 1548 1740  235\n",
            "  861 1890 2220  792 2070 4130 2250 2240  894 1990  768 2550  435 1008\n",
            " 2300 2610  666 3500  172 1816 2190 1245 1525 1880  862  946 1281  414\n",
            " 2180  276 1248  602  516  176  225 1275  266  283   65 2310   10 1770\n",
            " 2120  295  207  915  556  417  143  508 2810   20  274  248]\n",
            "306\n",
            "\n",
            "............................\n",
            "yr_built\n",
            "[1955 1951 1933 1965 1987 2001 1995 1963 1960 2003 1942 1927 1977 1900\n",
            " 1979 1994 1916 1921 1969 1947 1968 1985 1941 1915 1909 1948 2005 1929\n",
            " 1981 1930 1904 1996 2000 1984 2014 1922 1959 1966 1953 1950 2008 1991\n",
            " 1954 1973 1925 1989 1972 1986 1956 2002 1992 1964 1952 1961 2006 1988\n",
            " 1962 1939 1946 1967 1975 1980 1910 1983 1978 1905 1971 2010 1945 1924\n",
            " 1990 1914 1926 2004 1923 2007 1976 1949 1999 1901 1993 1920 1997 1943\n",
            " 1957 1940 1918 1928 1974 1911 1936 1937 1982 1908 1931 1998 1913 2013\n",
            " 1907 1958 2012 1912 2011 1917 1932 1944 1902 2009 1903 1970 2015 1934\n",
            " 1938 1919 1906 1935]\n",
            "116\n",
            "\n",
            "............................\n",
            "yr_renovated\n",
            "[   0 1991 2002 2010 1999 1992 2013 1994 1978 2005 2008 2003 1984 1954\n",
            " 2014 2011 1974 1983 1945 1990 1988 1957 1977 1981 1995 2000 1998 1970\n",
            " 1989 2004 1986 2009 2007 1987 1973 2006 1985 2001 1980 1971 1979 1997\n",
            " 1950 1969 1948 2015 1968 2012 1963 1951 1993 1962 1996 1972 1953 1955\n",
            " 1982 1956 1940 1976 1946 1975 1958 1964 1959 1960 1967 1965 1934 1944]\n",
            "70\n",
            "\n",
            "............................\n",
            "zipcode\n",
            "[98178 98125 98028 98136 98074 98053 98003 98198 98146 98038 98007 98115\n",
            " 98107 98126 98019 98103 98002 98133 98040 98092 98030 98119 98112 98052\n",
            " 98027 98117 98058 98001 98056 98166 98023 98070 98148 98105 98042 98008\n",
            " 98059 98122 98144 98004 98005 98034 98075 98116 98010 98118 98199 98032\n",
            " 98045 98102 98077 98108 98168 98177 98065 98029 98006 98109 98022 98033\n",
            " 98155 98024 98011 98031 98106 98072 98188 98014 98055 98039]\n",
            "70\n",
            "\n",
            "............................\n",
            "lat\n",
            "[47.5112 47.721  47.7379 ... 47.3906 47.3339 47.6502]\n",
            "5034\n",
            "\n",
            "............................\n",
            "long\n",
            "[-122.257 -122.319 -122.233 -122.393 -122.045 -122.005 -122.327 -122.315\n",
            " -122.337 -122.031 -122.145 -122.292 -122.229 -122.394 -122.375 -121.962\n",
            " -122.343 -122.21  -122.306 -122.341 -122.169 -122.166 -122.172 -122.218\n",
            " -122.36  -122.314 -122.304 -122.11  -122.07  -122.357 -122.368 -122.157\n",
            " -122.31  -122.132 -122.362 -122.282 -122.18  -122.027 -122.347 -122.016\n",
            " -122.364 -122.175 -121.977 -122.371 -122.151 -122.301 -122.451 -122.322\n",
            " -122.189 -122.384 -122.369 -122.281 -122.29  -122.114 -122.122 -122.116\n",
            " -122.149 -122.339 -122.335 -122.344 -122.32  -122.297 -122.192 -122.215\n",
            " -122.16  -122.179 -122.287 -122.036 -122.073 -121.987 -122.125 -122.34\n",
            " -122.025 -122.008 -122.291 -122.365 -122.199 -122.194 -122.387 -122.372\n",
            " -122.391 -122.351 -122.386 -122.249 -122.277 -122.378 -121.958 -121.714\n",
            " -122.08  -122.196 -122.184 -122.133 -122.38  -122.082 -122.109 -122.053\n",
            " -122.349 -122.295 -122.253 -122.248 -122.303 -122.294 -122.226 -122.266\n",
            " -122.098 -122.212 -122.244 -122.39  -122.352 -121.85  -122.152 -122.054\n",
            " -122.072 -121.998 -122.296 -122.299 -122.381 -122.358 -122.128 -122.171\n",
            " -122.174 -122.026 -122.353 -121.943 -122.286 -122.336 -122.359 -122.162\n",
            " -122.3   -122.176 -121.996 -122.118 -122.193 -122.023 -122.224 -122.168\n",
            " -122.231 -122.331 -122.374 -122.182 -122.308 -122.307 -121.999 -122.376\n",
            " -122.2   -122.039 -122.102 -122.188 -122.379 -122.043 -122.153 -122.191\n",
            " -122.219 -122.312 -121.911 -121.994 -122.165 -122.37  -122.158 -122.047\n",
            " -122.284 -122.017 -122.275 -122.268 -122.367 -122.217 -122.373 -122.013\n",
            " -122.214 -122.034 -122.164 -121.899 -122.183 -121.95  -122.324 -122.216\n",
            " -122.395 -122.213 -122.345 -122.278 -122.111 -121.711 -122.27  -122.178\n",
            " -122.147 -121.772 -122.302 -122.438 -122.223 -122.042 -122.323 -122.255\n",
            " -122.4   -122.261 -122.071 -122.206 -122.272 -122.23  -122.144 -122.143\n",
            " -122.181 -122.154 -122.311 -122.274 -122.077 -122.    -122.298 -122.058\n",
            " -121.837 -122.333 -122.057 -122.252 -122.093 -122.012 -122.052 -122.354\n",
            " -122.22  -122.49  -121.875 -122.24  -122.078 -122.173 -121.854 -122.222\n",
            " -122.28  -122.137 -122.159 -121.974 -122.141 -122.029 -121.709 -122.19\n",
            " -121.97  -122.329 -122.195 -122.06  -121.959 -122.095 -122.148 -122.146\n",
            " -122.35  -121.901 -122.241 -122.129 -122.289 -122.305 -122.022 -122.385\n",
            " -121.779 -122.032 -122.402 -122.482 -122.227 -121.982 -122.161 -122.046\n",
            " -122.156 -122.127 -122.33  -122.197 -122.041 -122.103 -122.318 -122.382\n",
            " -122.271 -121.955 -122.211 -122.262 -122.258 -122.121 -122.221 -122.234\n",
            " -122.089 -122.123 -122.167 -121.909 -122.107 -122.064 -122.066 -122.062\n",
            " -122.264 -122.186 -122.087 -121.88  -121.864 -122.205 -122.363 -122.139\n",
            " -122.018 -122.225 -122.285 -122.084 -122.177 -122.056 -122.316 -122.021\n",
            " -122.348 -122.009 -122.131 -122.411 -122.198 -122.256 -122.117 -122.097\n",
            " -122.075 -121.845 -122.083 -122.259 -121.87  -122.015 -122.007 -121.86\n",
            " -122.409 -121.755 -121.972 -122.251 -122.317 -121.776 -122.115 -122.283\n",
            " -122.242 -122.001 -122.024 -122.309 -122.113 -121.771 -122.239 -122.273\n",
            " -122.396 -122.094 -122.267 -122.326 -122.13  -122.269 -121.853 -122.05\n",
            " -122.346 -122.076 -121.826 -122.124 -121.758 -122.202 -121.785 -121.872\n",
            " -122.006 -122.004 -122.321 -121.882 -122.101 -122.03  -122.185 -122.1\n",
            " -121.759 -121.965 -122.201 -122.366 -122.313 -122.405 -122.02  -122.279\n",
            " -122.355 -121.934 -122.15  -122.356 -121.993 -122.044 -122.134 -121.867\n",
            " -122.01  -121.991 -122.011 -121.983 -122.228 -122.033 -122.276 -122.119\n",
            " -121.937 -122.361 -122.325 -122.203 -122.136 -122.237 -122.209 -122.049\n",
            " -122.288 -122.106 -122.037 -122.207 -122.263 -121.915 -122.204 -122.09\n",
            " -122.069 -121.852 -121.787 -121.976 -122.377 -122.059 -122.383 -121.989\n",
            " -122.019 -122.208 -121.878 -122.328 -122.25  -122.338 -122.388 -122.265\n",
            " -122.332 -122.399 -122.397 -122.014 -121.956 -122.092 -122.028 -122.293\n",
            " -122.12  -122.035 -122.14  -122.04  -122.112 -121.906 -122.17  -122.238\n",
            " -122.512 -121.997 -121.89  -122.463 -121.908 -122.086 -122.389 -121.913\n",
            " -122.163 -121.918 -122.108 -122.502 -122.392 -122.236 -121.859 -121.981\n",
            " -122.342 -121.96  -121.978 -122.47  -121.91  -121.966 -122.065 -122.246\n",
            " -122.41  -121.879 -122.079 -122.099 -122.187 -121.98  -122.002 -122.138\n",
            " -121.898 -122.235 -122.126 -121.782 -121.995 -122.401 -121.858 -121.888\n",
            " -121.752 -122.063 -122.26  -121.78  -121.708 -121.721 -122.403 -121.945\n",
            " -122.243 -122.45  -121.927 -122.085 -122.088 -121.973 -122.055 -122.398\n",
            " -121.984 -121.912 -121.903 -121.946 -122.232 -122.412 -122.104 -122.048\n",
            " -122.479 -122.155 -121.833 -121.778 -122.003 -121.99  -121.926 -122.051\n",
            " -121.986 -122.245 -121.861 -122.431 -121.964 -122.142 -122.074 -122.247\n",
            " -122.497 -121.769 -121.827 -121.979 -121.871 -122.091 -121.754 -121.746\n",
            " -121.92  -121.992 -122.406 -121.359 -121.789 -121.707 -122.068 -122.404\n",
            " -122.334 -121.799 -121.774 -121.985 -121.865 -121.724 -122.415 -121.756\n",
            " -121.809 -122.135 -121.691 -122.038 -121.877 -121.94  -121.968 -121.988\n",
            " -121.315 -121.902 -122.514 -122.414 -121.883 -121.866 -121.744 -122.096\n",
            " -122.061 -121.881 -121.745 -122.461 -122.067 -121.868 -121.646 -121.93\n",
            " -122.105 -121.763 -121.718 -121.967 -121.777 -121.957 -121.823 -121.887\n",
            " -122.408 -122.462 -122.43  -122.456 -121.897 -121.932 -121.969 -121.916\n",
            " -122.081 -121.975 -121.735 -121.801 -121.761 -121.723 -121.924 -122.475\n",
            " -121.935 -122.407 -122.448 -122.453 -121.894 -121.936 -121.764 -122.416\n",
            " -121.905 -122.464 -121.768 -122.484 -121.738 -121.9   -121.82  -122.455\n",
            " -121.889 -122.496 -121.829 -122.505 -121.951 -121.847 -122.509 -121.961\n",
            " -121.417 -121.904 -122.503 -121.949 -121.874 -122.432 -121.971 -121.77\n",
            " -122.473 -121.896 -121.952 -122.254 -121.743 -121.933 -121.892 -121.749\n",
            " -121.473 -121.857 -122.465 -121.838 -121.954 -122.422 -121.931 -121.963\n",
            " -122.441 -121.925 -121.352 -122.511 -122.413 -121.876 -121.748 -121.818\n",
            " -121.8   -121.929 -121.698 -121.886 -121.802 -121.81  -121.762 -121.781\n",
            " -121.775 -122.44  -121.773 -121.819 -121.726 -122.459 -122.446 -121.855\n",
            " -121.736 -122.499 -122.46  -121.786 -122.421 -121.947 -122.439 -121.834\n",
            " -121.804 -122.443 -121.716 -121.848 -122.458 -122.515 -121.922 -121.953\n",
            " -121.783 -122.472 -121.944 -121.869 -121.828 -122.452 -121.831 -121.737\n",
            " -121.739 -121.863 -121.73  -121.856 -121.747 -121.893 -121.733 -121.846\n",
            " -121.821 -121.319 -121.765 -121.75  -122.506 -121.948 -121.921 -122.507\n",
            " -122.457 -121.914 -122.469 -121.792 -121.907 -121.841 -121.757 -121.788\n",
            " -121.731 -122.449 -121.316 -121.321 -122.504 -121.884 -121.803 -121.842\n",
            " -121.719 -121.766 -122.433 -122.519 -121.851 -121.402 -122.454 -122.467\n",
            " -121.325 -121.815 -121.676 -121.941 -122.445 -121.76  -121.885 -121.742\n",
            " -121.822 -121.895 -121.784 -121.701 -121.713 -121.727 -121.849 -121.835\n",
            " -122.435 -122.474 -122.444 -121.939 -121.48  -121.364 -121.767 -122.42\n",
            " -121.84  -122.425 -122.447 -121.797 -122.491 -121.917 -121.891 -121.942\n",
            " -121.862 -121.725 -121.873 -121.405 -122.486 -121.795 -121.734 -121.403]\n",
            "752\n",
            "\n",
            "............................\n",
            "sqft_living15\n",
            "[1340 1690 2720 1360 1800 4760 2238 1650 1780 2390 2210 1330 1370 2140\n",
            " 1890 1610 1060 1280 1400 4110 2240 1220 2200 1030 1760 1860 1520 2630\n",
            " 2580 1390 1460 1570 2020 1590 2160 1730 1290 2620 2470 2410 3625 1580\n",
            " 3050 1228 2680  970 1190 1990 1410 1480 2730 1950 2250 2690 2960 2270\n",
            " 2570 2500 1440 2750 2221 1010 3390 3530 1640 1510 2420 1940 3240 1680\n",
            "  890 1130 3350 2350 1870 1720 1850 1900 1980 2520 1350 1750 1160 2550\n",
            " 2370 1240 1270 2990 1380 1540 2090 2640 1830 1620 1880 2340 1710 2700\n",
            " 3060 2660 1700 1970 1420 2060 2480 1550 1170 2820 1560 2230 2840 1450\n",
            " 1500 3160 1200 3400 2110 2920 1770 1070 1930 3740 2260 1670 2290 1050\n",
            " 2540 2190 2030 1230 2330 1300 1430 2770 1250 1630 2590 2130 1100 3836\n",
            " 1320 2120 3070 1910 2080 1960 2280 1150 3430 2070 2600  830 1260 3120\n",
            " 2010 1660 1600 2380 3890 4180 2653 2670 3920 2300 2310 2320 3150 1740\n",
            " 2400 4550 2510 2440 2880 3860 2150 1310 1820 3080  880 2560 3470 1020\n",
            " 2040 2610 1810 2860 3480 3130 3360 4050 2450 1790 3180 3600 2000 2430\n",
            " 2850 4680 2360 3930 1490 2460 2077 1920 3630 3220 2100 3230 4300 3850\n",
            " 2424 2530 3030 2830 2900 2950 1470  940 2740 4210 3340 3980 2180 3715\n",
            " 2050 1080 2095 1000 3330 2170 1408 1530 2760 3110  950 3000 1307 2220\n",
            " 4190 3440 3250 1110 2870 1210 2910 1120 4230 1708 3090 3270 2970 1180\n",
            " 3100 4100 2930 3510 2688 1840 2490 4090 2810 3260 3680 3420 1654 1365\n",
            "  980 1677 1140 3640 3460 3140 1502 3720 2790 2940  990 2890  860 4750\n",
            " 1525 3950 5790  760 2234  960 3210 2780 2800 2305 2665 3620 2710 4320\n",
            " 2650 3370 1509 1277 1981 2434 4640 2242 3040 3970 3200 4600  840 3290\n",
            " 2214 1162 3010 5600 3820 3540 1975 4800  740 3990 3170 1576 1768 3310\n",
            " 2980 1429 3900 3380  820 1090 4060 3910 3190 3450 3730  620 3020 3760\n",
            " 3320 1132 3300 3770 3960  870 3560 4620 3520 1572 3490 1088 3159 4470\n",
            " 3570 4890 3690 3280 2083 3780  920 1941 1566  850 2496 1040 3410 4240\n",
            " 4670 4350 1714 5380 4330 3830 5000 2144 1494 1357  930 3580 4250 4080\n",
            " 3660 1458 3736 1894 2037 1295 4170 3750 3550 4630 1439 3500 2091  900\n",
            " 3880 3710 1616  720  800 2315 1564 2767 3721 4650 4020  780 1728 2027\n",
            " 1264 1404 1459 2028 3639 1943 3425 2641 2114 1309 2412 2517 1802 2011\n",
            " 1466 1414 3193 1845 1156 3670 1696 5340 4440 1745 1884 4690 4920 2406\n",
            " 4160 3810 4480 2848 1746 2634 2049 5330 1536 2273 3056 4010 4700  910\n",
            " 2125 1665 2683 3790  700 1855  750 1078 4150 4340 2344 1098 1175 1188\n",
            " 3700 3840 4042 2518 3800 2488 3590 2052  810 1528 5030 4740 5070 2967\n",
            " 4280 2724 3610 3940 4940 4770 1811 4830 2876 1805 1216 5170 1304 2474\n",
            " 4590 4130 1492 1364 2168 4140 3543 1303 2005 3650 2583 4310 2451 1448\n",
            " 2955 2142  790 1638 2554 2441 2216 4220 1961 4540  770 4200 3413 1664\n",
            " 2136 3568 4510 1484 1358 2106 1834 2014 4390 4570 2175 6110 4260  710\n",
            " 2112 1934 1518 1302 2622 2619 2382 4290 4560 4000 1336 3112 4070 1468\n",
            " 1571 2605 1138 5110 4850 2165 4410 1678 5610 1984 4660 3870 4370  460\n",
            " 4610 1914 3515 2246 1786 2109 2326 2728 4400 4950 1767 2054 5500 2555\n",
            " 3674 2765 1862 1352 4030  399 2415 2901 1815 2236 2253 2004 1356 2403\n",
            " 1137 1256 4930 4040 2376 4520 4490 2189 2566 2396 1282 2155 1056 2389\n",
            " 2256 3618 1326 1168 4913  806 1369 2405 2875 1425 5220 1442 2333 3335\n",
            " 1321 3045 1546 4730 2697 2822 2076 1757 4780  952 4270 2075 2667 1092\n",
            " 1217 1716 1792 2961 1125 1463 1886  670 4460 2336 3557 5200 2258 1377\n",
            " 2019 2092 4900 2615 1639 1765 1554 1381 4120 5080 1445 2793 2475  998\n",
            " 2384 2575 1398 1584 2439 2197 2029 4362 1443 4420 1691 2495 2437 2547\n",
            " 6210 2009 1847 1346 2578 2879 2255 2815 1608  690 2425 1481 2458 2358\n",
            " 2056 1921 2419 2996 2502 1798 3087 1076 2981 2363 3191 1763 1876 1949\n",
            " 2598 1979 1415 2002 2574 2166 3726 2099 2154 1522 1544 2912 2648 1658\n",
            " 2755 2798 1405 2704 2738 3008 2586 2873 1232 2597 2516 1537 1128 2849\n",
            " 1399 1131 1569 2381 1084 2304 4530 2297 2279 2303 2669 4225 2513 2725\n",
            " 1955 2527 4443 2478 1919 1813 2533  828 2015 3078 4495 2673 2316 2647\n",
            " 3402 3494 2156 3236 2612 2323 2409 2354 1285 2616 1427 1516 2456 2844\n",
            " 1495 2594 2604 1268 2198 3038 2927]\n",
            "777\n",
            "\n",
            "............................\n",
            "sqft_lot15\n",
            "[5650 7639 8062 ... 5731 1509 2007]\n",
            "8689\n",
            "\n",
            "............................\n"
          ]
        }
      ]
    },
    {
      "cell_type": "code",
      "source": [
        "# from above we can notice that the unique values in all the columns are valid"
      ],
      "metadata": {
        "id": "rMfe6FHU6XMN"
      },
      "execution_count": 13,
      "outputs": []
    },
    {
      "cell_type": "markdown",
      "source": [
        "## Data Cleaning"
      ],
      "metadata": {
        "id": "FGakUxPs67k_"
      }
    },
    {
      "cell_type": "code",
      "source": [
        "# Completeness : there are no missing values\n",
        "# Validity : there are some irrelevant columns, we shall check for syntax errors(eg. whitespaces)\n",
        "# Consistency : there are duplicate values, however, we shall not drop them because they are possibly true values, there could be similar houses\n",
        "# Uniformity : all columns are the right data type, and the columns names are in order\n",
        "# we shall check on the outliers, if there are any, during EDA and handle them if any"
      ],
      "metadata": {
        "id": "lY-S3PpI66we"
      },
      "execution_count": 14,
      "outputs": []
    },
    {
      "cell_type": "code",
      "source": [
        "# remove the whitespaces if any\n",
        "housing.columns.str.replace(' ', '')"
      ],
      "metadata": {
        "colab": {
          "base_uri": "https://localhost:8080/"
        },
        "id": "Xf8p1U0SAv9Y",
        "outputId": "a015f67c-7a1a-4f26-ddce-11bee4681eac"
      },
      "execution_count": 15,
      "outputs": [
        {
          "output_type": "execute_result",
          "data": {
            "text/plain": [
              "Index(['id', 'price', 'bedrooms', 'bathrooms', 'sqft_living', 'sqft_lot',\n",
              "       'floors', 'waterfront', 'view', 'condition', 'grade', 'sqft_above',\n",
              "       'sqft_basement', 'yr_built', 'yr_renovated', 'zipcode', 'lat', 'long',\n",
              "       'sqft_living15', 'sqft_lot15'],\n",
              "      dtype='object')"
            ]
          },
          "metadata": {},
          "execution_count": 15
        }
      ]
    },
    {
      "cell_type": "code",
      "source": [
        "# handling the irrelevant columns by dropping them\n",
        "# house price cannot be determined by the house ID, zipcode, lon, lat\n",
        "\n",
        "housing.drop(columns = ['id', 'zipcode', 'long', 'lat'], inplace =True)\n"
      ],
      "metadata": {
        "id": "HGJh4YthJd9s"
      },
      "execution_count": 16,
      "outputs": []
    },
    {
      "cell_type": "markdown",
      "source": [
        "## Exploratory Data Analysis\n",
        "\n",
        "### 1. Univariate Analysis"
      ],
      "metadata": {
        "id": "jPE8ujZg8hT4"
      }
    },
    {
      "cell_type": "code",
      "source": [
        "# check the measures of central tendency and dispersion\n",
        "housing.describe()"
      ],
      "metadata": {
        "colab": {
          "base_uri": "https://localhost:8080/",
          "height": 364
        },
        "id": "XIQUUmV7-egQ",
        "outputId": "2bcad957-ea46-404b-8b18-b33979625d93"
      },
      "execution_count": 17,
      "outputs": [
        {
          "output_type": "execute_result",
          "data": {
            "text/plain": [
              "              price      bedrooms     bathrooms   sqft_living      sqft_lot  \\\n",
              "count  2.161300e+04  21613.000000  21613.000000  21613.000000  2.161300e+04   \n",
              "mean   5.401822e+05      3.370842      2.114757   2079.899736  1.510697e+04   \n",
              "std    3.673622e+05      0.930062      0.770163    918.440897  4.142051e+04   \n",
              "min    7.500000e+04      0.000000      0.000000    290.000000  5.200000e+02   \n",
              "25%    3.219500e+05      3.000000      1.750000   1427.000000  5.040000e+03   \n",
              "50%    4.500000e+05      3.000000      2.250000   1910.000000  7.618000e+03   \n",
              "75%    6.450000e+05      4.000000      2.500000   2550.000000  1.068800e+04   \n",
              "max    7.700000e+06     33.000000      8.000000  13540.000000  1.651359e+06   \n",
              "\n",
              "             floors    waterfront          view     condition         grade  \\\n",
              "count  21613.000000  21613.000000  21613.000000  21613.000000  21613.000000   \n",
              "mean       1.494309      0.007542      0.234303      3.409430      7.656873   \n",
              "std        0.539989      0.086517      0.766318      0.650743      1.175459   \n",
              "min        1.000000      0.000000      0.000000      1.000000      1.000000   \n",
              "25%        1.000000      0.000000      0.000000      3.000000      7.000000   \n",
              "50%        1.500000      0.000000      0.000000      3.000000      7.000000   \n",
              "75%        2.000000      0.000000      0.000000      4.000000      8.000000   \n",
              "max        3.500000      1.000000      4.000000      5.000000     13.000000   \n",
              "\n",
              "         sqft_above  sqft_basement      yr_built  yr_renovated  sqft_living15  \\\n",
              "count  21613.000000   21613.000000  21613.000000  21613.000000   21613.000000   \n",
              "mean    1788.390691     291.509045   1971.005136     84.402258    1986.552492   \n",
              "std      828.090978     442.575043     29.373411    401.679240     685.391304   \n",
              "min      290.000000       0.000000   1900.000000      0.000000     399.000000   \n",
              "25%     1190.000000       0.000000   1951.000000      0.000000    1490.000000   \n",
              "50%     1560.000000       0.000000   1975.000000      0.000000    1840.000000   \n",
              "75%     2210.000000     560.000000   1997.000000      0.000000    2360.000000   \n",
              "max     9410.000000    4820.000000   2015.000000   2015.000000    6210.000000   \n",
              "\n",
              "          sqft_lot15  \n",
              "count   21613.000000  \n",
              "mean    12768.455652  \n",
              "std     27304.179631  \n",
              "min       651.000000  \n",
              "25%      5100.000000  \n",
              "50%      7620.000000  \n",
              "75%     10083.000000  \n",
              "max    871200.000000  "
            ],
            "text/html": [
              "\n",
              "  <div id=\"df-7b7af432-c901-4f27-a841-c91222d8ee91\">\n",
              "    <div class=\"colab-df-container\">\n",
              "      <div>\n",
              "<style scoped>\n",
              "    .dataframe tbody tr th:only-of-type {\n",
              "        vertical-align: middle;\n",
              "    }\n",
              "\n",
              "    .dataframe tbody tr th {\n",
              "        vertical-align: top;\n",
              "    }\n",
              "\n",
              "    .dataframe thead th {\n",
              "        text-align: right;\n",
              "    }\n",
              "</style>\n",
              "<table border=\"1\" class=\"dataframe\">\n",
              "  <thead>\n",
              "    <tr style=\"text-align: right;\">\n",
              "      <th></th>\n",
              "      <th>price</th>\n",
              "      <th>bedrooms</th>\n",
              "      <th>bathrooms</th>\n",
              "      <th>sqft_living</th>\n",
              "      <th>sqft_lot</th>\n",
              "      <th>floors</th>\n",
              "      <th>waterfront</th>\n",
              "      <th>view</th>\n",
              "      <th>condition</th>\n",
              "      <th>grade</th>\n",
              "      <th>sqft_above</th>\n",
              "      <th>sqft_basement</th>\n",
              "      <th>yr_built</th>\n",
              "      <th>yr_renovated</th>\n",
              "      <th>sqft_living15</th>\n",
              "      <th>sqft_lot15</th>\n",
              "    </tr>\n",
              "  </thead>\n",
              "  <tbody>\n",
              "    <tr>\n",
              "      <th>count</th>\n",
              "      <td>2.161300e+04</td>\n",
              "      <td>21613.000000</td>\n",
              "      <td>21613.000000</td>\n",
              "      <td>21613.000000</td>\n",
              "      <td>2.161300e+04</td>\n",
              "      <td>21613.000000</td>\n",
              "      <td>21613.000000</td>\n",
              "      <td>21613.000000</td>\n",
              "      <td>21613.000000</td>\n",
              "      <td>21613.000000</td>\n",
              "      <td>21613.000000</td>\n",
              "      <td>21613.000000</td>\n",
              "      <td>21613.000000</td>\n",
              "      <td>21613.000000</td>\n",
              "      <td>21613.000000</td>\n",
              "      <td>21613.000000</td>\n",
              "    </tr>\n",
              "    <tr>\n",
              "      <th>mean</th>\n",
              "      <td>5.401822e+05</td>\n",
              "      <td>3.370842</td>\n",
              "      <td>2.114757</td>\n",
              "      <td>2079.899736</td>\n",
              "      <td>1.510697e+04</td>\n",
              "      <td>1.494309</td>\n",
              "      <td>0.007542</td>\n",
              "      <td>0.234303</td>\n",
              "      <td>3.409430</td>\n",
              "      <td>7.656873</td>\n",
              "      <td>1788.390691</td>\n",
              "      <td>291.509045</td>\n",
              "      <td>1971.005136</td>\n",
              "      <td>84.402258</td>\n",
              "      <td>1986.552492</td>\n",
              "      <td>12768.455652</td>\n",
              "    </tr>\n",
              "    <tr>\n",
              "      <th>std</th>\n",
              "      <td>3.673622e+05</td>\n",
              "      <td>0.930062</td>\n",
              "      <td>0.770163</td>\n",
              "      <td>918.440897</td>\n",
              "      <td>4.142051e+04</td>\n",
              "      <td>0.539989</td>\n",
              "      <td>0.086517</td>\n",
              "      <td>0.766318</td>\n",
              "      <td>0.650743</td>\n",
              "      <td>1.175459</td>\n",
              "      <td>828.090978</td>\n",
              "      <td>442.575043</td>\n",
              "      <td>29.373411</td>\n",
              "      <td>401.679240</td>\n",
              "      <td>685.391304</td>\n",
              "      <td>27304.179631</td>\n",
              "    </tr>\n",
              "    <tr>\n",
              "      <th>min</th>\n",
              "      <td>7.500000e+04</td>\n",
              "      <td>0.000000</td>\n",
              "      <td>0.000000</td>\n",
              "      <td>290.000000</td>\n",
              "      <td>5.200000e+02</td>\n",
              "      <td>1.000000</td>\n",
              "      <td>0.000000</td>\n",
              "      <td>0.000000</td>\n",
              "      <td>1.000000</td>\n",
              "      <td>1.000000</td>\n",
              "      <td>290.000000</td>\n",
              "      <td>0.000000</td>\n",
              "      <td>1900.000000</td>\n",
              "      <td>0.000000</td>\n",
              "      <td>399.000000</td>\n",
              "      <td>651.000000</td>\n",
              "    </tr>\n",
              "    <tr>\n",
              "      <th>25%</th>\n",
              "      <td>3.219500e+05</td>\n",
              "      <td>3.000000</td>\n",
              "      <td>1.750000</td>\n",
              "      <td>1427.000000</td>\n",
              "      <td>5.040000e+03</td>\n",
              "      <td>1.000000</td>\n",
              "      <td>0.000000</td>\n",
              "      <td>0.000000</td>\n",
              "      <td>3.000000</td>\n",
              "      <td>7.000000</td>\n",
              "      <td>1190.000000</td>\n",
              "      <td>0.000000</td>\n",
              "      <td>1951.000000</td>\n",
              "      <td>0.000000</td>\n",
              "      <td>1490.000000</td>\n",
              "      <td>5100.000000</td>\n",
              "    </tr>\n",
              "    <tr>\n",
              "      <th>50%</th>\n",
              "      <td>4.500000e+05</td>\n",
              "      <td>3.000000</td>\n",
              "      <td>2.250000</td>\n",
              "      <td>1910.000000</td>\n",
              "      <td>7.618000e+03</td>\n",
              "      <td>1.500000</td>\n",
              "      <td>0.000000</td>\n",
              "      <td>0.000000</td>\n",
              "      <td>3.000000</td>\n",
              "      <td>7.000000</td>\n",
              "      <td>1560.000000</td>\n",
              "      <td>0.000000</td>\n",
              "      <td>1975.000000</td>\n",
              "      <td>0.000000</td>\n",
              "      <td>1840.000000</td>\n",
              "      <td>7620.000000</td>\n",
              "    </tr>\n",
              "    <tr>\n",
              "      <th>75%</th>\n",
              "      <td>6.450000e+05</td>\n",
              "      <td>4.000000</td>\n",
              "      <td>2.500000</td>\n",
              "      <td>2550.000000</td>\n",
              "      <td>1.068800e+04</td>\n",
              "      <td>2.000000</td>\n",
              "      <td>0.000000</td>\n",
              "      <td>0.000000</td>\n",
              "      <td>4.000000</td>\n",
              "      <td>8.000000</td>\n",
              "      <td>2210.000000</td>\n",
              "      <td>560.000000</td>\n",
              "      <td>1997.000000</td>\n",
              "      <td>0.000000</td>\n",
              "      <td>2360.000000</td>\n",
              "      <td>10083.000000</td>\n",
              "    </tr>\n",
              "    <tr>\n",
              "      <th>max</th>\n",
              "      <td>7.700000e+06</td>\n",
              "      <td>33.000000</td>\n",
              "      <td>8.000000</td>\n",
              "      <td>13540.000000</td>\n",
              "      <td>1.651359e+06</td>\n",
              "      <td>3.500000</td>\n",
              "      <td>1.000000</td>\n",
              "      <td>4.000000</td>\n",
              "      <td>5.000000</td>\n",
              "      <td>13.000000</td>\n",
              "      <td>9410.000000</td>\n",
              "      <td>4820.000000</td>\n",
              "      <td>2015.000000</td>\n",
              "      <td>2015.000000</td>\n",
              "      <td>6210.000000</td>\n",
              "      <td>871200.000000</td>\n",
              "    </tr>\n",
              "  </tbody>\n",
              "</table>\n",
              "</div>\n",
              "      <button class=\"colab-df-convert\" onclick=\"convertToInteractive('df-7b7af432-c901-4f27-a841-c91222d8ee91')\"\n",
              "              title=\"Convert this dataframe to an interactive table.\"\n",
              "              style=\"display:none;\">\n",
              "        \n",
              "  <svg xmlns=\"http://www.w3.org/2000/svg\" height=\"24px\"viewBox=\"0 0 24 24\"\n",
              "       width=\"24px\">\n",
              "    <path d=\"M0 0h24v24H0V0z\" fill=\"none\"/>\n",
              "    <path d=\"M18.56 5.44l.94 2.06.94-2.06 2.06-.94-2.06-.94-.94-2.06-.94 2.06-2.06.94zm-11 1L8.5 8.5l.94-2.06 2.06-.94-2.06-.94L8.5 2.5l-.94 2.06-2.06.94zm10 10l.94 2.06.94-2.06 2.06-.94-2.06-.94-.94-2.06-.94 2.06-2.06.94z\"/><path d=\"M17.41 7.96l-1.37-1.37c-.4-.4-.92-.59-1.43-.59-.52 0-1.04.2-1.43.59L10.3 9.45l-7.72 7.72c-.78.78-.78 2.05 0 2.83L4 21.41c.39.39.9.59 1.41.59.51 0 1.02-.2 1.41-.59l7.78-7.78 2.81-2.81c.8-.78.8-2.07 0-2.86zM5.41 20L4 18.59l7.72-7.72 1.47 1.35L5.41 20z\"/>\n",
              "  </svg>\n",
              "      </button>\n",
              "      \n",
              "  <style>\n",
              "    .colab-df-container {\n",
              "      display:flex;\n",
              "      flex-wrap:wrap;\n",
              "      gap: 12px;\n",
              "    }\n",
              "\n",
              "    .colab-df-convert {\n",
              "      background-color: #E8F0FE;\n",
              "      border: none;\n",
              "      border-radius: 50%;\n",
              "      cursor: pointer;\n",
              "      display: none;\n",
              "      fill: #1967D2;\n",
              "      height: 32px;\n",
              "      padding: 0 0 0 0;\n",
              "      width: 32px;\n",
              "    }\n",
              "\n",
              "    .colab-df-convert:hover {\n",
              "      background-color: #E2EBFA;\n",
              "      box-shadow: 0px 1px 2px rgba(60, 64, 67, 0.3), 0px 1px 3px 1px rgba(60, 64, 67, 0.15);\n",
              "      fill: #174EA6;\n",
              "    }\n",
              "\n",
              "    [theme=dark] .colab-df-convert {\n",
              "      background-color: #3B4455;\n",
              "      fill: #D2E3FC;\n",
              "    }\n",
              "\n",
              "    [theme=dark] .colab-df-convert:hover {\n",
              "      background-color: #434B5C;\n",
              "      box-shadow: 0px 1px 3px 1px rgba(0, 0, 0, 0.15);\n",
              "      filter: drop-shadow(0px 1px 2px rgba(0, 0, 0, 0.3));\n",
              "      fill: #FFFFFF;\n",
              "    }\n",
              "  </style>\n",
              "\n",
              "      <script>\n",
              "        const buttonEl =\n",
              "          document.querySelector('#df-7b7af432-c901-4f27-a841-c91222d8ee91 button.colab-df-convert');\n",
              "        buttonEl.style.display =\n",
              "          google.colab.kernel.accessAllowed ? 'block' : 'none';\n",
              "\n",
              "        async function convertToInteractive(key) {\n",
              "          const element = document.querySelector('#df-7b7af432-c901-4f27-a841-c91222d8ee91');\n",
              "          const dataTable =\n",
              "            await google.colab.kernel.invokeFunction('convertToInteractive',\n",
              "                                                     [key], {});\n",
              "          if (!dataTable) return;\n",
              "\n",
              "          const docLinkHtml = 'Like what you see? Visit the ' +\n",
              "            '<a target=\"_blank\" href=https://colab.research.google.com/notebooks/data_table.ipynb>data table notebook</a>'\n",
              "            + ' to learn more about interactive tables.';\n",
              "          element.innerHTML = '';\n",
              "          dataTable['output_type'] = 'display_data';\n",
              "          await google.colab.output.renderOutput(dataTable, element);\n",
              "          const docLink = document.createElement('div');\n",
              "          docLink.innerHTML = docLinkHtml;\n",
              "          element.appendChild(docLink);\n",
              "        }\n",
              "      </script>\n",
              "    </div>\n",
              "  </div>\n",
              "  "
            ]
          },
          "metadata": {},
          "execution_count": 17
        }
      ]
    },
    {
      "cell_type": "code",
      "source": [
        "# from the description above, we can obtain information such as the maximun/minimum house price, the mean of house prices and that of other variables like bedrooms,\n",
        "# for example the maximum number of bedrooms is 33 and the minimum is 0"
      ],
      "metadata": {
        "id": "RTsCp63q-tNQ"
      },
      "execution_count": 18,
      "outputs": []
    },
    {
      "cell_type": "code",
      "source": [
        "# # function to plot bars\n",
        "# def plot_bar(data, column):\n",
        "#   plt.figure(figsize=(8, 6))\n",
        "#   data[column].value_counts().sort_index().plot.bar()\n",
        "#   plt.title('Count of', str(column))\n",
        "#   plt.xlabel('No. of', column)\n",
        "#   plt.ylabel('No. of Houses')\n",
        "#   plt.show()"
      ],
      "metadata": {
        "id": "rikaRJVdM00r"
      },
      "execution_count": 19,
      "outputs": []
    },
    {
      "cell_type": "code",
      "source": [
        "# bar chart to display the number of bedrooms\n",
        "plt.figure(figsize=(8, 6))\n",
        "housing['bedrooms'].value_counts().sort_index().plot.bar()\n",
        "plt.title('Count of bedrooms')\n",
        "plt.xlabel('No. of bedrooms')\n",
        "plt.ylabel('No. of Houses')\n",
        "plt.show()\n",
        "# We notice that most houses habe 3 bedrooms"
      ],
      "metadata": {
        "colab": {
          "base_uri": "https://localhost:8080/",
          "height": 406
        },
        "id": "CXhIdNQ5BCMJ",
        "outputId": "da745b77-123b-40f8-d25b-8c59270a0af7"
      },
      "execution_count": 20,
      "outputs": [
        {
          "output_type": "display_data",
          "data": {
            "text/plain": [
              "<Figure size 576x432 with 1 Axes>"
            ],
            "image/png": "[encoded data removed]"
          },
          "metadata": {
            "needs_background": "light"
          }
        }
      ]
    },
    {
      "cell_type": "markdown",
      "source": [
        "We notice that most houses habe 3 bedrooms"
      ],
      "metadata": {
        "id": "jPbWLWF-O5a7"
      }
    },
    {
      "cell_type": "code",
      "source": [
        "# bar chart to display the number of bathrooms\n",
        "plt.figure(figsize=(15, 6))\n",
        "housing['bathrooms'].value_counts().sort_index().plot.bar()\n",
        "plt.title('Count of bathrooms')\n",
        "plt.xlabel('No. of bathrooms')\n",
        "plt.ylabel('No. of Houses')\n",
        "plt.show()\n",
        "\n",
        "# we notice that the number of bathrooms for all houses ranges between 1 and 5"
      ],
      "metadata": {
        "colab": {
          "base_uri": "https://localhost:8080/",
          "height": 415
        },
        "id": "GlA37154B_Xm",
        "outputId": "508373e4-21e2-42bf-8b18-ae82bbe278a5"
      },
      "execution_count": 21,
      "outputs": [
        {
          "output_type": "display_data",
          "data": {
            "text/plain": [
              "<Figure size 1080x432 with 1 Axes>"
            ],
            "image/png": "[encoded data removed]"
          },
          "metadata": {
            "needs_background": "light"
          }
        }
      ]
    },
    {
      "cell_type": "markdown",
      "source": [
        "We notice that the number of bathrooms for all houses ranges between 1 and 5"
      ],
      "metadata": {
        "id": "sWF32ZooOyAk"
      }
    },
    {
      "cell_type": "code",
      "source": [
        "# bar chart to display the number of grade\n",
        "plt.figure(figsize=(15, 6))\n",
        "housing['grade'].value_counts().sort_index().plot.bar()\n",
        "plt.title('Count of grade')\n",
        "plt.xlabel('No. of grade')\n",
        "plt.ylabel('No. of Houses')\n",
        "plt.show()\n"
      ],
      "metadata": {
        "colab": {
          "base_uri": "https://localhost:8080/",
          "height": 406
        },
        "id": "z92h4US3OkJi",
        "outputId": "ff290ec4-c742-43d1-9d35-fee1164c0215"
      },
      "execution_count": 22,
      "outputs": [
        {
          "output_type": "display_data",
          "data": {
            "text/plain": [
              "<Figure size 1080x432 with 1 Axes>"
            ],
            "image/png": "[encoded data removed]"
          },
          "metadata": {
            "needs_background": "light"
          }
        }
      ]
    },
    {
      "cell_type": "markdown",
      "source": [
        "Most houses lie on grade 7"
      ],
      "metadata": {
        "id": "rWguCneFOsy7"
      }
    },
    {
      "cell_type": "code",
      "source": [
        "# bar chart to display the number of condition\n",
        "plt.figure(figsize=(15, 6))\n",
        "housing['condition'].value_counts().sort_index().plot.bar()\n",
        "plt.title('Count of condition')\n",
        "plt.xlabel('No. of condition')\n",
        "plt.ylabel('No. of Houses')\n",
        "plt.show()\n"
      ],
      "metadata": {
        "colab": {
          "base_uri": "https://localhost:8080/",
          "height": 400
        },
        "id": "TwWf8hNYPASy",
        "outputId": "9afe9f8c-7d37-4b1e-94e0-82e9448b3a6b"
      },
      "execution_count": 23,
      "outputs": [
        {
          "output_type": "display_data",
          "data": {
            "text/plain": [
              "<Figure size 1080x432 with 1 Axes>"
            ],
            "image/png": "[encoded data removed]"
          },
          "metadata": {
            "needs_background": "light"
          }
        }
      ]
    },
    {
      "cell_type": "markdown",
      "source": [
        "Most houses have a condition level of 3"
      ],
      "metadata": {
        "id": "MDGerMcQPHqs"
      }
    },
    {
      "cell_type": "markdown",
      "source": [
        "## Bivariate Analysis\n"
      ],
      "metadata": {
        "id": "tNW9aU3mERbL"
      }
    },
    {
      "cell_type": "markdown",
      "source": [
        "Since all our columns are in numerical data types, we shall perform bivariate on numerical vs numerical variables only"
      ],
      "metadata": {
        "id": "WVaY-oReE1qY"
      }
    },
    {
      "cell_type": "markdown",
      "source": [
        "### Numerical vs numerical"
      ],
      "metadata": {
        "id": "zqsIADfDFFLo"
      }
    },
    {
      "cell_type": "code",
      "source": [
        "# price of the house vs no of bedrooms\n",
        "plt.figure(figsize=(10, 8))\n",
        "plt.scatter('price', 'bedrooms', data = housing)\n",
        "plt.title('House price vs the number of bedrooms')\n",
        "plt.xlabel('price')\n",
        "plt.ylabel('No of bedrooms')\n",
        "plt.show()"
      ],
      "metadata": {
        "colab": {
          "base_uri": "https://localhost:8080/",
          "height": 0
        },
        "id": "3ZyWEPr_DxPP",
        "outputId": "563dff25-a202-4357-913a-36d7062a787b"
      },
      "execution_count": 24,
      "outputs": [
        {
          "output_type": "display_data",
          "data": {
            "text/plain": [
              "<Figure size 720x576 with 1 Axes>"
            ],
            "image/png": "[encoded data removed]"
          },
          "metadata": {
            "needs_background": "light"
          }
        }
      ]
    },
    {
      "cell_type": "code",
      "source": [
        "# price of the house vs no of bathrooms\n",
        "plt.figure(figsize=(10, 8))\n",
        "plt.scatter('price', 'bathrooms', data = housing)\n",
        "plt.title('House price vs the number of bathrooms')\n",
        "plt.xlabel('price')\n",
        "plt.ylabel('No of bathrooms')\n",
        "plt.show()"
      ],
      "metadata": {
        "colab": {
          "base_uri": "https://localhost:8080/",
          "height": 0
        },
        "id": "jmpS45Z5HIZo",
        "outputId": "060183a1-3866-43e6-d7ed-91cb72a357b1"
      },
      "execution_count": 25,
      "outputs": [
        {
          "output_type": "display_data",
          "data": {
            "text/plain": [
              "<Figure size 720x576 with 1 Axes>"
            ],
            "image/png": "[encoded data removed]"
          },
          "metadata": {
            "needs_background": "light"
          }
        }
      ]
    },
    {
      "cell_type": "code",
      "source": [
        "# price of the house vs no of sqft_living\n",
        "plt.figure(figsize=(10, 8))\n",
        "plt.scatter('price', 'sqft_living', data = housing)\n",
        "plt.title('House price vs the number of sqft_living')\n",
        "plt.xlabel('price')\n",
        "plt.ylabel('No of sqft_living')\n",
        "plt.show()"
      ],
      "metadata": {
        "colab": {
          "base_uri": "https://localhost:8080/",
          "height": 0
        },
        "id": "Vo8lOnpFH4A5",
        "outputId": "b813f333-9b64-4481-ffad-a82497a33721"
      },
      "execution_count": 26,
      "outputs": [
        {
          "output_type": "display_data",
          "data": {
            "text/plain": [
              "<Figure size 720x576 with 1 Axes>"
            ],
            "image/png": "[encoded data removed]"
          },
          "metadata": {
            "needs_background": "light"
          }
        }
      ]
    },
    {
      "cell_type": "markdown",
      "source": [
        "There is a linear relationship between the sqft of the living area vs the price of the house "
      ],
      "metadata": {
        "id": "lMQ1tLRcITYJ"
      }
    },
    {
      "cell_type": "code",
      "source": [
        "housing.columns"
      ],
      "metadata": {
        "colab": {
          "base_uri": "https://localhost:8080/"
        },
        "id": "0G0_y-Up6vix",
        "outputId": "0cf2a3cb-2e1e-4d74-c452-bb2aa049df3c"
      },
      "execution_count": 27,
      "outputs": [
        {
          "output_type": "execute_result",
          "data": {
            "text/plain": [
              "Index(['price', 'bedrooms', 'bathrooms', 'sqft_living', 'sqft_lot', 'floors',\n",
              "       'waterfront', 'view', 'condition', 'grade', 'sqft_above',\n",
              "       'sqft_basement', 'yr_built', 'yr_renovated', 'sqft_living15',\n",
              "       'sqft_lot15'],\n",
              "      dtype='object')"
            ]
          },
          "metadata": {},
          "execution_count": 27
        }
      ]
    },
    {
      "cell_type": "code",
      "source": [
        "# correlation\n",
        "corr = housing.corr()\n",
        "corr"
      ],
      "metadata": {
        "colab": {
          "base_uri": "https://localhost:8080/",
          "height": 0
        },
        "id": "eh1quzCMP0FC",
        "outputId": "d3fdf3dc-1e4b-42d3-ec0b-09deb083cfaa"
      },
      "execution_count": 28,
      "outputs": [
        {
          "output_type": "execute_result",
          "data": {
            "text/plain": [
              "                  price  bedrooms  bathrooms  sqft_living  sqft_lot    floors  \\\n",
              "price          1.000000  0.308338   0.525134     0.702044  0.089655  0.256786   \n",
              "bedrooms       0.308338  1.000000   0.515884     0.576671  0.031703  0.175429   \n",
              "bathrooms      0.525134  0.515884   1.000000     0.754665  0.087740  0.500653   \n",
              "sqft_living    0.702044  0.576671   0.754665     1.000000  0.172826  0.353949   \n",
              "sqft_lot       0.089655  0.031703   0.087740     0.172826  1.000000 -0.005201   \n",
              "floors         0.256786  0.175429   0.500653     0.353949 -0.005201  1.000000   \n",
              "waterfront     0.266331 -0.006582   0.063744     0.103818  0.021604  0.023698   \n",
              "view           0.397346  0.079532   0.187737     0.284611  0.074710  0.029444   \n",
              "condition      0.036392  0.028472  -0.124982    -0.058753 -0.008958 -0.263768   \n",
              "grade          0.667463  0.356967   0.664983     0.762704  0.113621  0.458183   \n",
              "sqft_above     0.605566  0.477600   0.685342     0.876597  0.183512  0.523885   \n",
              "sqft_basement  0.323837  0.303093   0.283770     0.435043  0.015286 -0.245705   \n",
              "yr_built       0.053982  0.154178   0.506019     0.318049  0.053080  0.489319   \n",
              "yr_renovated   0.126442  0.018841   0.050739     0.055363  0.007644  0.006338   \n",
              "sqft_living15  0.585374  0.391638   0.568634     0.756420  0.144608  0.279885   \n",
              "sqft_lot15     0.082456  0.029244   0.087175     0.183286  0.718557 -0.011269   \n",
              "\n",
              "               waterfront      view  condition     grade  sqft_above  \\\n",
              "price            0.266331  0.397346   0.036392  0.667463    0.605566   \n",
              "bedrooms        -0.006582  0.079532   0.028472  0.356967    0.477600   \n",
              "bathrooms        0.063744  0.187737  -0.124982  0.664983    0.685342   \n",
              "sqft_living      0.103818  0.284611  -0.058753  0.762704    0.876597   \n",
              "sqft_lot         0.021604  0.074710  -0.008958  0.113621    0.183512   \n",
              "floors           0.023698  0.029444  -0.263768  0.458183    0.523885   \n",
              "waterfront       1.000000  0.401857   0.016653  0.082775    0.072075   \n",
              "view             0.401857  1.000000   0.045990  0.251321    0.167649   \n",
              "condition        0.016653  0.045990   1.000000 -0.144674   -0.158214   \n",
              "grade            0.082775  0.251321  -0.144674  1.000000    0.755923   \n",
              "sqft_above       0.072075  0.167649  -0.158214  0.755923    1.000000   \n",
              "sqft_basement    0.080588  0.276947   0.174105  0.168392   -0.051943   \n",
              "yr_built        -0.026161 -0.053440  -0.361417  0.446963    0.423898   \n",
              "yr_renovated     0.092885  0.103917  -0.060618  0.014414    0.023285   \n",
              "sqft_living15    0.086463  0.280439  -0.092824  0.713202    0.731870   \n",
              "sqft_lot15       0.030703  0.072575  -0.003406  0.119248    0.194050   \n",
              "\n",
              "               sqft_basement  yr_built  yr_renovated  sqft_living15  \\\n",
              "price               0.323837  0.053982      0.126442       0.585374   \n",
              "bedrooms            0.303093  0.154178      0.018841       0.391638   \n",
              "bathrooms           0.283770  0.506019      0.050739       0.568634   \n",
              "sqft_living         0.435043  0.318049      0.055363       0.756420   \n",
              "sqft_lot            0.015286  0.053080      0.007644       0.144608   \n",
              "floors             -0.245705  0.489319      0.006338       0.279885   \n",
              "waterfront          0.080588 -0.026161      0.092885       0.086463   \n",
              "view                0.276947 -0.053440      0.103917       0.280439   \n",
              "condition           0.174105 -0.361417     -0.060618      -0.092824   \n",
              "grade               0.168392  0.446963      0.014414       0.713202   \n",
              "sqft_above         -0.051943  0.423898      0.023285       0.731870   \n",
              "sqft_basement       1.000000 -0.133124      0.071323       0.200355   \n",
              "yr_built           -0.133124  1.000000     -0.224874       0.326229   \n",
              "yr_renovated        0.071323 -0.224874      1.000000      -0.002673   \n",
              "sqft_living15       0.200355  0.326229     -0.002673       1.000000   \n",
              "sqft_lot15          0.017276  0.070958      0.007854       0.183192   \n",
              "\n",
              "               sqft_lot15  \n",
              "price            0.082456  \n",
              "bedrooms         0.029244  \n",
              "bathrooms        0.087175  \n",
              "sqft_living      0.183286  \n",
              "sqft_lot         0.718557  \n",
              "floors          -0.011269  \n",
              "waterfront       0.030703  \n",
              "view             0.072575  \n",
              "condition       -0.003406  \n",
              "grade            0.119248  \n",
              "sqft_above       0.194050  \n",
              "sqft_basement    0.017276  \n",
              "yr_built         0.070958  \n",
              "yr_renovated     0.007854  \n",
              "sqft_living15    0.183192  \n",
              "sqft_lot15       1.000000  "
            ],
            "text/html": [
              "\n",
              "  <div id=\"df-b20a5975-5233-45d6-a006-84923e4d0877\">\n",
              "    <div class=\"colab-df-container\">\n",
              "      <div>\n",
              "<style scoped>\n",
              "    .dataframe tbody tr th:only-of-type {\n",
              "        vertical-align: middle;\n",
              "    }\n",
              "\n",
              "    .dataframe tbody tr th {\n",
              "        vertical-align: top;\n",
              "    }\n",
              "\n",
              "    .dataframe thead th {\n",
              "        text-align: right;\n",
              "    }\n",
              "</style>\n",
              "<table border=\"1\" class=\"dataframe\">\n",
              "  <thead>\n",
              "    <tr style=\"text-align: right;\">\n",
              "      <th></th>\n",
              "      <th>price</th>\n",
              "      <th>bedrooms</th>\n",
              "      <th>bathrooms</th>\n",
              "      <th>sqft_living</th>\n",
              "      <th>sqft_lot</th>\n",
              "      <th>floors</th>\n",
              "      <th>waterfront</th>\n",
              "      <th>view</th>\n",
              "      <th>condition</th>\n",
              "      <th>grade</th>\n",
              "      <th>sqft_above</th>\n",
              "      <th>sqft_basement</th>\n",
              "      <th>yr_built</th>\n",
              "      <th>yr_renovated</th>\n",
              "      <th>sqft_living15</th>\n",
              "      <th>sqft_lot15</th>\n",
              "    </tr>\n",
              "  </thead>\n",
              "  <tbody>\n",
              "    <tr>\n",
              "      <th>price</th>\n",
              "      <td>1.000000</td>\n",
              "      <td>0.308338</td>\n",
              "      <td>0.525134</td>\n",
              "      <td>0.702044</td>\n",
              "      <td>0.089655</td>\n",
              "      <td>0.256786</td>\n",
              "      <td>0.266331</td>\n",
              "      <td>0.397346</td>\n",
              "      <td>0.036392</td>\n",
              "      <td>0.667463</td>\n",
              "      <td>0.605566</td>\n",
              "      <td>0.323837</td>\n",
              "      <td>0.053982</td>\n",
              "      <td>0.126442</td>\n",
              "      <td>0.585374</td>\n",
              "      <td>0.082456</td>\n",
              "    </tr>\n",
              "    <tr>\n",
              "      <th>bedrooms</th>\n",
              "      <td>0.308338</td>\n",
              "      <td>1.000000</td>\n",
              "      <td>0.515884</td>\n",
              "      <td>0.576671</td>\n",
              "      <td>0.031703</td>\n",
              "      <td>0.175429</td>\n",
              "      <td>-0.006582</td>\n",
              "      <td>0.079532</td>\n",
              "      <td>0.028472</td>\n",
              "      <td>0.356967</td>\n",
              "      <td>0.477600</td>\n",
              "      <td>0.303093</td>\n",
              "      <td>0.154178</td>\n",
              "      <td>0.018841</td>\n",
              "      <td>0.391638</td>\n",
              "      <td>0.029244</td>\n",
              "    </tr>\n",
              "    <tr>\n",
              "      <th>bathrooms</th>\n",
              "      <td>0.525134</td>\n",
              "      <td>0.515884</td>\n",
              "      <td>1.000000</td>\n",
              "      <td>0.754665</td>\n",
              "      <td>0.087740</td>\n",
              "      <td>0.500653</td>\n",
              "      <td>0.063744</td>\n",
              "      <td>0.187737</td>\n",
              "      <td>-0.124982</td>\n",
              "      <td>0.664983</td>\n",
              "      <td>0.685342</td>\n",
              "      <td>0.283770</td>\n",
              "      <td>0.506019</td>\n",
              "      <td>0.050739</td>\n",
              "      <td>0.568634</td>\n",
              "      <td>0.087175</td>\n",
              "    </tr>\n",
              "    <tr>\n",
              "      <th>sqft_living</th>\n",
              "      <td>0.702044</td>\n",
              "      <td>0.576671</td>\n",
              "      <td>0.754665</td>\n",
              "      <td>1.000000</td>\n",
              "      <td>0.172826</td>\n",
              "      <td>0.353949</td>\n",
              "      <td>0.103818</td>\n",
              "      <td>0.284611</td>\n",
              "      <td>-0.058753</td>\n",
              "      <td>0.762704</td>\n",
              "      <td>0.876597</td>\n",
              "      <td>0.435043</td>\n",
              "      <td>0.318049</td>\n",
              "      <td>0.055363</td>\n",
              "      <td>0.756420</td>\n",
              "      <td>0.183286</td>\n",
              "    </tr>\n",
              "    <tr>\n",
              "      <th>sqft_lot</th>\n",
              "      <td>0.089655</td>\n",
              "      <td>0.031703</td>\n",
              "      <td>0.087740</td>\n",
              "      <td>0.172826</td>\n",
              "      <td>1.000000</td>\n",
              "      <td>-0.005201</td>\n",
              "      <td>0.021604</td>\n",
              "      <td>0.074710</td>\n",
              "      <td>-0.008958</td>\n",
              "      <td>0.113621</td>\n",
              "      <td>0.183512</td>\n",
              "      <td>0.015286</td>\n",
              "      <td>0.053080</td>\n",
              "      <td>0.007644</td>\n",
              "      <td>0.144608</td>\n",
              "      <td>0.718557</td>\n",
              "    </tr>\n",
              "    <tr>\n",
              "      <th>floors</th>\n",
              "      <td>0.256786</td>\n",
              "      <td>0.175429</td>\n",
              "      <td>0.500653</td>\n",
              "      <td>0.353949</td>\n",
              "      <td>-0.005201</td>\n",
              "      <td>1.000000</td>\n",
              "      <td>0.023698</td>\n",
              "      <td>0.029444</td>\n",
              "      <td>-0.263768</td>\n",
              "      <td>0.458183</td>\n",
              "      <td>0.523885</td>\n",
              "      <td>-0.245705</td>\n",
              "      <td>0.489319</td>\n",
              "      <td>0.006338</td>\n",
              "      <td>0.279885</td>\n",
              "      <td>-0.011269</td>\n",
              "    </tr>\n",
              "    <tr>\n",
              "      <th>waterfront</th>\n",
              "      <td>0.266331</td>\n",
              "      <td>-0.006582</td>\n",
              "      <td>0.063744</td>\n",
              "      <td>0.103818</td>\n",
              "      <td>0.021604</td>\n",
              "      <td>0.023698</td>\n",
              "      <td>1.000000</td>\n",
              "      <td>0.401857</td>\n",
              "      <td>0.016653</td>\n",
              "      <td>0.082775</td>\n",
              "      <td>0.072075</td>\n",
              "      <td>0.080588</td>\n",
              "      <td>-0.026161</td>\n",
              "      <td>0.092885</td>\n",
              "      <td>0.086463</td>\n",
              "      <td>0.030703</td>\n",
              "    </tr>\n",
              "    <tr>\n",
              "      <th>view</th>\n",
              "      <td>0.397346</td>\n",
              "      <td>0.079532</td>\n",
              "      <td>0.187737</td>\n",
              "      <td>0.284611</td>\n",
              "      <td>0.074710</td>\n",
              "      <td>0.029444</td>\n",
              "      <td>0.401857</td>\n",
              "      <td>1.000000</td>\n",
              "      <td>0.045990</td>\n",
              "      <td>0.251321</td>\n",
              "      <td>0.167649</td>\n",
              "      <td>0.276947</td>\n",
              "      <td>-0.053440</td>\n",
              "      <td>0.103917</td>\n",
              "      <td>0.280439</td>\n",
              "      <td>0.072575</td>\n",
              "    </tr>\n",
              "    <tr>\n",
              "      <th>condition</th>\n",
              "      <td>0.036392</td>\n",
              "      <td>0.028472</td>\n",
              "      <td>-0.124982</td>\n",
              "      <td>-0.058753</td>\n",
              "      <td>-0.008958</td>\n",
              "      <td>-0.263768</td>\n",
              "      <td>0.016653</td>\n",
              "      <td>0.045990</td>\n",
              "      <td>1.000000</td>\n",
              "      <td>-0.144674</td>\n",
              "      <td>-0.158214</td>\n",
              "      <td>0.174105</td>\n",
              "      <td>-0.361417</td>\n",
              "      <td>-0.060618</td>\n",
              "      <td>-0.092824</td>\n",
              "      <td>-0.003406</td>\n",
              "    </tr>\n",
              "    <tr>\n",
              "      <th>grade</th>\n",
              "      <td>0.667463</td>\n",
              "      <td>0.356967</td>\n",
              "      <td>0.664983</td>\n",
              "      <td>0.762704</td>\n",
              "      <td>0.113621</td>\n",
              "      <td>0.458183</td>\n",
              "      <td>0.082775</td>\n",
              "      <td>0.251321</td>\n",
              "      <td>-0.144674</td>\n",
              "      <td>1.000000</td>\n",
              "      <td>0.755923</td>\n",
              "      <td>0.168392</td>\n",
              "      <td>0.446963</td>\n",
              "      <td>0.014414</td>\n",
              "      <td>0.713202</td>\n",
              "      <td>0.119248</td>\n",
              "    </tr>\n",
              "    <tr>\n",
              "      <th>sqft_above</th>\n",
              "      <td>0.605566</td>\n",
              "      <td>0.477600</td>\n",
              "      <td>0.685342</td>\n",
              "      <td>0.876597</td>\n",
              "      <td>0.183512</td>\n",
              "      <td>0.523885</td>\n",
              "      <td>0.072075</td>\n",
              "      <td>0.167649</td>\n",
              "      <td>-0.158214</td>\n",
              "      <td>0.755923</td>\n",
              "      <td>1.000000</td>\n",
              "      <td>-0.051943</td>\n",
              "      <td>0.423898</td>\n",
              "      <td>0.023285</td>\n",
              "      <td>0.731870</td>\n",
              "      <td>0.194050</td>\n",
              "    </tr>\n",
              "    <tr>\n",
              "      <th>sqft_basement</th>\n",
              "      <td>0.323837</td>\n",
              "      <td>0.303093</td>\n",
              "      <td>0.283770</td>\n",
              "      <td>0.435043</td>\n",
              "      <td>0.015286</td>\n",
              "      <td>-0.245705</td>\n",
              "      <td>0.080588</td>\n",
              "      <td>0.276947</td>\n",
              "      <td>0.174105</td>\n",
              "      <td>0.168392</td>\n",
              "      <td>-0.051943</td>\n",
              "      <td>1.000000</td>\n",
              "      <td>-0.133124</td>\n",
              "      <td>0.071323</td>\n",
              "      <td>0.200355</td>\n",
              "      <td>0.017276</td>\n",
              "    </tr>\n",
              "    <tr>\n",
              "      <th>yr_built</th>\n",
              "      <td>0.053982</td>\n",
              "      <td>0.154178</td>\n",
              "      <td>0.506019</td>\n",
              "      <td>0.318049</td>\n",
              "      <td>0.053080</td>\n",
              "      <td>0.489319</td>\n",
              "      <td>-0.026161</td>\n",
              "      <td>-0.053440</td>\n",
              "      <td>-0.361417</td>\n",
              "      <td>0.446963</td>\n",
              "      <td>0.423898</td>\n",
              "      <td>-0.133124</td>\n",
              "      <td>1.000000</td>\n",
              "      <td>-0.224874</td>\n",
              "      <td>0.326229</td>\n",
              "      <td>0.070958</td>\n",
              "    </tr>\n",
              "    <tr>\n",
              "      <th>yr_renovated</th>\n",
              "      <td>0.126442</td>\n",
              "      <td>0.018841</td>\n",
              "      <td>0.050739</td>\n",
              "      <td>0.055363</td>\n",
              "      <td>0.007644</td>\n",
              "      <td>0.006338</td>\n",
              "      <td>0.092885</td>\n",
              "      <td>0.103917</td>\n",
              "      <td>-0.060618</td>\n",
              "      <td>0.014414</td>\n",
              "      <td>0.023285</td>\n",
              "      <td>0.071323</td>\n",
              "      <td>-0.224874</td>\n",
              "      <td>1.000000</td>\n",
              "      <td>-0.002673</td>\n",
              "      <td>0.007854</td>\n",
              "    </tr>\n",
              "    <tr>\n",
              "      <th>sqft_living15</th>\n",
              "      <td>0.585374</td>\n",
              "      <td>0.391638</td>\n",
              "      <td>0.568634</td>\n",
              "      <td>0.756420</td>\n",
              "      <td>0.144608</td>\n",
              "      <td>0.279885</td>\n",
              "      <td>0.086463</td>\n",
              "      <td>0.280439</td>\n",
              "      <td>-0.092824</td>\n",
              "      <td>0.713202</td>\n",
              "      <td>0.731870</td>\n",
              "      <td>0.200355</td>\n",
              "      <td>0.326229</td>\n",
              "      <td>-0.002673</td>\n",
              "      <td>1.000000</td>\n",
              "      <td>0.183192</td>\n",
              "    </tr>\n",
              "    <tr>\n",
              "      <th>sqft_lot15</th>\n",
              "      <td>0.082456</td>\n",
              "      <td>0.029244</td>\n",
              "      <td>0.087175</td>\n",
              "      <td>0.183286</td>\n",
              "      <td>0.718557</td>\n",
              "      <td>-0.011269</td>\n",
              "      <td>0.030703</td>\n",
              "      <td>0.072575</td>\n",
              "      <td>-0.003406</td>\n",
              "      <td>0.119248</td>\n",
              "      <td>0.194050</td>\n",
              "      <td>0.017276</td>\n",
              "      <td>0.070958</td>\n",
              "      <td>0.007854</td>\n",
              "      <td>0.183192</td>\n",
              "      <td>1.000000</td>\n",
              "    </tr>\n",
              "  </tbody>\n",
              "</table>\n",
              "</div>\n",
              "      <button class=\"colab-df-convert\" onclick=\"convertToInteractive('df-b20a5975-5233-45d6-a006-84923e4d0877')\"\n",
              "              title=\"Convert this dataframe to an interactive table.\"\n",
              "              style=\"display:none;\">\n",
              "        \n",
              "  <svg xmlns=\"http://www.w3.org/2000/svg\" height=\"24px\"viewBox=\"0 0 24 24\"\n",
              "       width=\"24px\">\n",
              "    <path d=\"M0 0h24v24H0V0z\" fill=\"none\"/>\n",
              "    <path d=\"M18.56 5.44l.94 2.06.94-2.06 2.06-.94-2.06-.94-.94-2.06-.94 2.06-2.06.94zm-11 1L8.5 8.5l.94-2.06 2.06-.94-2.06-.94L8.5 2.5l-.94 2.06-2.06.94zm10 10l.94 2.06.94-2.06 2.06-.94-2.06-.94-.94-2.06-.94 2.06-2.06.94z\"/><path d=\"M17.41 7.96l-1.37-1.37c-.4-.4-.92-.59-1.43-.59-.52 0-1.04.2-1.43.59L10.3 9.45l-7.72 7.72c-.78.78-.78 2.05 0 2.83L4 21.41c.39.39.9.59 1.41.59.51 0 1.02-.2 1.41-.59l7.78-7.78 2.81-2.81c.8-.78.8-2.07 0-2.86zM5.41 20L4 18.59l7.72-7.72 1.47 1.35L5.41 20z\"/>\n",
              "  </svg>\n",
              "      </button>\n",
              "      \n",
              "  <style>\n",
              "    .colab-df-container {\n",
              "      display:flex;\n",
              "      flex-wrap:wrap;\n",
              "      gap: 12px;\n",
              "    }\n",
              "\n",
              "    .colab-df-convert {\n",
              "      background-color: #E8F0FE;\n",
              "      border: none;\n",
              "      border-radius: 50%;\n",
              "      cursor: pointer;\n",
              "      display: none;\n",
              "      fill: #1967D2;\n",
              "      height: 32px;\n",
              "      padding: 0 0 0 0;\n",
              "      width: 32px;\n",
              "    }\n",
              "\n",
              "    .colab-df-convert:hover {\n",
              "      background-color: #E2EBFA;\n",
              "      box-shadow: 0px 1px 2px rgba(60, 64, 67, 0.3), 0px 1px 3px 1px rgba(60, 64, 67, 0.15);\n",
              "      fill: #174EA6;\n",
              "    }\n",
              "\n",
              "    [theme=dark] .colab-df-convert {\n",
              "      background-color: #3B4455;\n",
              "      fill: #D2E3FC;\n",
              "    }\n",
              "\n",
              "    [theme=dark] .colab-df-convert:hover {\n",
              "      background-color: #434B5C;\n",
              "      box-shadow: 0px 1px 3px 1px rgba(0, 0, 0, 0.15);\n",
              "      filter: drop-shadow(0px 1px 2px rgba(0, 0, 0, 0.3));\n",
              "      fill: #FFFFFF;\n",
              "    }\n",
              "  </style>\n",
              "\n",
              "      <script>\n",
              "        const buttonEl =\n",
              "          document.querySelector('#df-b20a5975-5233-45d6-a006-84923e4d0877 button.colab-df-convert');\n",
              "        buttonEl.style.display =\n",
              "          google.colab.kernel.accessAllowed ? 'block' : 'none';\n",
              "\n",
              "        async function convertToInteractive(key) {\n",
              "          const element = document.querySelector('#df-b20a5975-5233-45d6-a006-84923e4d0877');\n",
              "          const dataTable =\n",
              "            await google.colab.kernel.invokeFunction('convertToInteractive',\n",
              "                                                     [key], {});\n",
              "          if (!dataTable) return;\n",
              "\n",
              "          const docLinkHtml = 'Like what you see? Visit the ' +\n",
              "            '<a target=\"_blank\" href=https://colab.research.google.com/notebooks/data_table.ipynb>data table notebook</a>'\n",
              "            + ' to learn more about interactive tables.';\n",
              "          element.innerHTML = '';\n",
              "          dataTable['output_type'] = 'display_data';\n",
              "          await google.colab.output.renderOutput(dataTable, element);\n",
              "          const docLink = document.createElement('div');\n",
              "          docLink.innerHTML = docLinkHtml;\n",
              "          element.appendChild(docLink);\n",
              "        }\n",
              "      </script>\n",
              "    </div>\n",
              "  </div>\n",
              "  "
            ]
          },
          "metadata": {},
          "execution_count": 28
        }
      ]
    },
    {
      "cell_type": "markdown",
      "source": [
        "## Multicollinearity"
      ],
      "metadata": {
        "id": "XXn8sxtDQEOe"
      }
    },
    {
      "cell_type": "code",
      "source": [
        "# check for the independent variable only\n",
        "# so drop the target variable\n",
        "house = housing.drop('price', axis = 1)\n",
        "correlation = house.corr()\n",
        "correlation"
      ],
      "metadata": {
        "colab": {
          "base_uri": "https://localhost:8080/",
          "height": 583
        },
        "id": "FAYwtUDRP4BC",
        "outputId": "940bdf37-90f8-45a1-9746-fe1962c99ea0"
      },
      "execution_count": 29,
      "outputs": [
        {
          "output_type": "execute_result",
          "data": {
            "text/plain": [
              "               bedrooms  bathrooms  sqft_living  sqft_lot    floors  \\\n",
              "bedrooms       1.000000   0.515884     0.576671  0.031703  0.175429   \n",
              "bathrooms      0.515884   1.000000     0.754665  0.087740  0.500653   \n",
              "sqft_living    0.576671   0.754665     1.000000  0.172826  0.353949   \n",
              "sqft_lot       0.031703   0.087740     0.172826  1.000000 -0.005201   \n",
              "floors         0.175429   0.500653     0.353949 -0.005201  1.000000   \n",
              "waterfront    -0.006582   0.063744     0.103818  0.021604  0.023698   \n",
              "view           0.079532   0.187737     0.284611  0.074710  0.029444   \n",
              "condition      0.028472  -0.124982    -0.058753 -0.008958 -0.263768   \n",
              "grade          0.356967   0.664983     0.762704  0.113621  0.458183   \n",
              "sqft_above     0.477600   0.685342     0.876597  0.183512  0.523885   \n",
              "sqft_basement  0.303093   0.283770     0.435043  0.015286 -0.245705   \n",
              "yr_built       0.154178   0.506019     0.318049  0.053080  0.489319   \n",
              "yr_renovated   0.018841   0.050739     0.055363  0.007644  0.006338   \n",
              "sqft_living15  0.391638   0.568634     0.756420  0.144608  0.279885   \n",
              "sqft_lot15     0.029244   0.087175     0.183286  0.718557 -0.011269   \n",
              "\n",
              "               waterfront      view  condition     grade  sqft_above  \\\n",
              "bedrooms        -0.006582  0.079532   0.028472  0.356967    0.477600   \n",
              "bathrooms        0.063744  0.187737  -0.124982  0.664983    0.685342   \n",
              "sqft_living      0.103818  0.284611  -0.058753  0.762704    0.876597   \n",
              "sqft_lot         0.021604  0.074710  -0.008958  0.113621    0.183512   \n",
              "floors           0.023698  0.029444  -0.263768  0.458183    0.523885   \n",
              "waterfront       1.000000  0.401857   0.016653  0.082775    0.072075   \n",
              "view             0.401857  1.000000   0.045990  0.251321    0.167649   \n",
              "condition        0.016653  0.045990   1.000000 -0.144674   -0.158214   \n",
              "grade            0.082775  0.251321  -0.144674  1.000000    0.755923   \n",
              "sqft_above       0.072075  0.167649  -0.158214  0.755923    1.000000   \n",
              "sqft_basement    0.080588  0.276947   0.174105  0.168392   -0.051943   \n",
              "yr_built        -0.026161 -0.053440  -0.361417  0.446963    0.423898   \n",
              "yr_renovated     0.092885  0.103917  -0.060618  0.014414    0.023285   \n",
              "sqft_living15    0.086463  0.280439  -0.092824  0.713202    0.731870   \n",
              "sqft_lot15       0.030703  0.072575  -0.003406  0.119248    0.194050   \n",
              "\n",
              "               sqft_basement  yr_built  yr_renovated  sqft_living15  \\\n",
              "bedrooms            0.303093  0.154178      0.018841       0.391638   \n",
              "bathrooms           0.283770  0.506019      0.050739       0.568634   \n",
              "sqft_living         0.435043  0.318049      0.055363       0.756420   \n",
              "sqft_lot            0.015286  0.053080      0.007644       0.144608   \n",
              "floors             -0.245705  0.489319      0.006338       0.279885   \n",
              "waterfront          0.080588 -0.026161      0.092885       0.086463   \n",
              "view                0.276947 -0.053440      0.103917       0.280439   \n",
              "condition           0.174105 -0.361417     -0.060618      -0.092824   \n",
              "grade               0.168392  0.446963      0.014414       0.713202   \n",
              "sqft_above         -0.051943  0.423898      0.023285       0.731870   \n",
              "sqft_basement       1.000000 -0.133124      0.071323       0.200355   \n",
              "yr_built           -0.133124  1.000000     -0.224874       0.326229   \n",
              "yr_renovated        0.071323 -0.224874      1.000000      -0.002673   \n",
              "sqft_living15       0.200355  0.326229     -0.002673       1.000000   \n",
              "sqft_lot15          0.017276  0.070958      0.007854       0.183192   \n",
              "\n",
              "               sqft_lot15  \n",
              "bedrooms         0.029244  \n",
              "bathrooms        0.087175  \n",
              "sqft_living      0.183286  \n",
              "sqft_lot         0.718557  \n",
              "floors          -0.011269  \n",
              "waterfront       0.030703  \n",
              "view             0.072575  \n",
              "condition       -0.003406  \n",
              "grade            0.119248  \n",
              "sqft_above       0.194050  \n",
              "sqft_basement    0.017276  \n",
              "yr_built         0.070958  \n",
              "yr_renovated     0.007854  \n",
              "sqft_living15    0.183192  \n",
              "sqft_lot15       1.000000  "
            ],
            "text/html": [
              "\n",
              "  <div id=\"df-f676b55f-a80e-4ebe-ad9a-857ae068f6f0\">\n",
              "    <div class=\"colab-df-container\">\n",
              "      <div>\n",
              "<style scoped>\n",
              "    .dataframe tbody tr th:only-of-type {\n",
              "        vertical-align: middle;\n",
              "    }\n",
              "\n",
              "    .dataframe tbody tr th {\n",
              "        vertical-align: top;\n",
              "    }\n",
              "\n",
              "    .dataframe thead th {\n",
              "        text-align: right;\n",
              "    }\n",
              "</style>\n",
              "<table border=\"1\" class=\"dataframe\">\n",
              "  <thead>\n",
              "    <tr style=\"text-align: right;\">\n",
              "      <th></th>\n",
              "      <th>bedrooms</th>\n",
              "      <th>bathrooms</th>\n",
              "      <th>sqft_living</th>\n",
              "      <th>sqft_lot</th>\n",
              "      <th>floors</th>\n",
              "      <th>waterfront</th>\n",
              "      <th>view</th>\n",
              "      <th>condition</th>\n",
              "      <th>grade</th>\n",
              "      <th>sqft_above</th>\n",
              "      <th>sqft_basement</th>\n",
              "      <th>yr_built</th>\n",
              "      <th>yr_renovated</th>\n",
              "      <th>sqft_living15</th>\n",
              "      <th>sqft_lot15</th>\n",
              "    </tr>\n",
              "  </thead>\n",
              "  <tbody>\n",
              "    <tr>\n",
              "      <th>bedrooms</th>\n",
              "      <td>1.000000</td>\n",
              "      <td>0.515884</td>\n",
              "      <td>0.576671</td>\n",
              "      <td>0.031703</td>\n",
              "      <td>0.175429</td>\n",
              "      <td>-0.006582</td>\n",
              "      <td>0.079532</td>\n",
              "      <td>0.028472</td>\n",
              "      <td>0.356967</td>\n",
              "      <td>0.477600</td>\n",
              "      <td>0.303093</td>\n",
              "      <td>0.154178</td>\n",
              "      <td>0.018841</td>\n",
              "      <td>0.391638</td>\n",
              "      <td>0.029244</td>\n",
              "    </tr>\n",
              "    <tr>\n",
              "      <th>bathrooms</th>\n",
              "      <td>0.515884</td>\n",
              "      <td>1.000000</td>\n",
              "      <td>0.754665</td>\n",
              "      <td>0.087740</td>\n",
              "      <td>0.500653</td>\n",
              "      <td>0.063744</td>\n",
              "      <td>0.187737</td>\n",
              "      <td>-0.124982</td>\n",
              "      <td>0.664983</td>\n",
              "      <td>0.685342</td>\n",
              "      <td>0.283770</td>\n",
              "      <td>0.506019</td>\n",
              "      <td>0.050739</td>\n",
              "      <td>0.568634</td>\n",
              "      <td>0.087175</td>\n",
              "    </tr>\n",
              "    <tr>\n",
              "      <th>sqft_living</th>\n",
              "      <td>0.576671</td>\n",
              "      <td>0.754665</td>\n",
              "      <td>1.000000</td>\n",
              "      <td>0.172826</td>\n",
              "      <td>0.353949</td>\n",
              "      <td>0.103818</td>\n",
              "      <td>0.284611</td>\n",
              "      <td>-0.058753</td>\n",
              "      <td>0.762704</td>\n",
              "      <td>0.876597</td>\n",
              "      <td>0.435043</td>\n",
              "      <td>0.318049</td>\n",
              "      <td>0.055363</td>\n",
              "      <td>0.756420</td>\n",
              "      <td>0.183286</td>\n",
              "    </tr>\n",
              "    <tr>\n",
              "      <th>sqft_lot</th>\n",
              "      <td>0.031703</td>\n",
              "      <td>0.087740</td>\n",
              "      <td>0.172826</td>\n",
              "      <td>1.000000</td>\n",
              "      <td>-0.005201</td>\n",
              "      <td>0.021604</td>\n",
              "      <td>0.074710</td>\n",
              "      <td>-0.008958</td>\n",
              "      <td>0.113621</td>\n",
              "      <td>0.183512</td>\n",
              "      <td>0.015286</td>\n",
              "      <td>0.053080</td>\n",
              "      <td>0.007644</td>\n",
              "      <td>0.144608</td>\n",
              "      <td>0.718557</td>\n",
              "    </tr>\n",
              "    <tr>\n",
              "      <th>floors</th>\n",
              "      <td>0.175429</td>\n",
              "      <td>0.500653</td>\n",
              "      <td>0.353949</td>\n",
              "      <td>-0.005201</td>\n",
              "      <td>1.000000</td>\n",
              "      <td>0.023698</td>\n",
              "      <td>0.029444</td>\n",
              "      <td>-0.263768</td>\n",
              "      <td>0.458183</td>\n",
              "      <td>0.523885</td>\n",
              "      <td>-0.245705</td>\n",
              "      <td>0.489319</td>\n",
              "      <td>0.006338</td>\n",
              "      <td>0.279885</td>\n",
              "      <td>-0.011269</td>\n",
              "    </tr>\n",
              "    <tr>\n",
              "      <th>waterfront</th>\n",
              "      <td>-0.006582</td>\n",
              "      <td>0.063744</td>\n",
              "      <td>0.103818</td>\n",
              "      <td>0.021604</td>\n",
              "      <td>0.023698</td>\n",
              "      <td>1.000000</td>\n",
              "      <td>0.401857</td>\n",
              "      <td>0.016653</td>\n",
              "      <td>0.082775</td>\n",
              "      <td>0.072075</td>\n",
              "      <td>0.080588</td>\n",
              "      <td>-0.026161</td>\n",
              "      <td>0.092885</td>\n",
              "      <td>0.086463</td>\n",
              "      <td>0.030703</td>\n",
              "    </tr>\n",
              "    <tr>\n",
              "      <th>view</th>\n",
              "      <td>0.079532</td>\n",
              "      <td>0.187737</td>\n",
              "      <td>0.284611</td>\n",
              "      <td>0.074710</td>\n",
              "      <td>0.029444</td>\n",
              "      <td>0.401857</td>\n",
              "      <td>1.000000</td>\n",
              "      <td>0.045990</td>\n",
              "      <td>0.251321</td>\n",
              "      <td>0.167649</td>\n",
              "      <td>0.276947</td>\n",
              "      <td>-0.053440</td>\n",
              "      <td>0.103917</td>\n",
              "      <td>0.280439</td>\n",
              "      <td>0.072575</td>\n",
              "    </tr>\n",
              "    <tr>\n",
              "      <th>condition</th>\n",
              "      <td>0.028472</td>\n",
              "      <td>-0.124982</td>\n",
              "      <td>-0.058753</td>\n",
              "      <td>-0.008958</td>\n",
              "      <td>-0.263768</td>\n",
              "      <td>0.016653</td>\n",
              "      <td>0.045990</td>\n",
              "      <td>1.000000</td>\n",
              "      <td>-0.144674</td>\n",
              "      <td>-0.158214</td>\n",
              "      <td>0.174105</td>\n",
              "      <td>-0.361417</td>\n",
              "      <td>-0.060618</td>\n",
              "      <td>-0.092824</td>\n",
              "      <td>-0.003406</td>\n",
              "    </tr>\n",
              "    <tr>\n",
              "      <th>grade</th>\n",
              "      <td>0.356967</td>\n",
              "      <td>0.664983</td>\n",
              "      <td>0.762704</td>\n",
              "      <td>0.113621</td>\n",
              "      <td>0.458183</td>\n",
              "      <td>0.082775</td>\n",
              "      <td>0.251321</td>\n",
              "      <td>-0.144674</td>\n",
              "      <td>1.000000</td>\n",
              "      <td>0.755923</td>\n",
              "      <td>0.168392</td>\n",
              "      <td>0.446963</td>\n",
              "      <td>0.014414</td>\n",
              "      <td>0.713202</td>\n",
              "      <td>0.119248</td>\n",
              "    </tr>\n",
              "    <tr>\n",
              "      <th>sqft_above</th>\n",
              "      <td>0.477600</td>\n",
              "      <td>0.685342</td>\n",
              "      <td>0.876597</td>\n",
              "      <td>0.183512</td>\n",
              "      <td>0.523885</td>\n",
              "      <td>0.072075</td>\n",
              "      <td>0.167649</td>\n",
              "      <td>-0.158214</td>\n",
              "      <td>0.755923</td>\n",
              "      <td>1.000000</td>\n",
              "      <td>-0.051943</td>\n",
              "      <td>0.423898</td>\n",
              "      <td>0.023285</td>\n",
              "      <td>0.731870</td>\n",
              "      <td>0.194050</td>\n",
              "    </tr>\n",
              "    <tr>\n",
              "      <th>sqft_basement</th>\n",
              "      <td>0.303093</td>\n",
              "      <td>0.283770</td>\n",
              "      <td>0.435043</td>\n",
              "      <td>0.015286</td>\n",
              "      <td>-0.245705</td>\n",
              "      <td>0.080588</td>\n",
              "      <td>0.276947</td>\n",
              "      <td>0.174105</td>\n",
              "      <td>0.168392</td>\n",
              "      <td>-0.051943</td>\n",
              "      <td>1.000000</td>\n",
              "      <td>-0.133124</td>\n",
              "      <td>0.071323</td>\n",
              "      <td>0.200355</td>\n",
              "      <td>0.017276</td>\n",
              "    </tr>\n",
              "    <tr>\n",
              "      <th>yr_built</th>\n",
              "      <td>0.154178</td>\n",
              "      <td>0.506019</td>\n",
              "      <td>0.318049</td>\n",
              "      <td>0.053080</td>\n",
              "      <td>0.489319</td>\n",
              "      <td>-0.026161</td>\n",
              "      <td>-0.053440</td>\n",
              "      <td>-0.361417</td>\n",
              "      <td>0.446963</td>\n",
              "      <td>0.423898</td>\n",
              "      <td>-0.133124</td>\n",
              "      <td>1.000000</td>\n",
              "      <td>-0.224874</td>\n",
              "      <td>0.326229</td>\n",
              "      <td>0.070958</td>\n",
              "    </tr>\n",
              "    <tr>\n",
              "      <th>yr_renovated</th>\n",
              "      <td>0.018841</td>\n",
              "      <td>0.050739</td>\n",
              "      <td>0.055363</td>\n",
              "      <td>0.007644</td>\n",
              "      <td>0.006338</td>\n",
              "      <td>0.092885</td>\n",
              "      <td>0.103917</td>\n",
              "      <td>-0.060618</td>\n",
              "      <td>0.014414</td>\n",
              "      <td>0.023285</td>\n",
              "      <td>0.071323</td>\n",
              "      <td>-0.224874</td>\n",
              "      <td>1.000000</td>\n",
              "      <td>-0.002673</td>\n",
              "      <td>0.007854</td>\n",
              "    </tr>\n",
              "    <tr>\n",
              "      <th>sqft_living15</th>\n",
              "      <td>0.391638</td>\n",
              "      <td>0.568634</td>\n",
              "      <td>0.756420</td>\n",
              "      <td>0.144608</td>\n",
              "      <td>0.279885</td>\n",
              "      <td>0.086463</td>\n",
              "      <td>0.280439</td>\n",
              "      <td>-0.092824</td>\n",
              "      <td>0.713202</td>\n",
              "      <td>0.731870</td>\n",
              "      <td>0.200355</td>\n",
              "      <td>0.326229</td>\n",
              "      <td>-0.002673</td>\n",
              "      <td>1.000000</td>\n",
              "      <td>0.183192</td>\n",
              "    </tr>\n",
              "    <tr>\n",
              "      <th>sqft_lot15</th>\n",
              "      <td>0.029244</td>\n",
              "      <td>0.087175</td>\n",
              "      <td>0.183286</td>\n",
              "      <td>0.718557</td>\n",
              "      <td>-0.011269</td>\n",
              "      <td>0.030703</td>\n",
              "      <td>0.072575</td>\n",
              "      <td>-0.003406</td>\n",
              "      <td>0.119248</td>\n",
              "      <td>0.194050</td>\n",
              "      <td>0.017276</td>\n",
              "      <td>0.070958</td>\n",
              "      <td>0.007854</td>\n",
              "      <td>0.183192</td>\n",
              "      <td>1.000000</td>\n",
              "    </tr>\n",
              "  </tbody>\n",
              "</table>\n",
              "</div>\n",
              "      <button class=\"colab-df-convert\" onclick=\"convertToInteractive('df-f676b55f-a80e-4ebe-ad9a-857ae068f6f0')\"\n",
              "              title=\"Convert this dataframe to an interactive table.\"\n",
              "              style=\"display:none;\">\n",
              "        \n",
              "  <svg xmlns=\"http://www.w3.org/2000/svg\" height=\"24px\"viewBox=\"0 0 24 24\"\n",
              "       width=\"24px\">\n",
              "    <path d=\"M0 0h24v24H0V0z\" fill=\"none\"/>\n",
              "    <path d=\"M18.56 5.44l.94 2.06.94-2.06 2.06-.94-2.06-.94-.94-2.06-.94 2.06-2.06.94zm-11 1L8.5 8.5l.94-2.06 2.06-.94-2.06-.94L8.5 2.5l-.94 2.06-2.06.94zm10 10l.94 2.06.94-2.06 2.06-.94-2.06-.94-.94-2.06-.94 2.06-2.06.94z\"/><path d=\"M17.41 7.96l-1.37-1.37c-.4-.4-.92-.59-1.43-.59-.52 0-1.04.2-1.43.59L10.3 9.45l-7.72 7.72c-.78.78-.78 2.05 0 2.83L4 21.41c.39.39.9.59 1.41.59.51 0 1.02-.2 1.41-.59l7.78-7.78 2.81-2.81c.8-.78.8-2.07 0-2.86zM5.41 20L4 18.59l7.72-7.72 1.47 1.35L5.41 20z\"/>\n",
              "  </svg>\n",
              "      </button>\n",
              "      \n",
              "  <style>\n",
              "    .colab-df-container {\n",
              "      display:flex;\n",
              "      flex-wrap:wrap;\n",
              "      gap: 12px;\n",
              "    }\n",
              "\n",
              "    .colab-df-convert {\n",
              "      background-color: #E8F0FE;\n",
              "      border: none;\n",
              "      border-radius: 50%;\n",
              "      cursor: pointer;\n",
              "      display: none;\n",
              "      fill: #1967D2;\n",
              "      height: 32px;\n",
              "      padding: 0 0 0 0;\n",
              "      width: 32px;\n",
              "    }\n",
              "\n",
              "    .colab-df-convert:hover {\n",
              "      background-color: #E2EBFA;\n",
              "      box-shadow: 0px 1px 2px rgba(60, 64, 67, 0.3), 0px 1px 3px 1px rgba(60, 64, 67, 0.15);\n",
              "      fill: #174EA6;\n",
              "    }\n",
              "\n",
              "    [theme=dark] .colab-df-convert {\n",
              "      background-color: #3B4455;\n",
              "      fill: #D2E3FC;\n",
              "    }\n",
              "\n",
              "    [theme=dark] .colab-df-convert:hover {\n",
              "      background-color: #434B5C;\n",
              "      box-shadow: 0px 1px 3px 1px rgba(0, 0, 0, 0.15);\n",
              "      filter: drop-shadow(0px 1px 2px rgba(0, 0, 0, 0.3));\n",
              "      fill: #FFFFFF;\n",
              "    }\n",
              "  </style>\n",
              "\n",
              "      <script>\n",
              "        const buttonEl =\n",
              "          document.querySelector('#df-f676b55f-a80e-4ebe-ad9a-857ae068f6f0 button.colab-df-convert');\n",
              "        buttonEl.style.display =\n",
              "          google.colab.kernel.accessAllowed ? 'block' : 'none';\n",
              "\n",
              "        async function convertToInteractive(key) {\n",
              "          const element = document.querySelector('#df-f676b55f-a80e-4ebe-ad9a-857ae068f6f0');\n",
              "          const dataTable =\n",
              "            await google.colab.kernel.invokeFunction('convertToInteractive',\n",
              "                                                     [key], {});\n",
              "          if (!dataTable) return;\n",
              "\n",
              "          const docLinkHtml = 'Like what you see? Visit the ' +\n",
              "            '<a target=\"_blank\" href=https://colab.research.google.com/notebooks/data_table.ipynb>data table notebook</a>'\n",
              "            + ' to learn more about interactive tables.';\n",
              "          element.innerHTML = '';\n",
              "          dataTable['output_type'] = 'display_data';\n",
              "          await google.colab.output.renderOutput(dataTable, element);\n",
              "          const docLink = document.createElement('div');\n",
              "          docLink.innerHTML = docLinkHtml;\n",
              "          element.appendChild(docLink);\n",
              "        }\n",
              "      </script>\n",
              "    </div>\n",
              "  </div>\n",
              "  "
            ]
          },
          "metadata": {},
          "execution_count": 29
        }
      ]
    },
    {
      "cell_type": "markdown",
      "source": [
        "### Variance Inflation Factor(VIF)"
      ],
      "metadata": {
        "id": "11drywbO7233"
      }
    },
    {
      "cell_type": "code",
      "source": [
        "# compute VIF and drop one of the variables whose VIF > 5\n",
        "pd.DataFrame(np.linalg.inv(correlation.values), index = correlation.index, columns=correlation.columns)"
      ],
      "metadata": {
        "id": "4BSrJWy5Qida",
        "colab": {
          "base_uri": "https://localhost:8080/",
          "height": 0
        },
        "outputId": "865225ba-7b42-4e41-ed2d-a879c9301a50"
      },
      "execution_count": 30,
      "outputs": [
        {
          "output_type": "execute_result",
          "data": {
            "text/plain": [
              "               bedrooms  bathrooms   sqft_living  sqft_lot    floors  \\\n",
              "bedrooms       1.644100  -0.460756  1.268556e-02  0.044613  0.070495   \n",
              "bathrooms     -0.460756   3.347865 -8.516564e-02 -0.019235 -0.681459   \n",
              "sqft_living    0.026077  -0.078057 -1.486117e+14 -0.196977  1.876379   \n",
              "sqft_lot       0.044613  -0.019235 -1.997270e-01  2.088121  0.074269   \n",
              "floors         0.070495  -0.681459  1.878315e+00  0.074269  1.931951   \n",
              "waterfront     0.061553   0.009193 -1.533233e-02  0.028201 -0.003745   \n",
              "view           0.117238  -0.038569 -9.587251e-03 -0.051921 -0.063278   \n",
              "condition     -0.065090  -0.136328  1.499883e-01  0.019180  0.132731   \n",
              "grade          0.326360  -0.288383  5.016141e-01 -0.006188 -0.326791   \n",
              "sqft_above    -0.908962  -1.188378  1.339923e+14 -0.057671 -2.129120   \n",
              "sqft_basement -0.484916  -1.047242  7.161248e+13  0.073353 -0.341296   \n",
              "yr_built       0.092786  -0.916265  4.535510e-03  0.026167 -0.301643   \n",
              "yr_renovated   0.039624  -0.257377 -9.041922e-02  0.012555 -0.057515   \n",
              "sqft_living15  0.012394   0.096078 -1.867838e-02  0.127203  0.358900   \n",
              "sqft_lot15     0.082102   0.076647  5.106961e-01 -1.474750  0.101125   \n",
              "\n",
              "               waterfront      view  condition     grade    sqft_above  \\\n",
              "bedrooms         0.061553  0.117238  -0.065090  0.326360 -9.115111e-01   \n",
              "bathrooms        0.009193 -0.038569  -0.136328 -0.288383 -1.171027e+00   \n",
              "sqft_living     -0.012783 -0.017979   0.151424  0.476640  1.339923e+14   \n",
              "sqft_lot         0.028201 -0.051921   0.019180 -0.006188 -5.587127e-02   \n",
              "floors          -0.003745 -0.063278   0.132731 -0.326791 -2.131861e+00   \n",
              "waterfront       1.203090 -0.493279  -0.015109  0.047894 -9.583270e-02   \n",
              "view            -0.493279  1.404261  -0.008449 -0.184212  5.594525e-02   \n",
              "condition       -0.015109 -0.008449   1.221646 -0.016421 -1.024127e-01   \n",
              "grade            0.047894 -0.184212  -0.016421  3.234590 -1.935576e+00   \n",
              "sqft_above      -0.098076  0.062929  -0.104488 -1.912104 -1.208111e+14   \n",
              "sqft_basement    0.002652 -0.262999  -0.144463 -0.784612 -6.456774e+13   \n",
              "yr_built        -0.021863  0.198828   0.472716 -0.397215  3.426898e-01   \n",
              "yr_renovated    -0.065741 -0.035142   0.194776 -0.040709  5.927573e-02   \n",
              "sqft_living15    0.057360 -0.264402   0.036010 -0.828841 -1.594097e+00   \n",
              "sqft_lot15      -0.016921  0.001930  -0.037954  0.120063 -6.743104e-01   \n",
              "\n",
              "               sqft_basement  yr_built  yr_renovated  sqft_living15  \\\n",
              "bedrooms       -4.829064e-01  0.092786      0.039624       0.012394   \n",
              "bathrooms      -1.032633e+00 -0.916265     -0.257377       0.096078   \n",
              "sqft_living     7.161248e+13 -0.000718     -0.087619       0.071589   \n",
              "sqft_lot        7.431216e-02  0.026167      0.012555       0.127203   \n",
              "floors         -3.433634e-01 -0.301643     -0.057515       0.358900   \n",
              "waterfront      3.839183e-03 -0.021863     -0.065741       0.057360   \n",
              "view           -2.668277e-01  0.198828     -0.035142      -0.264402   \n",
              "condition      -1.437921e-01  0.472716      0.194776       0.036010   \n",
              "grade          -7.974028e-01 -0.397215     -0.040709      -0.828841   \n",
              "sqft_above     -6.456774e+13  0.347426      0.056751      -1.675484   \n",
              "sqft_basement  -3.450837e+13  0.367301      0.043576      -0.444673   \n",
              "yr_built        3.647698e-01  2.012114      0.480938      -0.124166   \n",
              "yr_renovated    4.492548e-02  0.480938      1.143750       0.075617   \n",
              "sqft_living15  -4.011753e-01 -0.124166      0.075617       2.817999   \n",
              "sqft_lot15     -2.842279e-01 -0.107260     -0.030972      -0.168037   \n",
              "\n",
              "               sqft_lot15  \n",
              "bedrooms         0.082102  \n",
              "bathrooms        0.076647  \n",
              "sqft_living      0.509048  \n",
              "sqft_lot        -1.474750  \n",
              "floors           0.101125  \n",
              "waterfront      -0.016921  \n",
              "view             0.001930  \n",
              "condition       -0.037954  \n",
              "grade            0.120063  \n",
              "sqft_above      -0.672825  \n",
              "sqft_basement   -0.283434  \n",
              "yr_built        -0.107260  \n",
              "yr_renovated    -0.030972  \n",
              "sqft_living15   -0.168037  \n",
              "sqft_lot15       2.118475  "
            ],
            "text/html": [
              "\n",
              "  <div id=\"df-15f1c6d1-edb4-42f7-82e2-3796bc724cee\">\n",
              "    <div class=\"colab-df-container\">\n",
              "      <div>\n",
              "<style scoped>\n",
              "    .dataframe tbody tr th:only-of-type {\n",
              "        vertical-align: middle;\n",
              "    }\n",
              "\n",
              "    .dataframe tbody tr th {\n",
              "        vertical-align: top;\n",
              "    }\n",
              "\n",
              "    .dataframe thead th {\n",
              "        text-align: right;\n",
              "    }\n",
              "</style>\n",
              "<table border=\"1\" class=\"dataframe\">\n",
              "  <thead>\n",
              "    <tr style=\"text-align: right;\">\n",
              "      <th></th>\n",
              "      <th>bedrooms</th>\n",
              "      <th>bathrooms</th>\n",
              "      <th>sqft_living</th>\n",
              "      <th>sqft_lot</th>\n",
              "      <th>floors</th>\n",
              "      <th>waterfront</th>\n",
              "      <th>view</th>\n",
              "      <th>condition</th>\n",
              "      <th>grade</th>\n",
              "      <th>sqft_above</th>\n",
              "      <th>sqft_basement</th>\n",
              "      <th>yr_built</th>\n",
              "      <th>yr_renovated</th>\n",
              "      <th>sqft_living15</th>\n",
              "      <th>sqft_lot15</th>\n",
              "    </tr>\n",
              "  </thead>\n",
              "  <tbody>\n",
              "    <tr>\n",
              "      <th>bedrooms</th>\n",
              "      <td>1.644100</td>\n",
              "      <td>-0.460756</td>\n",
              "      <td>1.268556e-02</td>\n",
              "      <td>0.044613</td>\n",
              "      <td>0.070495</td>\n",
              "      <td>0.061553</td>\n",
              "      <td>0.117238</td>\n",
              "      <td>-0.065090</td>\n",
              "      <td>0.326360</td>\n",
              "      <td>-9.115111e-01</td>\n",
              "      <td>-4.829064e-01</td>\n",
              "      <td>0.092786</td>\n",
              "      <td>0.039624</td>\n",
              "      <td>0.012394</td>\n",
              "      <td>0.082102</td>\n",
              "    </tr>\n",
              "    <tr>\n",
              "      <th>bathrooms</th>\n",
              "      <td>-0.460756</td>\n",
              "      <td>3.347865</td>\n",
              "      <td>-8.516564e-02</td>\n",
              "      <td>-0.019235</td>\n",
              "      <td>-0.681459</td>\n",
              "      <td>0.009193</td>\n",
              "      <td>-0.038569</td>\n",
              "      <td>-0.136328</td>\n",
              "      <td>-0.288383</td>\n",
              "      <td>-1.171027e+00</td>\n",
              "      <td>-1.032633e+00</td>\n",
              "      <td>-0.916265</td>\n",
              "      <td>-0.257377</td>\n",
              "      <td>0.096078</td>\n",
              "      <td>0.076647</td>\n",
              "    </tr>\n",
              "    <tr>\n",
              "      <th>sqft_living</th>\n",
              "      <td>0.026077</td>\n",
              "      <td>-0.078057</td>\n",
              "      <td>-1.486117e+14</td>\n",
              "      <td>-0.196977</td>\n",
              "      <td>1.876379</td>\n",
              "      <td>-0.012783</td>\n",
              "      <td>-0.017979</td>\n",
              "      <td>0.151424</td>\n",
              "      <td>0.476640</td>\n",
              "      <td>1.339923e+14</td>\n",
              "      <td>7.161248e+13</td>\n",
              "      <td>-0.000718</td>\n",
              "      <td>-0.087619</td>\n",
              "      <td>0.071589</td>\n",
              "      <td>0.509048</td>\n",
              "    </tr>\n",
              "    <tr>\n",
              "      <th>sqft_lot</th>\n",
              "      <td>0.044613</td>\n",
              "      <td>-0.019235</td>\n",
              "      <td>-1.997270e-01</td>\n",
              "      <td>2.088121</td>\n",
              "      <td>0.074269</td>\n",
              "      <td>0.028201</td>\n",
              "      <td>-0.051921</td>\n",
              "      <td>0.019180</td>\n",
              "      <td>-0.006188</td>\n",
              "      <td>-5.587127e-02</td>\n",
              "      <td>7.431216e-02</td>\n",
              "      <td>0.026167</td>\n",
              "      <td>0.012555</td>\n",
              "      <td>0.127203</td>\n",
              "      <td>-1.474750</td>\n",
              "    </tr>\n",
              "    <tr>\n",
              "      <th>floors</th>\n",
              "      <td>0.070495</td>\n",
              "      <td>-0.681459</td>\n",
              "      <td>1.878315e+00</td>\n",
              "      <td>0.074269</td>\n",
              "      <td>1.931951</td>\n",
              "      <td>-0.003745</td>\n",
              "      <td>-0.063278</td>\n",
              "      <td>0.132731</td>\n",
              "      <td>-0.326791</td>\n",
              "      <td>-2.131861e+00</td>\n",
              "      <td>-3.433634e-01</td>\n",
              "      <td>-0.301643</td>\n",
              "      <td>-0.057515</td>\n",
              "      <td>0.358900</td>\n",
              "      <td>0.101125</td>\n",
              "    </tr>\n",
              "    <tr>\n",
              "      <th>waterfront</th>\n",
              "      <td>0.061553</td>\n",
              "      <td>0.009193</td>\n",
              "      <td>-1.533233e-02</td>\n",
              "      <td>0.028201</td>\n",
              "      <td>-0.003745</td>\n",
              "      <td>1.203090</td>\n",
              "      <td>-0.493279</td>\n",
              "      <td>-0.015109</td>\n",
              "      <td>0.047894</td>\n",
              "      <td>-9.583270e-02</td>\n",
              "      <td>3.839183e-03</td>\n",
              "      <td>-0.021863</td>\n",
              "      <td>-0.065741</td>\n",
              "      <td>0.057360</td>\n",
              "      <td>-0.016921</td>\n",
              "    </tr>\n",
              "    <tr>\n",
              "      <th>view</th>\n",
              "      <td>0.117238</td>\n",
              "      <td>-0.038569</td>\n",
              "      <td>-9.587251e-03</td>\n",
              "      <td>-0.051921</td>\n",
              "      <td>-0.063278</td>\n",
              "      <td>-0.493279</td>\n",
              "      <td>1.404261</td>\n",
              "      <td>-0.008449</td>\n",
              "      <td>-0.184212</td>\n",
              "      <td>5.594525e-02</td>\n",
              "      <td>-2.668277e-01</td>\n",
              "      <td>0.198828</td>\n",
              "      <td>-0.035142</td>\n",
              "      <td>-0.264402</td>\n",
              "      <td>0.001930</td>\n",
              "    </tr>\n",
              "    <tr>\n",
              "      <th>condition</th>\n",
              "      <td>-0.065090</td>\n",
              "      <td>-0.136328</td>\n",
              "      <td>1.499883e-01</td>\n",
              "      <td>0.019180</td>\n",
              "      <td>0.132731</td>\n",
              "      <td>-0.015109</td>\n",
              "      <td>-0.008449</td>\n",
              "      <td>1.221646</td>\n",
              "      <td>-0.016421</td>\n",
              "      <td>-1.024127e-01</td>\n",
              "      <td>-1.437921e-01</td>\n",
              "      <td>0.472716</td>\n",
              "      <td>0.194776</td>\n",
              "      <td>0.036010</td>\n",
              "      <td>-0.037954</td>\n",
              "    </tr>\n",
              "    <tr>\n",
              "      <th>grade</th>\n",
              "      <td>0.326360</td>\n",
              "      <td>-0.288383</td>\n",
              "      <td>5.016141e-01</td>\n",
              "      <td>-0.006188</td>\n",
              "      <td>-0.326791</td>\n",
              "      <td>0.047894</td>\n",
              "      <td>-0.184212</td>\n",
              "      <td>-0.016421</td>\n",
              "      <td>3.234590</td>\n",
              "      <td>-1.935576e+00</td>\n",
              "      <td>-7.974028e-01</td>\n",
              "      <td>-0.397215</td>\n",
              "      <td>-0.040709</td>\n",
              "      <td>-0.828841</td>\n",
              "      <td>0.120063</td>\n",
              "    </tr>\n",
              "    <tr>\n",
              "      <th>sqft_above</th>\n",
              "      <td>-0.908962</td>\n",
              "      <td>-1.188378</td>\n",
              "      <td>1.339923e+14</td>\n",
              "      <td>-0.057671</td>\n",
              "      <td>-2.129120</td>\n",
              "      <td>-0.098076</td>\n",
              "      <td>0.062929</td>\n",
              "      <td>-0.104488</td>\n",
              "      <td>-1.912104</td>\n",
              "      <td>-1.208111e+14</td>\n",
              "      <td>-6.456774e+13</td>\n",
              "      <td>0.347426</td>\n",
              "      <td>0.056751</td>\n",
              "      <td>-1.675484</td>\n",
              "      <td>-0.672825</td>\n",
              "    </tr>\n",
              "    <tr>\n",
              "      <th>sqft_basement</th>\n",
              "      <td>-0.484916</td>\n",
              "      <td>-1.047242</td>\n",
              "      <td>7.161248e+13</td>\n",
              "      <td>0.073353</td>\n",
              "      <td>-0.341296</td>\n",
              "      <td>0.002652</td>\n",
              "      <td>-0.262999</td>\n",
              "      <td>-0.144463</td>\n",
              "      <td>-0.784612</td>\n",
              "      <td>-6.456774e+13</td>\n",
              "      <td>-3.450837e+13</td>\n",
              "      <td>0.367301</td>\n",
              "      <td>0.043576</td>\n",
              "      <td>-0.444673</td>\n",
              "      <td>-0.283434</td>\n",
              "    </tr>\n",
              "    <tr>\n",
              "      <th>yr_built</th>\n",
              "      <td>0.092786</td>\n",
              "      <td>-0.916265</td>\n",
              "      <td>4.535510e-03</td>\n",
              "      <td>0.026167</td>\n",
              "      <td>-0.301643</td>\n",
              "      <td>-0.021863</td>\n",
              "      <td>0.198828</td>\n",
              "      <td>0.472716</td>\n",
              "      <td>-0.397215</td>\n",
              "      <td>3.426898e-01</td>\n",
              "      <td>3.647698e-01</td>\n",
              "      <td>2.012114</td>\n",
              "      <td>0.480938</td>\n",
              "      <td>-0.124166</td>\n",
              "      <td>-0.107260</td>\n",
              "    </tr>\n",
              "    <tr>\n",
              "      <th>yr_renovated</th>\n",
              "      <td>0.039624</td>\n",
              "      <td>-0.257377</td>\n",
              "      <td>-9.041922e-02</td>\n",
              "      <td>0.012555</td>\n",
              "      <td>-0.057515</td>\n",
              "      <td>-0.065741</td>\n",
              "      <td>-0.035142</td>\n",
              "      <td>0.194776</td>\n",
              "      <td>-0.040709</td>\n",
              "      <td>5.927573e-02</td>\n",
              "      <td>4.492548e-02</td>\n",
              "      <td>0.480938</td>\n",
              "      <td>1.143750</td>\n",
              "      <td>0.075617</td>\n",
              "      <td>-0.030972</td>\n",
              "    </tr>\n",
              "    <tr>\n",
              "      <th>sqft_living15</th>\n",
              "      <td>0.012394</td>\n",
              "      <td>0.096078</td>\n",
              "      <td>-1.867838e-02</td>\n",
              "      <td>0.127203</td>\n",
              "      <td>0.358900</td>\n",
              "      <td>0.057360</td>\n",
              "      <td>-0.264402</td>\n",
              "      <td>0.036010</td>\n",
              "      <td>-0.828841</td>\n",
              "      <td>-1.594097e+00</td>\n",
              "      <td>-4.011753e-01</td>\n",
              "      <td>-0.124166</td>\n",
              "      <td>0.075617</td>\n",
              "      <td>2.817999</td>\n",
              "      <td>-0.168037</td>\n",
              "    </tr>\n",
              "    <tr>\n",
              "      <th>sqft_lot15</th>\n",
              "      <td>0.082102</td>\n",
              "      <td>0.076647</td>\n",
              "      <td>5.106961e-01</td>\n",
              "      <td>-1.474750</td>\n",
              "      <td>0.101125</td>\n",
              "      <td>-0.016921</td>\n",
              "      <td>0.001930</td>\n",
              "      <td>-0.037954</td>\n",
              "      <td>0.120063</td>\n",
              "      <td>-6.743104e-01</td>\n",
              "      <td>-2.842279e-01</td>\n",
              "      <td>-0.107260</td>\n",
              "      <td>-0.030972</td>\n",
              "      <td>-0.168037</td>\n",
              "      <td>2.118475</td>\n",
              "    </tr>\n",
              "  </tbody>\n",
              "</table>\n",
              "</div>\n",
              "      <button class=\"colab-df-convert\" onclick=\"convertToInteractive('df-15f1c6d1-edb4-42f7-82e2-3796bc724cee')\"\n",
              "              title=\"Convert this dataframe to an interactive table.\"\n",
              "              style=\"display:none;\">\n",
              "        \n",
              "  <svg xmlns=\"http://www.w3.org/2000/svg\" height=\"24px\"viewBox=\"0 0 24 24\"\n",
              "       width=\"24px\">\n",
              "    <path d=\"M0 0h24v24H0V0z\" fill=\"none\"/>\n",
              "    <path d=\"M18.56 5.44l.94 2.06.94-2.06 2.06-.94-2.06-.94-.94-2.06-.94 2.06-2.06.94zm-11 1L8.5 8.5l.94-2.06 2.06-.94-2.06-.94L8.5 2.5l-.94 2.06-2.06.94zm10 10l.94 2.06.94-2.06 2.06-.94-2.06-.94-.94-2.06-.94 2.06-2.06.94z\"/><path d=\"M17.41 7.96l-1.37-1.37c-.4-.4-.92-.59-1.43-.59-.52 0-1.04.2-1.43.59L10.3 9.45l-7.72 7.72c-.78.78-.78 2.05 0 2.83L4 21.41c.39.39.9.59 1.41.59.51 0 1.02-.2 1.41-.59l7.78-7.78 2.81-2.81c.8-.78.8-2.07 0-2.86zM5.41 20L4 18.59l7.72-7.72 1.47 1.35L5.41 20z\"/>\n",
              "  </svg>\n",
              "      </button>\n",
              "      \n",
              "  <style>\n",
              "    .colab-df-container {\n",
              "      display:flex;\n",
              "      flex-wrap:wrap;\n",
              "      gap: 12px;\n",
              "    }\n",
              "\n",
              "    .colab-df-convert {\n",
              "      background-color: #E8F0FE;\n",
              "      border: none;\n",
              "      border-radius: 50%;\n",
              "      cursor: pointer;\n",
              "      display: none;\n",
              "      fill: #1967D2;\n",
              "      height: 32px;\n",
              "      padding: 0 0 0 0;\n",
              "      width: 32px;\n",
              "    }\n",
              "\n",
              "    .colab-df-convert:hover {\n",
              "      background-color: #E2EBFA;\n",
              "      box-shadow: 0px 1px 2px rgba(60, 64, 67, 0.3), 0px 1px 3px 1px rgba(60, 64, 67, 0.15);\n",
              "      fill: #174EA6;\n",
              "    }\n",
              "\n",
              "    [theme=dark] .colab-df-convert {\n",
              "      background-color: #3B4455;\n",
              "      fill: #D2E3FC;\n",
              "    }\n",
              "\n",
              "    [theme=dark] .colab-df-convert:hover {\n",
              "      background-color: #434B5C;\n",
              "      box-shadow: 0px 1px 3px 1px rgba(0, 0, 0, 0.15);\n",
              "      filter: drop-shadow(0px 1px 2px rgba(0, 0, 0, 0.3));\n",
              "      fill: #FFFFFF;\n",
              "    }\n",
              "  </style>\n",
              "\n",
              "      <script>\n",
              "        const buttonEl =\n",
              "          document.querySelector('#df-15f1c6d1-edb4-42f7-82e2-3796bc724cee button.colab-df-convert');\n",
              "        buttonEl.style.display =\n",
              "          google.colab.kernel.accessAllowed ? 'block' : 'none';\n",
              "\n",
              "        async function convertToInteractive(key) {\n",
              "          const element = document.querySelector('#df-15f1c6d1-edb4-42f7-82e2-3796bc724cee');\n",
              "          const dataTable =\n",
              "            await google.colab.kernel.invokeFunction('convertToInteractive',\n",
              "                                                     [key], {});\n",
              "          if (!dataTable) return;\n",
              "\n",
              "          const docLinkHtml = 'Like what you see? Visit the ' +\n",
              "            '<a target=\"_blank\" href=https://colab.research.google.com/notebooks/data_table.ipynb>data table notebook</a>'\n",
              "            + ' to learn more about interactive tables.';\n",
              "          element.innerHTML = '';\n",
              "          dataTable['output_type'] = 'display_data';\n",
              "          await google.colab.output.renderOutput(dataTable, element);\n",
              "          const docLink = document.createElement('div');\n",
              "          docLink.innerHTML = docLinkHtml;\n",
              "          element.appendChild(docLink);\n",
              "        }\n",
              "      </script>\n",
              "    </div>\n",
              "  </div>\n",
              "  "
            ]
          },
          "metadata": {},
          "execution_count": 30
        }
      ]
    },
    {
      "cell_type": "markdown",
      "source": [
        "Variables with VIF > 5 include: sqft_lot15 vs sqft_living,  grade vs sqft_living,  yr_renovated vs sqft_above,  view vs sqft_above,  sqft_basement vs sqft_lot,  sqft_basement vs sqft_living\n",
        "\n",
        "---\n",
        "\n"
      ],
      "metadata": {
        "id": "0S1CULmR8jfo"
      }
    },
    {
      "cell_type": "code",
      "source": [
        "# drop one variable for every pairs with vif > 5\n",
        "housing.drop(columns = ['sqft_lot15', 'grade', 'yr_renovated', 'view', 'sqft_basement'], inplace = True)"
      ],
      "metadata": {
        "id": "V26P3Z3a8FCM"
      },
      "execution_count": 31,
      "outputs": []
    },
    {
      "cell_type": "markdown",
      "source": [
        "## Residual PLots and Heteroskedasticity"
      ],
      "metadata": {
        "id": "FhPn_ovRCBqW"
      }
    },
    {
      "cell_type": "code",
      "source": [
        "housing.columns"
      ],
      "metadata": {
        "colab": {
          "base_uri": "https://localhost:8080/"
        },
        "id": "65VybGsOCF2H",
        "outputId": "33f8cf17-edd5-4ffc-c2f9-c23132720419"
      },
      "execution_count": 32,
      "outputs": [
        {
          "output_type": "execute_result",
          "data": {
            "text/plain": [
              "Index(['price', 'bedrooms', 'bathrooms', 'sqft_living', 'sqft_lot', 'floors',\n",
              "       'waterfront', 'condition', 'sqft_above', 'yr_built', 'sqft_living15'],\n",
              "      dtype='object')"
            ]
          },
          "metadata": {},
          "execution_count": 32
        }
      ]
    },
    {
      "cell_type": "code",
      "source": [
        "# separate independent from dependent variables\n",
        "x = housing[['bedrooms', 'bathrooms', 'sqft_living', 'sqft_lot', 'floors', 'waterfront', 'condition', 'sqft_above', 'yr_built', 'sqft_living15']]\n",
        "y = housing['price']\n",
        "\n",
        "# split the data into train test sets\n",
        "x_train, x_test, y_train, y_test = train_test_split(x, y, test_size = 0.2, random_state = 2)"
      ],
      "metadata": {
        "id": "HWqtWVKPCZPM"
      },
      "execution_count": 33,
      "outputs": []
    },
    {
      "cell_type": "code",
      "source": [
        "# instantiate the model\n",
        "regressor = LinearRegression()\n",
        "\n",
        "# fit into the model\n",
        "regressor.fit(x_train, y_train)\n",
        "\n",
        "# predict\n",
        "y_predict = regressor.predict(x_test)\n",
        "\n",
        "# residual\n",
        "residuals = np.subtract(y_predict, y_test)"
      ],
      "metadata": {
        "id": "f_1ceVVdDdAY"
      },
      "execution_count": 34,
      "outputs": []
    },
    {
      "cell_type": "code",
      "source": [
        "# plot the residual plot\n",
        "plt.figure(figsize = (10,8))\n",
        "plt.scatter(y_predict, residuals, color='maroon')\n",
        "plt.ylabel('residual')\n",
        "plt.xlabel('fitted values')\n",
        "plt.axhline(y= residuals.mean(), color='black', linewidth=1)\n",
        "plt.show()\n"
      ],
      "metadata": {
        "colab": {
          "base_uri": "https://localhost:8080/",
          "height": 0
        },
        "id": "Xefwqwl3D8nV",
        "outputId": "c2f89b0a-af81-4ad0-9239-3f5b011e42ef"
      },
      "execution_count": 35,
      "outputs": [
        {
          "output_type": "display_data",
          "data": {
            "text/plain": [
              "<Figure size 720x576 with 1 Axes>"
            ],
            "image/png": "[encoded data removed]"
          },
          "metadata": {
            "needs_background": "light"
          }
        }
      ]
    },
    {
      "cell_type": "code",
      "source": [
        ""
      ],
      "metadata": {
        "id": "EpAb6CxaHhsj"
      },
      "execution_count": 35,
      "outputs": []
    },
    {
      "cell_type": "code",
      "source": [
        "# Heteroskedasticity using Barlett's test\n",
        "\n",
        "test_result, p_value = sp.stats.bartlett(y_predict, residuals)\n",
        "\n",
        "#compute a critical value of the chi squared distribution\n",
        "degree_of_freedom = len(y_predict)-1\n",
        "probability = 1 - p_value\n",
        "\n",
        "critical_value = sp.stats.chi2.ppf(probability, degree_of_freedom)\n",
        "print(critical_value)\n",
        "\n",
        "if (test_result > critical_value):\n",
        "  print('the variances are unequal, and the model should be reassessed')\n",
        "else:\n",
        "  print('the variances are homogeneous!')\n",
        "\n",
        "# whenever the test_result is greater than the critical value, then we reject our null hypothesis\n"
      ],
      "metadata": {
        "id": "ryUauahrHaSf",
        "colab": {
          "base_uri": "https://localhost:8080/"
        },
        "outputId": "51841b75-0f59-42db-99bf-cba0f8d8d4b6"
      },
      "execution_count": 36,
      "outputs": [
        {
          "output_type": "stream",
          "name": "stdout",
          "text": [
            "inf\n",
            "the variances are homogeneous!\n"
          ]
        }
      ]
    },
    {
      "cell_type": "markdown",
      "source": [
        "## Modelling\n",
        "### 1. Multiple Linear Regression"
      ],
      "metadata": {
        "id": "6Cu-NwwuAQa2"
      }
    },
    {
      "cell_type": "code",
      "source": [
        "# since we had split the dataset while plotting the residuals, we will use that\n",
        "\n",
        "# so let us just fit into the model and check the performance of the multiple linear regression model\n",
        "\n",
        "regressor = LinearRegression()  \n",
        "regressor.fit(x_train, y_train)\n",
        "\n",
        "# predict\n",
        "y_predict = regressor.predict(x_test)\n"
      ],
      "metadata": {
        "id": "QTo3-oMv-__K"
      },
      "execution_count": 37,
      "outputs": []
    },
    {
      "cell_type": "code",
      "source": [
        "# performance of the model\n",
        "print('Mean Absolute Error:', mean_absolute_error(y_test, y_predict))  \n",
        "print('rmse:', np.sqrt(mean_squared_error(y_test, y_predict)))\n",
        "print('r2_score:', r2_score(y_test, y_predict))"
      ],
      "metadata": {
        "colab": {
          "base_uri": "https://localhost:8080/"
        },
        "id": "RbfWi2qBGKNj",
        "outputId": "17685dfc-56a7-4f7d-d37e-c4041da53b45"
      },
      "execution_count": 38,
      "outputs": [
        {
          "output_type": "stream",
          "name": "stdout",
          "text": [
            "Mean Absolute Error: 153829.0994344607\n",
            "rmse: 232234.65536875316\n",
            "r2_score: 0.6141477794946179\n"
          ]
        }
      ]
    },
    {
      "cell_type": "markdown",
      "source": [
        "We will have to model using other algorithms in order to comment on this\n",
        "\n",
        "This will be the base model, with RMSE ~ 232,234"
      ],
      "metadata": {
        "id": "9dAYsuMNH9MB"
      }
    },
    {
      "cell_type": "code",
      "source": [
        "# coefficients\n",
        "regressor.coef_"
      ],
      "metadata": {
        "colab": {
          "base_uri": "https://localhost:8080/"
        },
        "id": "I0LNXcO0FvbZ",
        "outputId": "672ea85a-8a9c-426e-dfce-6c3074d1475d"
      },
      "execution_count": 39,
      "outputs": [
        {
          "output_type": "execute_result",
          "data": {
            "text/plain": [
              "array([-5.83754103e+04,  6.62520538e+04,  2.48312476e+02, -3.19882827e-01,\n",
              "        6.36135909e+04,  7.09669264e+05,  1.86806121e+04, -9.06730547e+00,\n",
              "       -3.26513941e+03,  8.50805732e+01])"
            ]
          },
          "metadata": {},
          "execution_count": 39
        }
      ]
    },
    {
      "cell_type": "code",
      "source": [
        "# regressor score\n",
        "regressor.score(x_train,y_train)"
      ],
      "metadata": {
        "colab": {
          "base_uri": "https://localhost:8080/"
        },
        "id": "pdrAcX-bHPeh",
        "outputId": "62045b61-eb17-466e-bb18-513584489f1d"
      },
      "execution_count": 40,
      "outputs": [
        {
          "output_type": "execute_result",
          "data": {
            "text/plain": [
              "0.5930878818254872"
            ]
          },
          "metadata": {},
          "execution_count": 40
        }
      ]
    },
    {
      "cell_type": "markdown",
      "source": [
        "### 2. Quantile Regression"
      ],
      "metadata": {
        "id": "oKYAZ2VuJMs1"
      }
    },
    {
      "cell_type": "code",
      "source": [
        "housing.columns"
      ],
      "metadata": {
        "colab": {
          "base_uri": "https://localhost:8080/"
        },
        "id": "1vtbIL1RKyiJ",
        "outputId": "1e186185-ac9b-4315-f5bd-2b47e9e5ad8a"
      },
      "execution_count": 41,
      "outputs": [
        {
          "output_type": "execute_result",
          "data": {
            "text/plain": [
              "Index(['price', 'bedrooms', 'bathrooms', 'sqft_living', 'sqft_lot', 'floors',\n",
              "       'waterfront', 'condition', 'sqft_above', 'yr_built', 'sqft_living15'],\n",
              "      dtype='object')"
            ]
          },
          "metadata": {},
          "execution_count": 41
        }
      ]
    },
    {
      "cell_type": "code",
      "source": [
        "# We will use the python package statsmodels for Quantile Regression\n",
        "#\n",
        "import statsmodels.formula.api as smf\n",
        "\n",
        "# split into dependent and dependent\n",
        "x = housing.drop('price', axis = 1)\n",
        "y = housing['price']\n",
        "\n",
        "# split into train and test data\n",
        "x_train, x_test, y_train, y_test = train_test_split(x,y ,test_size=0.2, random_state=2)\n",
        "\n",
        "# Finding the regression coefficients for the conditioned median, 0.5 quantile\n",
        "#\n",
        "mod = smf.quantreg('y ~ x', housing)\n",
        "res = mod.fit(q=.5)\n",
        "\n",
        "# Then print out the summary of our model\n",
        "#\n",
        "print(res.summary())\n",
        "\n",
        "# our intercept is  4.063e+06  \n",
        "#  Pseudo R-squared is 0.3312"
      ],
      "metadata": {
        "colab": {
          "base_uri": "https://localhost:8080/"
        },
        "id": "vTK3vndOKrL-",
        "outputId": "42b98889-72bd-4fe6-848e-7964e98b4279"
      },
      "execution_count": 42,
      "outputs": [
        {
          "output_type": "stream",
          "name": "stdout",
          "text": [
            "                         QuantReg Regression Results                          \n",
            "==============================================================================\n",
            "Dep. Variable:                      y   Pseudo R-squared:               0.3312\n",
            "Model:                       QuantReg   Bandwidth:                   2.730e+04\n",
            "Method:                 Least Squares   Sparsity:                    3.825e+05\n",
            "Date:                Sat, 07 May 2022   No. Observations:                21613\n",
            "Time:                        18:01:49   Df Residuals:                    21602\n",
            "                                        Df Model:                           10\n",
            "==============================================================================\n",
            "                 coef    std err          t      P>|t|      [0.025      0.975]\n",
            "------------------------------------------------------------------------------\n",
            "Intercept   4.063e+06   1.15e+05     35.407      0.000    3.84e+06    4.29e+06\n",
            "x[0]       -4.533e+04   1765.964    -25.670      0.000   -4.88e+04   -4.19e+04\n",
            "x[1]        3.029e+04   3048.576      9.935      0.000    2.43e+04    3.63e+04\n",
            "x[2]         201.5716      3.959     50.920      0.000     193.812     209.331\n",
            "x[3]          -0.1342      0.032     -4.153      0.000      -0.198      -0.071\n",
            "x[4]        8.673e+04   3307.696     26.221      0.000    8.02e+04    9.32e+04\n",
            "x[5]         6.38e+05   1.52e+04     41.918      0.000    6.08e+05    6.68e+05\n",
            "x[6]        2.227e+04   2179.160     10.220      0.000     1.8e+04    2.65e+04\n",
            "x[7]         -48.9326      3.938    -12.425      0.000     -56.652     -41.213\n",
            "x[8]       -2143.2972     58.355    -36.729      0.000   -2257.677   -2028.917\n",
            "x[9]         111.7877      3.016     37.062      0.000     105.876     117.700\n",
            "==============================================================================\n",
            "\n",
            "The condition number is large, 3.89e+06. This might indicate that there are\n",
            "strong multicollinearity or other numerical problems.\n"
          ]
        }
      ]
    },
    {
      "cell_type": "code",
      "source": [
        "# we can do the same for different quantiles\n",
        "\n",
        "# 0.25\n",
        "mod = smf.quantreg('y ~ x', housing)\n",
        "res = mod.fit(q=.25)\n",
        "\n",
        "# Then print out the summary of our model\n",
        "#\n",
        "print(res.summary())\n",
        "\n",
        "# our intercept is  2.131e+06 \n",
        "#  Pseudo R-squared is 0.2519"
      ],
      "metadata": {
        "colab": {
          "base_uri": "https://localhost:8080/"
        },
        "id": "KjdmqkHRNnXa",
        "outputId": "36add12b-cdb1-4d9e-d05b-8c3e2dfcbd41"
      },
      "execution_count": 43,
      "outputs": [
        {
          "output_type": "stream",
          "name": "stdout",
          "text": [
            "                         QuantReg Regression Results                          \n",
            "==============================================================================\n",
            "Dep. Variable:                      y   Pseudo R-squared:               0.2519\n",
            "Model:                       QuantReg   Bandwidth:                   2.448e+04\n",
            "Method:                 Least Squares   Sparsity:                    4.167e+05\n",
            "Date:                Sat, 07 May 2022   No. Observations:                21613\n",
            "Time:                        18:01:59   Df Residuals:                    21602\n",
            "                                        Df Model:                           10\n",
            "==============================================================================\n",
            "                 coef    std err          t      P>|t|      [0.025      0.975]\n",
            "------------------------------------------------------------------------------\n",
            "Intercept   2.131e+06      1e+05     21.265      0.000    1.93e+06    2.33e+06\n",
            "x[0]       -3.047e+04   1593.090    -19.128      0.000   -3.36e+04   -2.73e+04\n",
            "x[1]        1.691e+04   2788.927      6.064      0.000    1.14e+04    2.24e+04\n",
            "x[2]         149.3648      3.774     39.573      0.000     141.967     156.763\n",
            "x[3]          -0.0332      0.028     -1.176      0.240      -0.088       0.022\n",
            "x[4]        6.448e+04   2782.228     23.175      0.000     5.9e+04    6.99e+04\n",
            "x[5]        3.524e+05   1.43e+04     24.580      0.000    3.24e+05    3.81e+05\n",
            "x[6]        2.458e+04   2053.772     11.969      0.000    2.06e+04    2.86e+04\n",
            "x[7]         -35.0658      3.609     -9.716      0.000     -42.140     -27.991\n",
            "x[8]       -1158.0512     50.522    -22.922      0.000   -1257.079   -1059.023\n",
            "x[9]          92.9093      2.629     35.339      0.000      87.756      98.063\n",
            "==============================================================================\n",
            "\n",
            "The condition number is large, 3.89e+06. This might indicate that there are\n",
            "strong multicollinearity or other numerical problems.\n"
          ]
        }
      ]
    },
    {
      "cell_type": "code",
      "source": [
        "# we can do the same for different quantiles\n",
        "\n",
        "# 0.75\n",
        "mod = smf.quantreg('y ~ x', housing)\n",
        "res = mod.fit(q=.75)\n",
        "\n",
        "# Then print out the summary of our model\n",
        "#\n",
        "print(res.summary())\n",
        "\n",
        "# our intercept is  3.041e+06 \n",
        "# Pseudo R-squared is 0.3930"
      ],
      "metadata": {
        "colab": {
          "base_uri": "https://localhost:8080/"
        },
        "id": "GBlfMPwtNziC",
        "outputId": "738d4a37-67da-429c-bcd3-674bbc03bd9a"
      },
      "execution_count": 44,
      "outputs": [
        {
          "output_type": "stream",
          "name": "stdout",
          "text": [
            "                         QuantReg Regression Results                          \n",
            "==============================================================================\n",
            "Dep. Variable:                      y   Pseudo R-squared:               0.3930\n",
            "Model:                       QuantReg   Bandwidth:                   2.507e+04\n",
            "Method:                 Least Squares   Sparsity:                    5.118e+05\n",
            "Date:                Sat, 07 May 2022   No. Observations:                21613\n",
            "Time:                        18:02:09   Df Residuals:                    21602\n",
            "                                        Df Model:                           10\n",
            "==============================================================================\n",
            "                 coef    std err          t      P>|t|      [0.025      0.975]\n",
            "------------------------------------------------------------------------------\n",
            "Intercept   3.041e+06   1.54e+05     19.775      0.000    2.74e+06    3.34e+06\n",
            "x[0]       -5.066e+04   2327.755    -21.763      0.000   -5.52e+04   -4.61e+04\n",
            "x[1]        1.213e+04   3793.457      3.198      0.001    4695.041    1.96e+04\n",
            "x[2]         270.7318      4.894     55.323      0.000     261.140     280.324\n",
            "x[3]          -0.1315      0.045     -2.920      0.003      -0.220      -0.043\n",
            "x[4]        7.212e+04   4358.620     16.546      0.000    6.36e+04    8.07e+04\n",
            "x[5]        1.067e+06   1.74e+04     61.378      0.000    1.03e+06     1.1e+06\n",
            "x[6]        2.903e+04   2627.783     11.047      0.000    2.39e+04    3.42e+04\n",
            "x[7]         -55.2250      4.857    -11.371      0.000     -64.745     -45.705\n",
            "x[8]       -1596.0410     78.758    -20.265      0.000   -1750.413   -1441.669\n",
            "x[9]         100.8648      3.980     25.341      0.000      93.063     108.666\n",
            "==============================================================================\n",
            "\n",
            "The condition number is large, 3.89e+06. This might indicate that there are\n",
            "strong multicollinearity or other numerical problems.\n"
          ]
        }
      ]
    },
    {
      "cell_type": "markdown",
      "source": [
        "### 3. Ridge Regression"
      ],
      "metadata": {
        "id": "R2OZmUnYJ4id"
      }
    },
    {
      "cell_type": "code",
      "source": [
        "# split into dependent and dependent\n",
        "x = housing.drop('price', axis = 1)\n",
        "y = housing['price']\n",
        "\n",
        "# In order to create our ridge model we need to first determine the most appropriate value for the l2 regularization. \n",
        "# L2 is the name of the hyperparameter that is used in ridge regression. \n",
        "# Determining the value of a hyperparameter requires the use of a grid.\n",
        "\n",
        "ridge = Ridge()\n",
        "search = GridSearchCV(estimator=ridge,param_grid={'alpha':np.logspace(-5,2,8)},scoring='neg_mean_squared_error',n_jobs=1,refit=True,cv=10)\n",
        "\n",
        "# fit the function to searh for the best parameters\n",
        "search.fit(x,y)\n",
        "print(search.best_params_)\n",
        "{'alpha': 0.01}\n",
        "abs(search.best_score_) \n",
        "\n",
        "# The best_params_ tells us what to set alpha too which in this case is 1.0. \n",
        "# The best_score_ tells us what the best possible mean squared error is 55218959186.517845, which is way far than that of the base model"
      ],
      "metadata": {
        "colab": {
          "base_uri": "https://localhost:8080/"
        },
        "id": "gFhtbA-jTQiK",
        "outputId": "fab012b2-273d-4cc5-81bb-621e6b75e8d5"
      },
      "execution_count": 45,
      "outputs": [
        {
          "output_type": "stream",
          "name": "stdout",
          "text": [
            "{'alpha': 1.0}\n"
          ]
        },
        {
          "output_type": "execute_result",
          "data": {
            "text/plain": [
              "55218959186.517845"
            ]
          },
          "metadata": {},
          "execution_count": 45
        }
      ]
    },
    {
      "cell_type": "code",
      "source": [
        "# We can confirm this by fitting our model with the ridge information and finding the mean squared error below\n",
        "#\n",
        "ridge = Ridge(normalize = True, alpha=1.0)\n",
        "ridge.fit(x,y)\n",
        "ridge_model = (mean_squared_error(y_true=y,y_pred=ridge.predict(x)))\n",
        "print(ridge_model)"
      ],
      "metadata": {
        "colab": {
          "base_uri": "https://localhost:8080/"
        },
        "id": "PJKYp_8aWABa",
        "outputId": "bf9c84ad-38b3-4d9d-cafa-b864a9a0286f"
      },
      "execution_count": 46,
      "outputs": [
        {
          "output_type": "stream",
          "name": "stdout",
          "text": [
            "66507718836.73333\n"
          ]
        }
      ]
    },
    {
      "cell_type": "markdown",
      "source": [
        "The RMSE we find for this model is far worse that the base model, which was 232234"
      ],
      "metadata": {
        "id": "saIUccLVWW0R"
      }
    },
    {
      "cell_type": "markdown",
      "source": [
        "### 4. Lasso Regression"
      ],
      "metadata": {
        "id": "SAwPNLdlJ8KV"
      }
    },
    {
      "cell_type": "code",
      "source": [
        "# split into dependent and dependent\n",
        "x = housing.drop('price', axis = 1)\n",
        "y = housing['price']\n",
        "\n",
        "# Standadizing our features\n",
        "#\n",
        "scaler = StandardScaler()\n",
        "x_std = scaler.fit_transform(x)\n",
        "                            \n",
        "# Splitting the data into training and test sets\n",
        "#\n",
        "x_train, x_test, y_train, y_test = train_test_split(x, y, test_size=0.25, random_state=101)\n",
        "parameters = {'alpha': np.concatenate((np.arange(0.1,2,0.1), np.arange(2, 5, 0.5), np.arange(5, 25, 1)))}\n",
        "\n",
        "\n",
        "# building Lasso, \n",
        "linear = LinearRegression()\n",
        "lasso = Lasso() \n",
        "gridlasso = GridSearchCV(lasso, parameters, scoring ='r2') \n",
        "\n",
        "\n",
        "# and choosing the regularization parameter with the help of GridSearch. \n",
        "# For that, we have to define the set of parameters for GridSearch. \n",
        "# In this case, a model with the highest R-squared score will give us the best parameters.\n",
        "# \n",
        "\n",
        "# Fitting models and print the best parameters, R-squared scores, MSE, and coefficients\n",
        "gridlasso.fit(x_train, y_train) \n",
        "\n",
        "\n",
        "print(\"lasso best parameters:\", gridlasso.best_params_) \n",
        "print(\"lasso score:\", gridlasso.score(x_test, y_test))\n",
        "\n",
        "print(\"lasso MSE:\", mean_squared_error(y_test, gridlasso.predict(x_test)))\n",
        "print(\"lasso best estimator coef:\", gridlasso.best_estimator_.coef_)\n"
      ],
      "metadata": {
        "colab": {
          "base_uri": "https://localhost:8080/"
        },
        "id": "bXtUbSq1jbg5",
        "outputId": "7341f68f-cbc9-441e-b8a9-c57c6af1f8f9"
      },
      "execution_count": 47,
      "outputs": [
        {
          "output_type": "stream",
          "name": "stdout",
          "text": [
            "lasso best parameters: {'alpha': 24.0}\n",
            "lasso score: 0.6139242049078963\n",
            "lasso MSE: 54809973246.659386\n",
            "lasso best estimator coef: [-6.13732406e+04  6.15835261e+04  2.41224590e+02 -2.60423030e-01\n",
            "  6.33739986e+04  7.01719855e+05  2.13382815e+04 -1.55058003e+00\n",
            " -3.24088643e+03  9.09278756e+01]\n"
          ]
        }
      ]
    },
    {
      "cell_type": "code",
      "source": [
        "# Fit lasso regression with the best alpha found above\n",
        "lasso = Lasso(normalize=True,alpha=24.0)\n",
        "lasso.fit(x,y)\n",
        "\n",
        "# find rmse\n",
        "lasso_model = np.sqrt(mean_squared_error(y_true=y,y_pred=lasso.predict(x)))\n",
        "print(lasso_model)"
      ],
      "metadata": {
        "colab": {
          "base_uri": "https://localhost:8080/"
        },
        "id": "peFf3r8imUrC",
        "outputId": "77f7feea-6541-4b99-9f2d-fa189c424ccb"
      },
      "execution_count": 48,
      "outputs": [
        {
          "output_type": "stream",
          "name": "stdout",
          "text": [
            "233396.1142744287\n"
          ]
        }
      ]
    },
    {
      "cell_type": "markdown",
      "source": [
        "RMSE for lasso model is better than that of ridge, however it performs poor compared to the base model"
      ],
      "metadata": {
        "id": "_hWryb3NnY1K"
      }
    },
    {
      "cell_type": "markdown",
      "source": [
        "### 5. Elastic Net Regression"
      ],
      "metadata": {
        "id": "jEKC4KYqJ_yR"
      }
    },
    {
      "cell_type": "code",
      "source": [
        "# elastic net model\n",
        "elastic=ElasticNet(normalize=True)\n",
        "search=GridSearchCV(estimator=elastic,param_grid={'alpha':np.logspace(-5,2,8),'l1_ratio':[.2,.4,.6,.8]},scoring='neg_mean_squared_error',n_jobs=1,refit=True,cv=10)"
      ],
      "metadata": {
        "id": "vZ71edR6JH_R"
      },
      "execution_count": 49,
      "outputs": []
    },
    {
      "cell_type": "code",
      "source": [
        "# We will now fit our model and display the best parameters and the best results we can get with that setup.\n",
        "# \n",
        "search.fit(x,y)\n",
        "print(search.best_params_)\n",
        "abs(search.best_score_)"
      ],
      "metadata": {
        "colab": {
          "base_uri": "https://localhost:8080/"
        },
        "id": "OcPJG6OooPKg",
        "outputId": "ef2e6130-0a7a-40d6-99db-dd8064e86de3"
      },
      "execution_count": 50,
      "outputs": [
        {
          "output_type": "stream",
          "name": "stdout",
          "text": [
            "{'alpha': 1e-05, 'l1_ratio': 0.8}\n"
          ]
        },
        {
          "output_type": "execute_result",
          "data": {
            "text/plain": [
              "55421134844.47526"
            ]
          },
          "metadata": {},
          "execution_count": 50
        }
      ]
    },
    {
      "cell_type": "code",
      "source": [
        "# let's fit the best parameters obtained\n",
        "elastic=ElasticNet(normalize=True,alpha= 1e-05,l1_ratio=0.8)\n",
        "elastic.fit(x,y)\n",
        "elastic_model=np.sqrt(mean_squared_error(y_true=y,y_pred=elastic.predict(x)))\n",
        "print(elastic_model)"
      ],
      "metadata": {
        "colab": {
          "base_uri": "https://localhost:8080/"
        },
        "id": "iSvSETAAoVDb",
        "outputId": "ab22831f-c894-48d0-ba7c-dcc615965624"
      },
      "execution_count": 51,
      "outputs": [
        {
          "output_type": "stream",
          "name": "stdout",
          "text": [
            "233758.46948697523\n"
          ]
        }
      ]
    },
    {
      "cell_type": "markdown",
      "source": [
        "This model does not perfom better than the base model too\n",
        "\n",
        "RMSE is in the same range as that of lasso, slightly higher than that of lasso"
      ],
      "metadata": {
        "id": "8H5858XWoy7R"
      }
    },
    {
      "cell_type": "code",
      "source": [
        ""
      ],
      "metadata": {
        "id": "VLN-tXHkoteo"
      },
      "execution_count": 51,
      "outputs": []
    },
    {
      "cell_type": "markdown",
      "source": [
        "## Conclusion"
      ],
      "metadata": {
        "id": "8B7T4LWjpqtt"
      }
    },
    {
      "cell_type": "markdown",
      "source": [
        "We can conclude that the baseline model(multiple linear regression) perform the best when compared to the rest (quantile, ridge, lasso and elastic net)"
      ],
      "metadata": {
        "id": "I8yVL4EQptTC"
      }
    }
  ]
}